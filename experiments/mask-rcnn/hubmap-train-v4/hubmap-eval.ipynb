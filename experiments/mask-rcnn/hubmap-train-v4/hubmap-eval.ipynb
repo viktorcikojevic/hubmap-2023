{
 "cells": [
  {
   "cell_type": "code",
   "execution_count": 1,
   "id": "eb8d0d83",
   "metadata": {
    "_cell_guid": "b1076dfc-b9ad-4769-8c92-a6c4dae69d19",
    "_uuid": "8f2839f25d086af736a60e9eeb907d3b93b6e0e5",
    "execution": {
     "iopub.execute_input": "2023-07-13T08:18:12.754031Z",
     "iopub.status.busy": "2023-07-13T08:18:12.753333Z",
     "iopub.status.idle": "2023-07-13T08:18:14.825564Z",
     "shell.execute_reply": "2023-07-13T08:18:14.824525Z"
    },
    "papermill": {
     "duration": 2.080853,
     "end_time": "2023-07-13T08:18:14.828158",
     "exception": false,
     "start_time": "2023-07-13T08:18:12.747305",
     "status": "completed"
    },
    "tags": []
   },
   "outputs": [],
   "source": [
    "import os, glob\n",
    "import sys\n",
    "import json\n",
    "from PIL import Image\n",
    "from collections import Counter\n",
    "\n",
    "import numpy as np\n",
    "import pandas as pd\n",
    "import plotly.express as px\n",
    "import plotly.graph_objects as go\n",
    "import tifffile as tiff\n",
    "import matplotlib.pyplot as plt\n",
    "from tqdm import tqdm\n",
    "\n",
    "import cv2\n",
    "\n",
    "from sklearn.model_selection import KFold\n",
    "\n",
    "sys.path.append(\"detection-wheel\")"
   ]
  },
  {
   "cell_type": "code",
   "execution_count": 2,
   "id": "c594d3b0",
   "metadata": {
    "execution": {
     "iopub.execute_input": "2023-07-13T08:18:14.838681Z",
     "iopub.status.busy": "2023-07-13T08:18:14.837787Z",
     "iopub.status.idle": "2023-07-13T08:18:48.867840Z",
     "shell.execute_reply": "2023-07-13T08:18:48.866577Z"
    },
    "papermill": {
     "duration": 34.038023,
     "end_time": "2023-07-13T08:18:48.870784",
     "exception": false,
     "start_time": "2023-07-13T08:18:14.832761",
     "status": "completed"
    },
    "tags": []
   },
   "outputs": [],
   "source": [
    "sys.path.append(\"sumo\")\n",
    "import normalisation"
   ]
  },
  {
   "cell_type": "code",
   "execution_count": 3,
   "id": "229708ab",
   "metadata": {
    "execution": {
     "iopub.execute_input": "2023-07-13T08:18:48.880868Z",
     "iopub.status.busy": "2023-07-13T08:18:48.880517Z",
     "iopub.status.idle": "2023-07-13T08:18:48.884965Z",
     "shell.execute_reply": "2023-07-13T08:18:48.884098Z"
    },
    "papermill": {
     "duration": 0.011663,
     "end_time": "2023-07-13T08:18:48.886976",
     "exception": false,
     "start_time": "2023-07-13T08:18:48.875313",
     "status": "completed"
    },
    "tags": []
   },
   "outputs": [],
   "source": [
    "EPOCHS = 1"
   ]
  },
  {
   "attachments": {},
   "cell_type": "markdown",
   "id": "d8d05502",
   "metadata": {},
   "source": [
    "# Example of using \"normalizeStaining\" function"
   ]
  },
  {
   "cell_type": "code",
   "execution_count": 4,
   "id": "0e31291f",
   "metadata": {},
   "outputs": [
    {
     "data": {
      "text/plain": [
       "<matplotlib.image.AxesImage at 0x7f8f404ebeb0>"
      ]
     },
     "execution_count": 4,
     "metadata": {},
     "output_type": "execute_result"
    },
    {
     "data": {
      "image/png": "[encoded data removed]",
      "text/plain": [
       "<Figure size 640x480 with 1 Axes>"
      ]
     },
     "metadata": {},
     "output_type": "display_data"
    }
   ],
   "source": [
    "img = np.zeros((512, 512, 3), dtype=np.uint8)\n",
    "img[100:200, 100:200, 0] = 255\n",
    "\n",
    "new_img = normalisation.normalizeStaining(img)[0]\n",
    "\n",
    "plt.imshow(new_img)"
   ]
  },
  {
   "cell_type": "code",
   "execution_count": 5,
   "id": "023ee85f",
   "metadata": {},
   "outputs": [],
   "source": [
    "def preprocess_fn_train(img):\n",
    "    # convert img to uint8\n",
    "    img = img.permute(1,2,0).cpu().numpy()\n",
    "    img = (img * 255).astype(np.uint8)\n",
    "    \n",
    "    \n",
    "    Io=np.random.uniform(200, 300)\n",
    "    # random number between 1 and 5\n",
    "    alpha = np.random.uniform(1, 3)\n",
    "    beta=np.random.uniform(0.15, 0.25)\n",
    "    \n",
    "    \n",
    "    new_img = normalisation.normalizeStaining(img, Io=Io, alpha=alpha, beta=beta)[0]\n",
    "    img = torch.from_numpy(new_img).float() / 255.0\n",
    "    img = img.permute(2,0,1)\n",
    "    \n",
    "    return img\n",
    "\n",
    "\n",
    "def preprocess_fn_val(img):\n",
    "    # convert img to uint8\n",
    "    img = img.permute(1,2,0).cpu().numpy()\n",
    "    img = (img * 255).astype(np.uint8)\n",
    "    new_img = normalisation.normalizeStaining(img)[0]\n",
    "    img = torch.from_numpy(new_img).float() / 255.0\n",
    "    img = img.permute(2,0,1)\n",
    "    \n",
    "    return img"
   ]
  },
  {
   "attachments": {},
   "cell_type": "markdown",
   "id": "73062826",
   "metadata": {},
   "source": [
    "# Dataset"
   ]
  },
  {
   "cell_type": "code",
   "execution_count": 6,
   "id": "fd211ae4",
   "metadata": {
    "execution": {
     "iopub.execute_input": "2023-07-13T08:18:48.896315Z",
     "iopub.status.busy": "2023-07-13T08:18:48.896041Z",
     "iopub.status.idle": "2023-07-13T08:18:52.429839Z",
     "shell.execute_reply": "2023-07-13T08:18:52.428832Z"
    },
    "papermill": {
     "duration": 3.541417,
     "end_time": "2023-07-13T08:18:52.432355",
     "exception": false,
     "start_time": "2023-07-13T08:18:48.890938",
     "status": "completed"
    },
    "tags": []
   },
   "outputs": [],
   "source": [
    "import os\n",
    "import numpy as np\n",
    "import torch\n",
    "from PIL import Image\n",
    "from torchvision.transforms import functional as F, InterpolationMode\n",
    "\n",
    "class PennFudanDataset(torch.utils.data.Dataset):\n",
    "    def __init__(self, imgs, masks, transforms, mode):\n",
    "        self.transforms = transforms\n",
    "        # load all image files, sorting them to\n",
    "        # ensure that they are aligned\n",
    "        self.imgs = imgs#sorted(glob.glob('/kaggle/input/hubmap-making-dataset/train/image/*.png'))\n",
    "        self.masks = masks#sorted(glob.glob('/kaggle/input/hubmap-making-dataset/train/mask/*.png'))\n",
    "        self.mode = mode\n",
    "        \n",
    "    def __getitem__(self, idx):\n",
    "        # load images and masks\n",
    "        img_path = self.imgs[idx]\n",
    "        mask_path = self.masks[idx]\n",
    "        img = Image.open(img_path).convert(\"RGB\")\n",
    "        \n",
    "        \n",
    "        \n",
    "        \n",
    "        # note that we haven't converted the mask to RGB,\n",
    "        # because each color corresponds to a different instance\n",
    "        # with 0 being background\n",
    "        mask = Image.open(mask_path).convert('L')\n",
    "        # convert the PIL Image into a numpy array\n",
    "        mask = np.array(mask)\n",
    "        # instances are encoded as different colors\n",
    "        obj_ids = np.unique(mask)\n",
    "        # first id is the background, so remove it\n",
    "        obj_ids = obj_ids[1:]\n",
    "\n",
    "        # split the color-encoded mask into a set\n",
    "        # of binary masks\n",
    "        #masks = (mask == obj_ids[:, None, None])\n",
    "        #print((obj_ids[:, None, None]).shape)\n",
    "        #masks = mask == obj_ids[:, None, None]\n",
    "        masks = [np.where(mask== obj_ids[i, None, None],1,0) for i in range(len(obj_ids))]\n",
    "        masks = np.array(masks)\n",
    "\n",
    "        # get bounding box coordinates for each mask\n",
    "        num_objs = len(obj_ids)\n",
    "        boxes = []\n",
    "        for i in range(num_objs):\n",
    "            pos = np.nonzero(masks[i])\n",
    "            xmin = np.min(pos[1])\n",
    "            xmax = np.max(pos[1])\n",
    "            ymin = np.min(pos[0])\n",
    "            ymax = np.max(pos[0])\n",
    "            boxes.append([xmin, ymin, xmax, ymax])\n",
    "\n",
    "        # convert everything into a torch.Tensor\n",
    "        boxes = torch.as_tensor(boxes, dtype=torch.float32)\n",
    "        # there is only one class\n",
    "        labels = torch.ones((num_objs,), dtype=torch.int64)\n",
    "        masks = torch.as_tensor(masks, dtype=torch.uint8)\n",
    "\n",
    "        image_id = torch.tensor([idx])\n",
    "        try:\n",
    "            area = (boxes[:, 3] - boxes[:, 1]) * (boxes[:, 2] - boxes[:, 0])\n",
    "            #print(area,area.shape,area.dtype)\n",
    "        except:\n",
    "            area = torch.tensor([[0],[0]])\n",
    "        # suppose all instances are not crowd\n",
    "        iscrowd = torch.zeros((num_objs,), dtype=torch.int64)\n",
    "        \n",
    "        #print(masks.shape)\n",
    "\n",
    "        target = {}\n",
    "        target[\"boxes\"] = boxes\n",
    "        target[\"labels\"] = labels\n",
    "        target[\"masks\"] = masks\n",
    "        target[\"image_id\"] = image_id\n",
    "        target[\"area\"] = area\n",
    "        target[\"iscrowd\"] = iscrowd\n",
    "\n",
    "        if self.transforms is not None:\n",
    "            img, target = self.transforms(img, target)\n",
    "\n",
    "\n",
    "        if np.random.uniform() > 0.5:\n",
    "            img = preprocess_fn_train(img)\n",
    "\n",
    "        if self.mode == 'train':\n",
    "            rand_width_height = 1024 # np.random.randint(512, 1024)\n",
    "            # resize to 1024x1024\n",
    "            new_width = rand_width_height\n",
    "            new_height = rand_width_height\n",
    "            orig_height, orig_width = img.shape[1:]\n",
    "            # orig_height = img.size[1]\n",
    "            # orig_width = img.size[0]\n",
    "            \n",
    "            img = F.resize(img, [new_height, new_width], interpolation=InterpolationMode.BILINEAR)\n",
    "\n",
    "            if target is not None:\n",
    "                target[\"boxes\"][:, 0::2] *= new_width / orig_width\n",
    "                target[\"boxes\"][:, 1::2] *= new_height / orig_height\n",
    "                if \"masks\" in target:\n",
    "                    target[\"masks\"] = F.resize(\n",
    "                        target[\"masks\"], [new_height, new_width], interpolation=InterpolationMode.NEAREST\n",
    "                    )\n",
    "\n",
    "        return img, target\n",
    "\n",
    "    def __len__(self):\n",
    "        return len(self.imgs)"
   ]
  },
  {
   "cell_type": "code",
   "execution_count": 7,
   "id": "6144a036",
   "metadata": {
    "execution": {
     "iopub.execute_input": "2023-07-13T08:18:52.442948Z",
     "iopub.status.busy": "2023-07-13T08:18:52.441661Z",
     "iopub.status.idle": "2023-07-13T08:18:52.691279Z",
     "shell.execute_reply": "2023-07-13T08:18:52.690188Z"
    },
    "papermill": {
     "duration": 0.258012,
     "end_time": "2023-07-13T08:18:52.694540",
     "exception": false,
     "start_time": "2023-07-13T08:18:52.436528",
     "status": "completed"
    },
    "tags": []
   },
   "outputs": [
    {
     "data": {
      "text/plain": [
       "['fasterrcnn_mobilenet_v3_large_320_fpn',\n",
       " 'fasterrcnn_mobilenet_v3_large_fpn',\n",
       " 'fasterrcnn_resnet50_fpn',\n",
       " 'fasterrcnn_resnet50_fpn_v2',\n",
       " 'fcos_resnet50_fpn',\n",
       " 'keypointrcnn_resnet50_fpn',\n",
       " 'maskrcnn_resnet50_fpn',\n",
       " 'maskrcnn_resnet50_fpn_v2',\n",
       " 'retinanet_resnet50_fpn',\n",
       " 'retinanet_resnet50_fpn_v2',\n",
       " 'ssd300_vgg16',\n",
       " 'ssdlite320_mobilenet_v3_large']"
      ]
     },
     "execution_count": 7,
     "metadata": {},
     "output_type": "execute_result"
    }
   ],
   "source": [
    "import torchvision\n",
    "from torchvision.models import list_models\n",
    "detection_models = list_models(module=torchvision.models.detection)\n",
    "detection_models"
   ]
  },
  {
   "cell_type": "code",
   "execution_count": 8,
   "id": "d3cd6ecd",
   "metadata": {
    "execution": {
     "iopub.execute_input": "2023-07-13T08:18:52.704306Z",
     "iopub.status.busy": "2023-07-13T08:18:52.704018Z",
     "iopub.status.idle": "2023-07-13T08:18:52.711186Z",
     "shell.execute_reply": "2023-07-13T08:18:52.710152Z"
    },
    "papermill": {
     "duration": 0.014618,
     "end_time": "2023-07-13T08:18:52.713493",
     "exception": false,
     "start_time": "2023-07-13T08:18:52.698875",
     "status": "completed"
    },
    "tags": []
   },
   "outputs": [],
   "source": [
    "import torchvision\n",
    "import torchvision\n",
    "from torchvision.models.detection.faster_rcnn import FastRCNNPredictor\n",
    "from torchvision.models.detection.mask_rcnn import MaskRCNNPredictor\n",
    "from torchvision.models.resnet import ResNet50_Weights\n",
    "\n",
    "def get_model_instance_segmentation(num_classes):\n",
    "    # load an instance segmentation model pre-trained on COCO\n",
    "    model = torchvision.models.detection.maskrcnn_resnet50_fpn_v2(weights=\"DEFAULT\", weights_backbone=ResNet50_Weights.IMAGENET1K_V2)\n",
    "    \n",
    "    # Modify the Resize operation to resize to min 512 and max 768\n",
    "    model.transform.min_size = (1024,)\n",
    "    model.transform.max_size = 1024\n",
    "\n",
    "    # get number of input features for the classifier\n",
    "    in_features = model.roi_heads.box_predictor.cls_score.in_features\n",
    "    # replace the pre-trained head with a new one\n",
    "    model.roi_heads.box_predictor = FastRCNNPredictor(in_features, num_classes)\n",
    "\n",
    "    # now get the number of input features for the mask classifier\n",
    "    in_features_mask = model.roi_heads.mask_predictor.conv5_mask.in_channels\n",
    "    hidden_layer = 256\n",
    "    # and replace the mask predictor with a new one\n",
    "    model.roi_heads.mask_predictor = MaskRCNNPredictor(in_features_mask,\n",
    "                                                       hidden_layer,\n",
    "                                                       num_classes)\n",
    "\n",
    "    return model"
   ]
  },
  {
   "cell_type": "code",
   "execution_count": 9,
   "id": "d33c98ef",
   "metadata": {
    "execution": {
     "iopub.execute_input": "2023-07-13T08:18:52.723155Z",
     "iopub.status.busy": "2023-07-13T08:18:52.722884Z",
     "iopub.status.idle": "2023-07-13T08:18:52.741770Z",
     "shell.execute_reply": "2023-07-13T08:18:52.740921Z"
    },
    "papermill": {
     "duration": 0.026086,
     "end_time": "2023-07-13T08:18:52.743905",
     "exception": false,
     "start_time": "2023-07-13T08:18:52.717819",
     "status": "completed"
    },
    "tags": []
   },
   "outputs": [],
   "source": [
    "import transforms as T\n",
    "\n",
    "def get_transform(train):\n",
    "    transforms = []\n",
    "    transforms.append(T.PILToTensor())\n",
    "    transforms.append(T.ConvertImageDtype(torch.float))\n",
    "    if train:\n",
    "        transforms.append(T.RandomHorizontalFlip(0.5))\n",
    "        transforms.append(T.RandomIoUCrop())\n",
    "        transforms.append(T.RandomZoomOut())\n",
    "        transforms.append(T.RandomPhotometricDistort())\n",
    "        transforms.append(T.ScaleJitter())\n",
    "        transforms.append(T.RandomShortestSize())\n",
    "    return T.Compose(transforms)"
   ]
  },
  {
   "cell_type": "code",
   "execution_count": 10,
   "id": "a7126ed4",
   "metadata": {
    "execution": {
     "iopub.execute_input": "2023-07-13T08:18:52.753472Z",
     "iopub.status.busy": "2023-07-13T08:18:52.753173Z",
     "iopub.status.idle": "2023-07-13T08:18:52.777603Z",
     "shell.execute_reply": "2023-07-13T08:18:52.776751Z"
    },
    "papermill": {
     "duration": 0.031793,
     "end_time": "2023-07-13T08:18:52.780085",
     "exception": false,
     "start_time": "2023-07-13T08:18:52.748292",
     "status": "completed"
    },
    "tags": []
   },
   "outputs": [],
   "source": [
    "from engine import train_one_epoch, evaluate\n",
    "import utils"
   ]
  },
  {
   "cell_type": "code",
   "execution_count": 11,
   "id": "a350cc01",
   "metadata": {
    "execution": {
     "iopub.execute_input": "2023-07-13T08:18:52.790384Z",
     "iopub.status.busy": "2023-07-13T08:18:52.789489Z",
     "iopub.status.idle": "2023-07-13T08:18:52.863311Z",
     "shell.execute_reply": "2023-07-13T08:18:52.862283Z"
    },
    "papermill": {
     "duration": 0.081339,
     "end_time": "2023-07-13T08:18:52.865722",
     "exception": false,
     "start_time": "2023-07-13T08:18:52.784383",
     "status": "completed"
    },
    "tags": []
   },
   "outputs": [],
   "source": [
    "device = torch.device('cuda') if torch.cuda.is_available() else torch.device('cpu')"
   ]
  },
  {
   "cell_type": "code",
   "execution_count": 12,
   "id": "e197d5ec",
   "metadata": {
    "execution": {
     "iopub.execute_input": "2023-07-13T08:18:52.877408Z",
     "iopub.status.busy": "2023-07-13T08:18:52.875487Z",
     "iopub.status.idle": "2023-07-13T08:18:52.968418Z",
     "shell.execute_reply": "2023-07-13T08:18:52.967285Z"
    },
    "papermill": {
     "duration": 0.100764,
     "end_time": "2023-07-13T08:18:52.970794",
     "exception": false,
     "start_time": "2023-07-13T08:18:52.870030",
     "status": "completed"
    },
    "tags": []
   },
   "outputs": [
    {
     "data": {
      "text/plain": [
       "1622"
      ]
     },
     "execution_count": 12,
     "metadata": {},
     "output_type": "execute_result"
    }
   ],
   "source": [
    "n_imgs = len(glob.glob('/home/viktor/Documents/kaggle/hubmap-2023/experiments/mask-rcnn/new-dataset/train/image/*'))\n",
    "n_imgs"
   ]
  },
  {
   "cell_type": "code",
   "execution_count": 13,
   "id": "ce2117e1",
   "metadata": {
    "execution": {
     "iopub.execute_input": "2023-07-13T08:18:52.983126Z",
     "iopub.status.busy": "2023-07-13T08:18:52.982127Z",
     "iopub.status.idle": "2023-07-13T13:48:01.543145Z",
     "shell.execute_reply": "2023-07-13T13:48:01.541504Z"
    },
    "papermill": {
     "duration": 19748.571319,
     "end_time": "2023-07-13T13:48:01.547371",
     "exception": false,
     "start_time": "2023-07-13T08:18:52.976052",
     "status": "completed"
    },
    "tags": []
   },
   "outputs": [],
   "source": [
    "kf = KFold(n_splits=5, shuffle=True, random_state=43)\n",
    "for i, (train_index, test_index) in enumerate(kf.split(range(n_imgs))):\n",
    "    if i==0:\n",
    "        break\n",
    "all_imgs = sorted(glob.glob('/home/viktor/Documents/kaggle/hubmap-2023/experiments/mask-rcnn/new-dataset/train/image/*.png'))\n",
    "all_masks = sorted(glob.glob('/home/viktor/Documents/kaggle/hubmap-2023/experiments/mask-rcnn/new-dataset/train/mask/*.png'))\n",
    "all_imgs = np.array(all_imgs)\n",
    "all_masks = np.array(all_masks)\n",
    "train_img = all_imgs[train_index]\n",
    "train_mask = all_masks[train_index]\n",
    "val_img = all_imgs[test_index]\n",
    "val_mask = all_masks[test_index]\n",
    "dataset_train = PennFudanDataset(train_img, train_mask, get_transform(train=True), mode='train')\n",
    "dataset_val = PennFudanDataset(val_img, val_mask, get_transform(train=False), mode='val')\n",
    "train_dl = torch.utils.data.DataLoader(\n",
    "    dataset_train, batch_size=2, shuffle=True, num_workers=4, pin_memory=True, drop_last=True, collate_fn=utils.collate_fn)\n",
    "val_dl = torch.utils.data.DataLoader(\n",
    "    dataset_val, batch_size=1, shuffle=False, num_workers=os.cpu_count(), pin_memory=True,collate_fn=utils.collate_fn)\n",
    "\n"
   ]
  },
  {
   "cell_type": "code",
   "execution_count": 14,
   "id": "e1577b3b",
   "metadata": {},
   "outputs": [
    {
     "name": "stderr",
     "output_type": "stream",
     "text": [
      "/home/viktor/miniconda3/envs/torch-env/lib/python3.9/site-packages/torchvision/transforms/functional.py:1603: UserWarning: The default value of the antialias parameter of all the resizing transforms (Resize(), RandomResizedCrop(), etc.) will change from None to True in v0.17, in order to be consistent across the PIL and Tensor backends. To suppress this warning, directly pass antialias=True (recommended, future default), antialias=None (current default, which means False for Tensors and True for PIL), or antialias=False (only works on Tensors - PIL will still use antialiasing). This also applies if you are using the inference transforms from the models weights: update the call to weights.transforms(antialias=True).\n",
      "  warnings.warn(\n"
     ]
    },
    {
     "data": {
      "text/plain": [
       "<matplotlib.image.AxesImage at 0x7f8f3fdd3880>"
      ]
     },
     "execution_count": 14,
     "metadata": {},
     "output_type": "execute_result"
    },
    {
     "data": {
      "image/png": "[encoded data removed]",
      "text/plain": [
       "<Figure size 640x480 with 1 Axes>"
      ]
     },
     "metadata": {},
     "output_type": "display_data"
    }
   ],
   "source": [
    "img = dataset_train[0][0].detach().cpu().numpy().transpose(1, 2, 0)\n",
    "# convert to uint8\n",
    "img = (img * 255).astype(np.uint8)\n",
    "\n",
    "plt.imshow(img)"
   ]
  },
  {
   "cell_type": "code",
   "execution_count": 15,
   "id": "57cf57fd",
   "metadata": {},
   "outputs": [],
   "source": [
    "# new_img = normalisation.normalizeStaining(img, Io=240)[0]\n",
    "\n",
    "# plt.imshow(new_img)"
   ]
  },
  {
   "cell_type": "code",
   "execution_count": 16,
   "id": "e27ec8cc",
   "metadata": {},
   "outputs": [],
   "source": [
    "# import sys\n",
    "\n",
    "# # Create a custom function to log output\n",
    "# def log_output(text):\n",
    "#     with open('output.log', 'a') as f:\n",
    "#         f.write(text)\n",
    "\n",
    "# # Redirect stdout to the custom log function\n",
    "# sys.stdout.write = log_output\n"
   ]
  },
  {
   "cell_type": "code",
   "execution_count": 17,
   "id": "daab2c67",
   "metadata": {
    "papermill": {
     "duration": 0.070464,
     "end_time": "2023-07-13T13:48:01.696503",
     "exception": false,
     "start_time": "2023-07-13T13:48:01.626039",
     "status": "completed"
    },
    "tags": []
   },
   "outputs": [
    {
     "name": "stdout",
     "output_type": "stream",
     "text": [
      "creating index...\n",
      "index created!\n",
      "Test:  [  0/325]  eta: 0:09:05  model_time: 0.8837 (0.8837)  evaluator_time: 0.0233 (0.0233)  time: 1.6795  data: 0.7183  max mem: 658\n",
      "Test:  [100/325]  eta: 0:00:23  model_time: 0.0298 (0.0434)  evaluator_time: 0.0138 (0.0147)  time: 0.0954  data: 0.0001  max mem: 667\n",
      "Test:  [200/325]  eta: 0:00:11  model_time: 0.0274 (0.0380)  evaluator_time: 0.0113 (0.0139)  time: 0.0760  data: 0.0001  max mem: 667\n",
      "Test:  [300/325]  eta: 0:00:02  model_time: 0.0276 (0.0366)  evaluator_time: 0.0128 (0.0143)  time: 0.0747  data: 0.0001  max mem: 667\n",
      "Test:  [324/325]  eta: 0:00:00  model_time: 0.0271 (0.0362)  evaluator_time: 0.0102 (0.0142)  time: 0.0744  data: 0.0001  max mem: 667\n",
      "Test: Total time: 0:00:28 (0.0875 s / it)\n",
      "Averaged stats: model_time: 0.0271 (0.0362)  evaluator_time: 0.0102 (0.0142)\n",
      "Accumulating evaluation results...\n",
      "DONE (t=0.04s).\n",
      "Accumulating evaluation results...\n",
      "DONE (t=0.08s).\n",
      "IoU metric: bbox\n",
      " Average Precision  (AP) @[ IoU=0.50:0.95 | area=   all | maxDets=100 ] = 0.281\n",
      " Average Precision  (AP) @[ IoU=0.50      | area=   all | maxDets=100 ] = 0.590\n",
      " Average Precision  (AP) @[ IoU=0.75      | area=   all | maxDets=100 ] = 0.227\n",
      " Average Precision  (AP) @[ IoU=0.50:0.95 | area= small | maxDets=100 ] = 0.265\n",
      " Average Precision  (AP) @[ IoU=0.50:0.95 | area=medium | maxDets=100 ] = 0.300\n",
      " Average Precision  (AP) @[ IoU=0.50:0.95 | area= large | maxDets=100 ] = 0.383\n",
      " Average Recall     (AR) @[ IoU=0.50:0.95 | area=   all | maxDets=  1 ] = 0.057\n",
      " Average Recall     (AR) @[ IoU=0.50:0.95 | area=   all | maxDets= 10 ] = 0.325\n",
      " Average Recall     (AR) @[ IoU=0.50:0.95 | area=   all | maxDets=100 ] = 0.473\n",
      " Average Recall     (AR) @[ IoU=0.50:0.95 | area= small | maxDets=100 ] = 0.449\n",
      " Average Recall     (AR) @[ IoU=0.50:0.95 | area=medium | maxDets=100 ] = 0.496\n",
      " Average Recall     (AR) @[ IoU=0.50:0.95 | area= large | maxDets=100 ] = 0.588\n",
      "IoU metric: segm\n",
      " Average Precision  (AP) @[ IoU=0.50:0.95 | area=   all | maxDets=100 ] = 0.227\n",
      " Average Precision  (AP) @[ IoU=0.50      | area=   all | maxDets=100 ] = 0.602\n",
      " Average Precision  (AP) @[ IoU=0.75      | area=   all | maxDets=100 ] = 0.088\n",
      " Average Precision  (AP) @[ IoU=0.50:0.95 | area= small | maxDets=100 ] = 0.196\n",
      " Average Precision  (AP) @[ IoU=0.50:0.95 | area=medium | maxDets=100 ] = 0.267\n",
      " Average Precision  (AP) @[ IoU=0.50:0.95 | area= large | maxDets=100 ] = 0.378\n",
      " Average Recall     (AR) @[ IoU=0.50:0.95 | area=   all | maxDets=  1 ] = 0.047\n",
      " Average Recall     (AR) @[ IoU=0.50:0.95 | area=   all | maxDets= 10 ] = 0.267\n",
      " Average Recall     (AR) @[ IoU=0.50:0.95 | area=   all | maxDets=100 ] = 0.385\n",
      " Average Recall     (AR) @[ IoU=0.50:0.95 | area= small | maxDets=100 ] = 0.357\n",
      " Average Recall     (AR) @[ IoU=0.50:0.95 | area=medium | maxDets=100 ] = 0.417\n",
      " Average Recall     (AR) @[ IoU=0.50:0.95 | area= large | maxDets=100 ] = 0.480\n"
     ]
    }
   ],
   "source": [
    "model = get_model_instance_segmentation(num_classes=2)\n",
    "model.load_state_dict(torch.load('ckpts/fold_0_epoch58.pth'))\n",
    "model.to(device)\n",
    "params = [p for p in model.parameters() if p.requires_grad]\n",
    "optimizer = torch.optim.Adam(params, lr=0.0003, weight_decay=1e-6)\n",
    "scheduler = torch.optim.lr_scheduler.ExponentialLR(optimizer, gamma=0.985)\n",
    "\n",
    "for epoch in range(EPOCHS):\n",
    "    # train_one_epoch(model, optimizer, train_dl, device, epoch, print_freq=50)\n",
    "    evaluate(model, val_dl, device=device, preprocess_fn=preprocess_fn_val)\n",
    "    # scheduler.step()\n",
    "    # model_path = f'ckpts/fold_{i}_epoch{epoch}.pth'\n",
    "    # torch.save(model.state_dict(), model_path)\n",
    "    "
   ]
  },
  {
   "cell_type": "code",
   "execution_count": null,
   "id": "dba3059e",
   "metadata": {
    "papermill": {
     "duration": 0.064926,
     "end_time": "2023-07-13T13:48:01.830384",
     "exception": false,
     "start_time": "2023-07-13T13:48:01.765458",
     "status": "completed"
    },
    "tags": []
   },
   "outputs": [],
   "source": []
  }
 ],
 "metadata": {
  "kernelspec": {
   "display_name": "Python 3",
   "language": "python",
   "name": "python3"
  },
  "language_info": {
   "codemirror_mode": {
    "name": "ipython",
    "version": 3
   },
   "file_extension": ".py",
   "mimetype": "text/x-python",
   "name": "python",
   "nbconvert_exporter": "python",
   "pygments_lexer": "ipython3",
   "version": "3.9.16"
  },
  "papermill": {
   "default_parameters": {},
   "duration": 19803.586545,
   "end_time": "2023-07-13T13:48:05.614383",
   "environment_variables": {},
   "exception": null,
   "input_path": "__notebook__.ipynb",
   "output_path": "__notebook__.ipynb",
   "parameters": {},
   "start_time": "2023-07-13T08:18:02.027838",
   "version": "2.4.0"
  }
 },
 "nbformat": 4,
 "nbformat_minor": 5
}
