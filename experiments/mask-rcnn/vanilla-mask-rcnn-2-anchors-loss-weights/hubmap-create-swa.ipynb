{
 "cells": [
  {
   "cell_type": "code",
   "execution_count": 1,
   "metadata": {
    "_cell_guid": "b1076dfc-b9ad-4769-8c92-a6c4dae69d19",
    "_uuid": "8f2839f25d086af736a60e9eeb907d3b93b6e0e5",
    "execution": {
     "iopub.execute_input": "2023-07-11T20:55:50.158863Z",
     "iopub.status.busy": "2023-07-11T20:55:50.158344Z",
     "iopub.status.idle": "2023-07-11T20:55:50.649519Z",
     "shell.execute_reply": "2023-07-11T20:55:50.649187Z"
    }
   },
   "outputs": [],
   "source": [
    "import os, glob\n",
    "import sys\n",
    "import json\n",
    "from PIL import Image\n",
    "from collections import Counter\n",
    "\n",
    "import numpy as np\n",
    "import pandas as pd\n",
    "import plotly.express as px\n",
    "import plotly.graph_objects as go\n",
    "import tifffile as tiff\n",
    "import matplotlib.pyplot as plt\n",
    "from tqdm import tqdm\n",
    "\n",
    "import cv2\n",
    "\n",
    "from sklearn.model_selection import KFold\n",
    "\n",
    "sys.path.append(\"detection-wheel\")"
   ]
  },
  {
   "cell_type": "code",
   "execution_count": 2,
   "metadata": {
    "execution": {
     "iopub.execute_input": "2023-07-11T20:55:50.651038Z",
     "iopub.status.busy": "2023-07-11T20:55:50.650891Z",
     "iopub.status.idle": "2023-07-11T20:55:50.652551Z",
     "shell.execute_reply": "2023-07-11T20:55:50.652375Z"
    }
   },
   "outputs": [],
   "source": [
    "EPOCHS = 5"
   ]
  },
  {
   "cell_type": "code",
   "execution_count": 3,
   "metadata": {
    "execution": {
     "iopub.execute_input": "2023-07-11T20:55:50.653765Z",
     "iopub.status.busy": "2023-07-11T20:55:50.653677Z",
     "iopub.status.idle": "2023-07-11T20:55:51.175336Z",
     "shell.execute_reply": "2023-07-11T20:55:51.175011Z"
    }
   },
   "outputs": [],
   "source": [
    "import os\n",
    "import numpy as np\n",
    "import torch\n",
    "from PIL import Image\n",
    "\n",
    "\n",
    "class PennFudanDataset(torch.utils.data.Dataset):\n",
    "    def __init__(self, imgs, masks, transforms):\n",
    "        self.transforms = transforms\n",
    "        # load all image files, sorting them to\n",
    "        # ensure that they are aligned\n",
    "        self.imgs = imgs#sorted(glob.glob('/home/viktor/Documents/kaggle/hubmap-2023/experiments/mask-rcnn/new-dataset/train/image/*.png'))\n",
    "        self.masks = masks#sorted(glob.glob('/home/viktor/Documents/kaggle/hubmap-2023/experiments/mask-rcnn/new-dataset/train/mask/*.png'))\n",
    "\n",
    "    def __getitem__(self, idx):\n",
    "        # load images and masks\n",
    "        img_path = self.imgs[idx]\n",
    "        mask_path = self.masks[idx]\n",
    "        img = Image.open(img_path).convert(\"RGB\")\n",
    "        # note that we haven't converted the mask to RGB,\n",
    "        # because each color corresponds to a different instance\n",
    "        # with 0 being background\n",
    "        mask = Image.open(mask_path).convert('L')\n",
    "        # convert the PIL Image into a numpy array\n",
    "        mask = np.array(mask)\n",
    "        # instances are encoded as different colors\n",
    "        obj_ids = np.unique(mask)\n",
    "        # first id is the background, so remove it\n",
    "        obj_ids = obj_ids[1:]\n",
    "\n",
    "        # split the color-encoded mask into a set\n",
    "        # of binary masks\n",
    "        #masks = (mask == obj_ids[:, None, None])\n",
    "        #print((obj_ids[:, None, None]).shape)\n",
    "        #masks = mask == obj_ids[:, None, None]\n",
    "        masks = [np.where(mask== obj_ids[i, None, None],1,0) for i in range(len(obj_ids))]\n",
    "        masks = np.array(masks)\n",
    "\n",
    "        # get bounding box coordinates for each mask\n",
    "        num_objs = len(obj_ids)\n",
    "        boxes = []\n",
    "        for i in range(num_objs):\n",
    "            pos = np.nonzero(masks[i])\n",
    "            xmin = np.min(pos[1])\n",
    "            xmax = np.max(pos[1])\n",
    "            ymin = np.min(pos[0])\n",
    "            ymax = np.max(pos[0])\n",
    "            boxes.append([xmin, ymin, xmax, ymax])\n",
    "\n",
    "        # convert everything into a torch.Tensor\n",
    "        boxes = torch.as_tensor(boxes, dtype=torch.float32)\n",
    "        # there is only one class\n",
    "        labels = torch.ones((num_objs,), dtype=torch.int64)\n",
    "        masks = torch.as_tensor(masks, dtype=torch.uint8)\n",
    "\n",
    "        image_id = torch.tensor([idx])\n",
    "        try:\n",
    "            area = (boxes[:, 3] - boxes[:, 1]) * (boxes[:, 2] - boxes[:, 0])\n",
    "            #print(area,area.shape,area.dtype)\n",
    "        except:\n",
    "            area = torch.tensor([[0],[0]])\n",
    "        # suppose all instances are not crowd\n",
    "        iscrowd = torch.zeros((num_objs,), dtype=torch.int64)\n",
    "        \n",
    "        #print(masks.shape)\n",
    "\n",
    "        target = {}\n",
    "        target[\"boxes\"] = boxes\n",
    "        target[\"labels\"] = labels\n",
    "        target[\"masks\"] = masks\n",
    "        target[\"image_id\"] = image_id\n",
    "        target[\"area\"] = area\n",
    "        target[\"iscrowd\"] = iscrowd\n",
    "\n",
    "        if self.transforms is not None:\n",
    "            img, target = self.transforms(img, target)\n",
    "\n",
    "        return img, target\n",
    "\n",
    "    def __len__(self):\n",
    "        return len(self.imgs)"
   ]
  },
  {
   "cell_type": "code",
   "execution_count": 4,
   "metadata": {
    "execution": {
     "iopub.execute_input": "2023-07-11T20:55:51.176860Z",
     "iopub.status.busy": "2023-07-11T20:55:51.176708Z",
     "iopub.status.idle": "2023-07-11T20:55:51.228454Z",
     "shell.execute_reply": "2023-07-11T20:55:51.228169Z"
    }
   },
   "outputs": [
    {
     "data": {
      "text/plain": [
       "['fasterrcnn_mobilenet_v3_large_320_fpn',\n",
       " 'fasterrcnn_mobilenet_v3_large_fpn',\n",
       " 'fasterrcnn_resnet50_fpn',\n",
       " 'fasterrcnn_resnet50_fpn_v2',\n",
       " 'fcos_resnet50_fpn',\n",
       " 'keypointrcnn_resnet50_fpn',\n",
       " 'maskrcnn_resnet50_fpn',\n",
       " 'maskrcnn_resnet50_fpn_v2',\n",
       " 'retinanet_resnet50_fpn',\n",
       " 'retinanet_resnet50_fpn_v2',\n",
       " 'ssd300_vgg16',\n",
       " 'ssdlite320_mobilenet_v3_large']"
      ]
     },
     "execution_count": 4,
     "metadata": {},
     "output_type": "execute_result"
    }
   ],
   "source": [
    "import torchvision\n",
    "from torchvision.models import list_models\n",
    "detection_models = list_models(module=torchvision.models.detection)\n",
    "detection_models"
   ]
  },
  {
   "cell_type": "code",
   "execution_count": 5,
   "metadata": {
    "execution": {
     "iopub.execute_input": "2023-07-11T20:55:51.243653Z",
     "iopub.status.busy": "2023-07-11T20:55:51.243517Z",
     "iopub.status.idle": "2023-07-11T20:55:51.245790Z",
     "shell.execute_reply": "2023-07-11T20:55:51.245599Z"
    }
   },
   "outputs": [],
   "source": [
    "import torchvision\n",
    "import torchvision\n",
    "from torchvision.models.detection.faster_rcnn import FastRCNNPredictor\n",
    "from torchvision.models.detection.mask_rcnn import MaskRCNNPredictor\n",
    "from torchvision.models.resnet import ResNet50_Weights\n",
    "\n",
    "def get_model_instance_segmentation(num_classes):\n",
    "    # load an instance segmentation model pre-trained on COCO\n",
    "    model = torchvision.models.detection.maskrcnn_resnet50_fpn_v2(weights=\"DEFAULT\", weights_backbone=ResNet50_Weights.IMAGENET1K_V2)\n",
    "\n",
    "    # get number of input features for the classifier\n",
    "    in_features = model.roi_heads.box_predictor.cls_score.in_features\n",
    "    # replace the pre-trained head with a new one\n",
    "    model.roi_heads.box_predictor = FastRCNNPredictor(in_features, num_classes)\n",
    "\n",
    "    # now get the number of input features for the mask classifier\n",
    "    in_features_mask = model.roi_heads.mask_predictor.conv5_mask.in_channels\n",
    "    hidden_layer = 256\n",
    "    # and replace the mask predictor with a new one\n",
    "    model.roi_heads.mask_predictor = MaskRCNNPredictor(in_features_mask,\n",
    "                                                       hidden_layer,\n",
    "                                                       num_classes)\n",
    "    \n",
    "    # model.rpn.anchor_generator.sizes = ((8, 16, 32, 64, 128,256),)\n",
    "\n",
    "    return model"
   ]
  },
  {
   "cell_type": "code",
   "execution_count": 6,
   "metadata": {},
   "outputs": [],
   "source": [
    "# model = get_model_instance_segmentation(2)\n",
    "# model.rpn.anchor_generator.__dict__"
   ]
  },
  {
   "cell_type": "code",
   "execution_count": 7,
   "metadata": {
    "execution": {
     "iopub.execute_input": "2023-07-11T20:55:51.246962Z",
     "iopub.status.busy": "2023-07-11T20:55:51.246818Z",
     "iopub.status.idle": "2023-07-11T20:55:51.248892Z",
     "shell.execute_reply": "2023-07-11T20:55:51.248702Z"
    }
   },
   "outputs": [],
   "source": [
    "import transforms as T\n",
    "\n",
    "def get_transform(train):\n",
    "    transforms = []\n",
    "    transforms.append(T.PILToTensor())\n",
    "    transforms.append(T.ConvertImageDtype(torch.float))\n",
    "    # if train:\n",
    "    #     transforms.append(T.RandomHorizontalFlip(0.5))\n",
    "    #     transforms.append(T.RandomIoUCrop())\n",
    "    #     transforms.append(T.RandomZoomOut())\n",
    "    #     transforms.append(T.RandomPhotometricDistort())\n",
    "    #     transforms.append(T.ScaleJitter())\n",
    "    #     transforms.append(T.RandomShortestSize())\n",
    "    return T.Compose(transforms)"
   ]
  },
  {
   "cell_type": "code",
   "execution_count": 8,
   "metadata": {
    "execution": {
     "iopub.execute_input": "2023-07-11T20:55:51.250040Z",
     "iopub.status.busy": "2023-07-11T20:55:51.249919Z",
     "iopub.status.idle": "2023-07-11T20:55:51.252379Z",
     "shell.execute_reply": "2023-07-11T20:55:51.252197Z"
    }
   },
   "outputs": [],
   "source": [
    "from engine_2 import train_one_epoch, evaluate\n",
    "import utils"
   ]
  },
  {
   "cell_type": "code",
   "execution_count": 9,
   "metadata": {
    "execution": {
     "iopub.execute_input": "2023-07-11T20:55:51.253503Z",
     "iopub.status.busy": "2023-07-11T20:55:51.253387Z",
     "iopub.status.idle": "2023-07-11T20:55:51.262727Z",
     "shell.execute_reply": "2023-07-11T20:55:51.262523Z"
    }
   },
   "outputs": [],
   "source": [
    "device = torch.device('cuda') if torch.cuda.is_available() else torch.device('cpu')"
   ]
  },
  {
   "cell_type": "code",
   "execution_count": 10,
   "metadata": {},
   "outputs": [
    {
     "data": {
      "text/plain": [
       "<All keys matched successfully>"
      ]
     },
     "execution_count": 10,
     "metadata": {},
     "output_type": "execute_result"
    }
   ],
   "source": [
    "\n",
    "model = get_model_instance_segmentation(num_classes=2)\n",
    "model.to(device)\n",
    "\n",
    "# SWA: average all the weights\n",
    "\n",
    "epochs_to_take = np.arange(21, 40)\n",
    "\n",
    "weights_path = f\"ckpts/fold_0_epoch20.pth\"\n",
    "state_dict = torch.load(weights_path)\n",
    "    \n",
    "for take_epoch in epochs_to_take:\n",
    "\n",
    "    weights_path = f\"ckpts/fold_0_epoch{take_epoch}.pth\"\n",
    "    state_dict_epoch = torch.load(weights_path)\n",
    "    \n",
    "    for key in state_dict_epoch.keys():\n",
    "        state_dict[key] += state_dict_epoch[key]\n",
    "\n",
    "for key in state_dict.keys():\n",
    "    state_dict[key] = state_dict[key] / (len(epochs_to_take) + 1)\n",
    "    \n",
    "model.load_state_dict(state_dict)"
   ]
  },
  {
   "cell_type": "code",
   "execution_count": 11,
   "metadata": {},
   "outputs": [
    {
     "data": {
      "text/plain": [
       "array([15, 16, 17, 18, 19, 20, 21, 22, 23, 24, 25, 26, 27, 28, 29, 30, 31,\n",
       "       32, 33, 34, 35, 36, 37, 38, 39])"
      ]
     },
     "execution_count": 11,
     "metadata": {},
     "output_type": "execute_result"
    }
   ],
   "source": [
    "import numpy as np\n",
    "epochs_to_take = np.arange(15, 40)\n",
    "epochs_to_take"
   ]
  },
  {
   "cell_type": "code",
   "execution_count": 12,
   "metadata": {},
   "outputs": [],
   "source": [
    "# import sys\n",
    "\n",
    "# # Create a custom function to log output\n",
    "# def log_output(text):\n",
    "#     with open('output.log', 'a') as f:\n",
    "#         f.write(text)\n",
    "\n",
    "# # Redirect stdout to the custom log function\n",
    "# sys.stdout.write = log_output\n"
   ]
  },
  {
   "cell_type": "code",
   "execution_count": 13,
   "metadata": {},
   "outputs": [
    {
     "data": {
      "text/plain": [
       "1622"
      ]
     },
     "execution_count": 13,
     "metadata": {},
     "output_type": "execute_result"
    }
   ],
   "source": [
    "n_imgs = len(glob.glob('/home/viktor/Documents/kaggle/hubmap-2023/experiments/mask-rcnn/new-dataset/train/image/*'))\n",
    "n_imgs\n",
    "\n"
   ]
  },
  {
   "cell_type": "code",
   "execution_count": 14,
   "metadata": {
    "execution": {
     "iopub.execute_input": "2023-07-11T20:55:51.268015Z",
     "iopub.status.busy": "2023-07-11T20:55:51.267921Z",
     "iopub.status.idle": "2023-07-11T20:55:51.269472Z",
     "shell.execute_reply": "2023-07-11T20:55:51.269301Z"
    }
   },
   "outputs": [
    {
     "name": "stdout",
     "output_type": "stream",
     "text": [
      "Epoch: [0]  [  0/324]  eta: 0:13:11  lr: 0.002000  loss: 0.6395 (0.6395)  loss_classifier: 0.1402 (0.1402)  loss_box_reg: 0.2301 (0.2301)  loss_mask: 0.2197 (0.2197)  loss_objectness: 0.0370 (0.0370)  loss_rpn_box_reg: 0.0125 (0.0125)  time: 2.4415  data: 1.2994  max mem: 6378\n",
      "Epoch: [0]  [ 50/324]  eta: 0:00:32  lr: 0.002000  loss: 0.6867 (0.6978)  loss_classifier: 0.1513 (0.1553)  loss_box_reg: 0.2290 (0.2441)  loss_mask: 0.2400 (0.2391)  loss_objectness: 0.0310 (0.0337)  loss_rpn_box_reg: 0.0190 (0.0256)  time: 0.0733  data: 0.0001  max mem: 12474\n",
      "Epoch: [0]  [100/324]  eta: 0:00:21  lr: 0.002000  loss: 0.7075 (0.7100)  loss_classifier: 0.1527 (0.1586)  loss_box_reg: 0.2551 (0.2532)  loss_mask: 0.2334 (0.2391)  loss_objectness: 0.0359 (0.0336)  loss_rpn_box_reg: 0.0191 (0.0255)  time: 0.0730  data: 0.0002  max mem: 12474\n",
      "Epoch: [0]  [150/324]  eta: 0:00:15  lr: 0.002000  loss: 0.6737 (0.7117)  loss_classifier: 0.1531 (0.1593)  loss_box_reg: 0.2461 (0.2536)  loss_mask: 0.2298 (0.2391)  loss_objectness: 0.0288 (0.0337)  loss_rpn_box_reg: 0.0196 (0.0261)  time: 0.0736  data: 0.0001  max mem: 12530\n",
      "Epoch: [0]  [200/324]  eta: 0:00:10  lr: 0.002000  loss: 0.6775 (0.7022)  loss_classifier: 0.1481 (0.1568)  loss_box_reg: 0.2134 (0.2470)  loss_mask: 0.2368 (0.2393)  loss_objectness: 0.0293 (0.0338)  loss_rpn_box_reg: 0.0178 (0.0253)  time: 0.0719  data: 0.0001  max mem: 12530\n",
      "Epoch: [0]  [250/324]  eta: 0:00:06  lr: 0.002000  loss: 0.7161 (0.7037)  loss_classifier: 0.1508 (0.1566)  loss_box_reg: 0.2612 (0.2485)  loss_mask: 0.2428 (0.2399)  loss_objectness: 0.0326 (0.0338)  loss_rpn_box_reg: 0.0214 (0.0250)  time: 0.0732  data: 0.0001  max mem: 12530\n",
      "Epoch: [0]  [300/324]  eta: 0:00:01  lr: 0.002000  loss: 0.6744 (0.7035)  loss_classifier: 0.1468 (0.1563)  loss_box_reg: 0.2415 (0.2480)  loss_mask: 0.2387 (0.2403)  loss_objectness: 0.0329 (0.0341)  loss_rpn_box_reg: 0.0200 (0.0248)  time: 0.0703  data: 0.0000  max mem: 12602\n",
      "Epoch: [0]  [323/324]  eta: 0:00:00  lr: 0.002000  loss: 0.7163 (0.7036)  loss_classifier: 0.1553 (0.1564)  loss_box_reg: 0.2491 (0.2484)  loss_mask: 0.2327 (0.2401)  loss_objectness: 0.0330 (0.0339)  loss_rpn_box_reg: 0.0222 (0.0248)  time: 0.0713  data: 0.0000  max mem: 12602\n",
      "Epoch: [0] Total time: 0:00:26 (0.0804 s / it)\n",
      "creating index...\n",
      "index created!\n",
      "Test:  [  0/325]  eta: 0:05:57  model_time: 0.1215 (0.1215)  evaluator_time: 0.0382 (0.0382)  time: 1.0997  data: 0.9397  max mem: 12602\n",
      "Test:  [100/325]  eta: 0:00:16  model_time: 0.0361 (0.0411)  evaluator_time: 0.0168 (0.0232)  time: 0.0548  data: 0.0001  max mem: 12602\n",
      "Test:  [200/325]  eta: 0:00:08  model_time: 0.0382 (0.0404)  evaluator_time: 0.0193 (0.0232)  time: 0.0599  data: 0.0001  max mem: 12602\n",
      "Test:  [300/325]  eta: 0:00:01  model_time: 0.0361 (0.0400)  evaluator_time: 0.0183 (0.0235)  time: 0.0570  data: 0.0001  max mem: 12602\n",
      "Test:  [324/325]  eta: 0:00:00  model_time: 0.0365 (0.0398)  evaluator_time: 0.0196 (0.0233)  time: 0.0556  data: 0.0001  max mem: 12602\n",
      "Test: Total time: 0:00:22 (0.0677 s / it)\n",
      "Averaged stats: model_time: 0.0365 (0.0398)  evaluator_time: 0.0196 (0.0233)\n",
      "Accumulating evaluation results...\n",
      "DONE (t=0.06s).\n",
      "Accumulating evaluation results...\n",
      "DONE (t=0.06s).\n",
      "IoU metric: bbox\n",
      " Average Precision  (AP) @[ IoU=0.50:0.95 | area=   all | maxDets=100 ] = 0.320\n",
      " Average Precision  (AP) @[ IoU=0.50      | area=   all | maxDets=100 ] = 0.638\n",
      " Average Precision  (AP) @[ IoU=0.75      | area=   all | maxDets=100 ] = 0.282\n",
      " Average Precision  (AP) @[ IoU=0.50:0.95 | area= small | maxDets=100 ] = 0.302\n",
      " Average Precision  (AP) @[ IoU=0.50:0.95 | area=medium | maxDets=100 ] = 0.333\n",
      " Average Precision  (AP) @[ IoU=0.50:0.95 | area= large | maxDets=100 ] = 0.464\n",
      " Average Recall     (AR) @[ IoU=0.50:0.95 | area=   all | maxDets=  1 ] = 0.062\n",
      " Average Recall     (AR) @[ IoU=0.50:0.95 | area=   all | maxDets= 10 ] = 0.352\n",
      " Average Recall     (AR) @[ IoU=0.50:0.95 | area=   all | maxDets=100 ] = 0.528\n",
      " Average Recall     (AR) @[ IoU=0.50:0.95 | area= small | maxDets=100 ] = 0.491\n",
      " Average Recall     (AR) @[ IoU=0.50:0.95 | area=medium | maxDets=100 ] = 0.566\n",
      " Average Recall     (AR) @[ IoU=0.50:0.95 | area= large | maxDets=100 ] = 0.692\n",
      "IoU metric: segm\n",
      " Average Precision  (AP) @[ IoU=0.50:0.95 | area=   all | maxDets=100 ] = 0.313\n",
      " Average Precision  (AP) @[ IoU=0.50      | area=   all | maxDets=100 ] = 0.667\n",
      " Average Precision  (AP) @[ IoU=0.75      | area=   all | maxDets=100 ] = 0.240\n",
      " Average Precision  (AP) @[ IoU=0.50:0.95 | area= small | maxDets=100 ] = 0.273\n",
      " Average Precision  (AP) @[ IoU=0.50:0.95 | area=medium | maxDets=100 ] = 0.349\n",
      " Average Precision  (AP) @[ IoU=0.50:0.95 | area= large | maxDets=100 ] = 0.524\n",
      " Average Recall     (AR) @[ IoU=0.50:0.95 | area=   all | maxDets=  1 ] = 0.058\n",
      " Average Recall     (AR) @[ IoU=0.50:0.95 | area=   all | maxDets= 10 ] = 0.332\n",
      " Average Recall     (AR) @[ IoU=0.50:0.95 | area=   all | maxDets=100 ] = 0.497\n",
      " Average Recall     (AR) @[ IoU=0.50:0.95 | area= small | maxDets=100 ] = 0.475\n",
      " Average Recall     (AR) @[ IoU=0.50:0.95 | area=medium | maxDets=100 ] = 0.519\n",
      " Average Recall     (AR) @[ IoU=0.50:0.95 | area= large | maxDets=100 ] = 0.594\n"
     ]
    },
    {
     "name": "stderr",
     "output_type": "stream",
     "text": [
      "/home/viktor/miniconda3/envs/torch-env/lib/python3.9/site-packages/torch/optim/lr_scheduler.py:139: UserWarning: Detected call of `lr_scheduler.step()` before `optimizer.step()`. In PyTorch 1.1.0 and later, you should call them in the opposite order: `optimizer.step()` before `lr_scheduler.step()`.  Failure to do this will result in PyTorch skipping the first value of the learning rate schedule. See more details at https://pytorch.org/docs/stable/optim.html#how-to-adjust-learning-rate\n",
      "  warnings.warn(\"Detected call of `lr_scheduler.step()` before `optimizer.step()`. \"\n"
     ]
    },
    {
     "name": "stdout",
     "output_type": "stream",
     "text": [
      "Epoch: [1]  [  0/324]  eta: 0:07:55  lr: 0.002000  loss: 0.7273 (0.7273)  loss_classifier: 0.1774 (0.1774)  loss_box_reg: 0.2565 (0.2565)  loss_mask: 0.2481 (0.2481)  loss_objectness: 0.0185 (0.0185)  loss_rpn_box_reg: 0.0268 (0.0268)  time: 1.4672  data: 1.3856  max mem: 12602\n",
      "Epoch: [1]  [ 50/324]  eta: 0:00:27  lr: 0.002000  loss: 0.6980 (0.7081)  loss_classifier: 0.1500 (0.1548)  loss_box_reg: 0.2533 (0.2533)  loss_mask: 0.2431 (0.2423)  loss_objectness: 0.0343 (0.0332)  loss_rpn_box_reg: 0.0206 (0.0246)  time: 0.0732  data: 0.0001  max mem: 12602\n",
      "Epoch: [1]  [100/324]  eta: 0:00:19  lr: 0.002000  loss: 0.6729 (0.7075)  loss_classifier: 0.1479 (0.1561)  loss_box_reg: 0.2370 (0.2510)  loss_mask: 0.2336 (0.2426)  loss_objectness: 0.0322 (0.0334)  loss_rpn_box_reg: 0.0179 (0.0243)  time: 0.0731  data: 0.0004  max mem: 12602\n",
      "Epoch: [1]  [150/324]  eta: 0:00:14  lr: 0.002000  loss: 0.6734 (0.7089)  loss_classifier: 0.1561 (0.1570)  loss_box_reg: 0.2358 (0.2509)  loss_mask: 0.2393 (0.2424)  loss_objectness: 0.0311 (0.0341)  loss_rpn_box_reg: 0.0204 (0.0246)  time: 0.0732  data: 0.0002  max mem: 12602\n",
      "Epoch: [1]  [200/324]  eta: 0:00:09  lr: 0.002000  loss: 0.7092 (0.7064)  loss_classifier: 0.1591 (0.1569)  loss_box_reg: 0.2540 (0.2503)  loss_mask: 0.2356 (0.2413)  loss_objectness: 0.0274 (0.0337)  loss_rpn_box_reg: 0.0217 (0.0242)  time: 0.0725  data: 0.0001  max mem: 12627\n",
      "Epoch: [1]  [250/324]  eta: 0:00:05  lr: 0.002000  loss: 0.7029 (0.7050)  loss_classifier: 0.1568 (0.1563)  loss_box_reg: 0.2319 (0.2501)  loss_mask: 0.2279 (0.2398)  loss_objectness: 0.0313 (0.0337)  loss_rpn_box_reg: 0.0260 (0.0250)  time: 0.0730  data: 0.0001  max mem: 12638\n",
      "Epoch: [1]  [300/324]  eta: 0:00:01  lr: 0.002000  loss: 0.6839 (0.7060)  loss_classifier: 0.1436 (0.1566)  loss_box_reg: 0.2420 (0.2496)  loss_mask: 0.2448 (0.2406)  loss_objectness: 0.0356 (0.0336)  loss_rpn_box_reg: 0.0186 (0.0255)  time: 0.0705  data: 0.0000  max mem: 12638\n",
      "Epoch: [1]  [323/324]  eta: 0:00:00  lr: 0.002000  loss: 0.6769 (0.7056)  loss_classifier: 0.1572 (0.1570)  loss_box_reg: 0.2347 (0.2491)  loss_mask: 0.2398 (0.2406)  loss_objectness: 0.0377 (0.0339)  loss_rpn_box_reg: 0.0192 (0.0251)  time: 0.0706  data: 0.0000  max mem: 12638\n",
      "Epoch: [1] Total time: 0:00:24 (0.0771 s / it)\n",
      "creating index...\n",
      "index created!\n",
      "Test:  [  0/325]  eta: 0:05:49  model_time: 0.0717 (0.0717)  evaluator_time: 0.0417 (0.0417)  time: 1.0754  data: 0.9617  max mem: 12638\n",
      "Test:  [100/325]  eta: 0:00:16  model_time: 0.0324 (0.0392)  evaluator_time: 0.0175 (0.0229)  time: 0.0541  data: 0.0001  max mem: 12638\n",
      "Test:  [200/325]  eta: 0:00:08  model_time: 0.0365 (0.0384)  evaluator_time: 0.0187 (0.0228)  time: 0.0591  data: 0.0001  max mem: 12638\n",
      "Test:  [300/325]  eta: 0:00:01  model_time: 0.0370 (0.0384)  evaluator_time: 0.0186 (0.0230)  time: 0.0565  data: 0.0001  max mem: 12638\n",
      "Test:  [324/325]  eta: 0:00:00  model_time: 0.0349 (0.0382)  evaluator_time: 0.0188 (0.0229)  time: 0.0543  data: 0.0001  max mem: 12638\n",
      "Test: Total time: 0:00:21 (0.0656 s / it)\n",
      "Averaged stats: model_time: 0.0349 (0.0382)  evaluator_time: 0.0188 (0.0229)\n",
      "Accumulating evaluation results...\n",
      "DONE (t=0.06s).\n",
      "Accumulating evaluation results...\n",
      "DONE (t=0.06s).\n",
      "IoU metric: bbox\n",
      " Average Precision  (AP) @[ IoU=0.50:0.95 | area=   all | maxDets=100 ] = 0.320\n",
      " Average Precision  (AP) @[ IoU=0.50      | area=   all | maxDets=100 ] = 0.645\n",
      " Average Precision  (AP) @[ IoU=0.75      | area=   all | maxDets=100 ] = 0.286\n",
      " Average Precision  (AP) @[ IoU=0.50:0.95 | area= small | maxDets=100 ] = 0.301\n",
      " Average Precision  (AP) @[ IoU=0.50:0.95 | area=medium | maxDets=100 ] = 0.337\n",
      " Average Precision  (AP) @[ IoU=0.50:0.95 | area= large | maxDets=100 ] = 0.468\n",
      " Average Recall     (AR) @[ IoU=0.50:0.95 | area=   all | maxDets=  1 ] = 0.062\n",
      " Average Recall     (AR) @[ IoU=0.50:0.95 | area=   all | maxDets= 10 ] = 0.353\n",
      " Average Recall     (AR) @[ IoU=0.50:0.95 | area=   all | maxDets=100 ] = 0.527\n",
      " Average Recall     (AR) @[ IoU=0.50:0.95 | area= small | maxDets=100 ] = 0.490\n",
      " Average Recall     (AR) @[ IoU=0.50:0.95 | area=medium | maxDets=100 ] = 0.563\n",
      " Average Recall     (AR) @[ IoU=0.50:0.95 | area= large | maxDets=100 ] = 0.693\n",
      "IoU metric: segm\n",
      " Average Precision  (AP) @[ IoU=0.50:0.95 | area=   all | maxDets=100 ] = 0.315\n",
      " Average Precision  (AP) @[ IoU=0.50      | area=   all | maxDets=100 ] = 0.667\n",
      " Average Precision  (AP) @[ IoU=0.75      | area=   all | maxDets=100 ] = 0.238\n",
      " Average Precision  (AP) @[ IoU=0.50:0.95 | area= small | maxDets=100 ] = 0.276\n",
      " Average Precision  (AP) @[ IoU=0.50:0.95 | area=medium | maxDets=100 ] = 0.352\n",
      " Average Precision  (AP) @[ IoU=0.50:0.95 | area= large | maxDets=100 ] = 0.524\n",
      " Average Recall     (AR) @[ IoU=0.50:0.95 | area=   all | maxDets=  1 ] = 0.059\n",
      " Average Recall     (AR) @[ IoU=0.50:0.95 | area=   all | maxDets= 10 ] = 0.334\n",
      " Average Recall     (AR) @[ IoU=0.50:0.95 | area=   all | maxDets=100 ] = 0.498\n",
      " Average Recall     (AR) @[ IoU=0.50:0.95 | area= small | maxDets=100 ] = 0.475\n",
      " Average Recall     (AR) @[ IoU=0.50:0.95 | area=medium | maxDets=100 ] = 0.519\n",
      " Average Recall     (AR) @[ IoU=0.50:0.95 | area= large | maxDets=100 ] = 0.599\n",
      "Epoch: [2]  [  0/324]  eta: 0:07:50  lr: 0.002000  loss: 0.5839 (0.5839)  loss_classifier: 0.0919 (0.0919)  loss_box_reg: 0.1747 (0.1747)  loss_mask: 0.2478 (0.2478)  loss_objectness: 0.0384 (0.0384)  loss_rpn_box_reg: 0.0311 (0.0311)  time: 1.4523  data: 1.3732  max mem: 12638\n",
      "Epoch: [2]  [ 50/324]  eta: 0:00:27  lr: 0.002000  loss: 0.7163 (0.7189)  loss_classifier: 0.1557 (0.1603)  loss_box_reg: 0.2402 (0.2563)  loss_mask: 0.2378 (0.2440)  loss_objectness: 0.0309 (0.0328)  loss_rpn_box_reg: 0.0267 (0.0254)  time: 0.0731  data: 0.0001  max mem: 12638\n",
      "Epoch: [2]  [100/324]  eta: 0:00:19  lr: 0.002000  loss: 0.6863 (0.7168)  loss_classifier: 0.1538 (0.1600)  loss_box_reg: 0.2426 (0.2561)  loss_mask: 0.2303 (0.2407)  loss_objectness: 0.0315 (0.0334)  loss_rpn_box_reg: 0.0223 (0.0266)  time: 0.0728  data: 0.0001  max mem: 12638\n",
      "Epoch: [2]  [150/324]  eta: 0:00:14  lr: 0.002000  loss: 0.7326 (0.7137)  loss_classifier: 0.1655 (0.1592)  loss_box_reg: 0.2641 (0.2531)  loss_mask: 0.2393 (0.2411)  loss_objectness: 0.0389 (0.0343)  loss_rpn_box_reg: 0.0278 (0.0261)  time: 0.0725  data: 0.0001  max mem: 12638\n",
      "Epoch: [2]  [200/324]  eta: 0:00:09  lr: 0.002000  loss: 0.6706 (0.7098)  loss_classifier: 0.1456 (0.1579)  loss_box_reg: 0.2380 (0.2520)  loss_mask: 0.2295 (0.2403)  loss_objectness: 0.0297 (0.0339)  loss_rpn_box_reg: 0.0197 (0.0257)  time: 0.0730  data: 0.0001  max mem: 12638\n",
      "Epoch: [2]  [250/324]  eta: 0:00:05  lr: 0.002000  loss: 0.7112 (0.7082)  loss_classifier: 0.1545 (0.1571)  loss_box_reg: 0.2392 (0.2509)  loss_mask: 0.2412 (0.2406)  loss_objectness: 0.0337 (0.0342)  loss_rpn_box_reg: 0.0230 (0.0253)  time: 0.0725  data: 0.0002  max mem: 12638\n",
      "Epoch: [2]  [300/324]  eta: 0:00:01  lr: 0.002000  loss: 0.6733 (0.7075)  loss_classifier: 0.1574 (0.1571)  loss_box_reg: 0.2383 (0.2507)  loss_mask: 0.2492 (0.2404)  loss_objectness: 0.0330 (0.0339)  loss_rpn_box_reg: 0.0182 (0.0253)  time: 0.0702  data: 0.0000  max mem: 12638\n",
      "Epoch: [2]  [323/324]  eta: 0:00:00  lr: 0.002000  loss: 0.7030 (0.7054)  loss_classifier: 0.1440 (0.1566)  loss_box_reg: 0.2371 (0.2493)  loss_mask: 0.2417 (0.2405)  loss_objectness: 0.0330 (0.0339)  loss_rpn_box_reg: 0.0170 (0.0250)  time: 0.0700  data: 0.0000  max mem: 12638\n",
      "Epoch: [2] Total time: 0:00:24 (0.0770 s / it)\n",
      "creating index...\n",
      "index created!\n",
      "Test:  [  0/325]  eta: 0:05:57  model_time: 0.0636 (0.0636)  evaluator_time: 0.0455 (0.0455)  time: 1.0991  data: 0.9895  max mem: 12638\n",
      "Test:  [100/325]  eta: 0:00:16  model_time: 0.0259 (0.0393)  evaluator_time: 0.0174 (0.0242)  time: 0.0533  data: 0.0001  max mem: 12638\n",
      "Test:  [200/325]  eta: 0:00:08  model_time: 0.0389 (0.0392)  evaluator_time: 0.0201 (0.0240)  time: 0.0618  data: 0.0001  max mem: 12638\n",
      "Test:  [300/325]  eta: 0:00:01  model_time: 0.0375 (0.0395)  evaluator_time: 0.0204 (0.0242)  time: 0.0577  data: 0.0001  max mem: 12638\n",
      "Test:  [324/325]  eta: 0:00:00  model_time: 0.0366 (0.0393)  evaluator_time: 0.0196 (0.0241)  time: 0.0557  data: 0.0001  max mem: 12638\n",
      "Test: Total time: 0:00:22 (0.0679 s / it)\n",
      "Averaged stats: model_time: 0.0366 (0.0393)  evaluator_time: 0.0196 (0.0241)\n",
      "Accumulating evaluation results...\n",
      "DONE (t=0.06s).\n",
      "Accumulating evaluation results...\n",
      "DONE (t=0.06s).\n",
      "IoU metric: bbox\n",
      " Average Precision  (AP) @[ IoU=0.50:0.95 | area=   all | maxDets=100 ] = 0.320\n",
      " Average Precision  (AP) @[ IoU=0.50      | area=   all | maxDets=100 ] = 0.638\n",
      " Average Precision  (AP) @[ IoU=0.75      | area=   all | maxDets=100 ] = 0.286\n",
      " Average Precision  (AP) @[ IoU=0.50:0.95 | area= small | maxDets=100 ] = 0.304\n",
      " Average Precision  (AP) @[ IoU=0.50:0.95 | area=medium | maxDets=100 ] = 0.334\n",
      " Average Precision  (AP) @[ IoU=0.50:0.95 | area= large | maxDets=100 ] = 0.469\n",
      " Average Recall     (AR) @[ IoU=0.50:0.95 | area=   all | maxDets=  1 ] = 0.063\n",
      " Average Recall     (AR) @[ IoU=0.50:0.95 | area=   all | maxDets= 10 ] = 0.353\n",
      " Average Recall     (AR) @[ IoU=0.50:0.95 | area=   all | maxDets=100 ] = 0.528\n",
      " Average Recall     (AR) @[ IoU=0.50:0.95 | area= small | maxDets=100 ] = 0.491\n",
      " Average Recall     (AR) @[ IoU=0.50:0.95 | area=medium | maxDets=100 ] = 0.564\n",
      " Average Recall     (AR) @[ IoU=0.50:0.95 | area= large | maxDets=100 ] = 0.701\n",
      "IoU metric: segm\n",
      " Average Precision  (AP) @[ IoU=0.50:0.95 | area=   all | maxDets=100 ] = 0.313\n",
      " Average Precision  (AP) @[ IoU=0.50      | area=   all | maxDets=100 ] = 0.668\n",
      " Average Precision  (AP) @[ IoU=0.75      | area=   all | maxDets=100 ] = 0.237\n",
      " Average Precision  (AP) @[ IoU=0.50:0.95 | area= small | maxDets=100 ] = 0.272\n",
      " Average Precision  (AP) @[ IoU=0.50:0.95 | area=medium | maxDets=100 ] = 0.352\n",
      " Average Precision  (AP) @[ IoU=0.50:0.95 | area= large | maxDets=100 ] = 0.517\n",
      " Average Recall     (AR) @[ IoU=0.50:0.95 | area=   all | maxDets=  1 ] = 0.060\n",
      " Average Recall     (AR) @[ IoU=0.50:0.95 | area=   all | maxDets= 10 ] = 0.332\n",
      " Average Recall     (AR) @[ IoU=0.50:0.95 | area=   all | maxDets=100 ] = 0.497\n",
      " Average Recall     (AR) @[ IoU=0.50:0.95 | area= small | maxDets=100 ] = 0.475\n",
      " Average Recall     (AR) @[ IoU=0.50:0.95 | area=medium | maxDets=100 ] = 0.520\n",
      " Average Recall     (AR) @[ IoU=0.50:0.95 | area= large | maxDets=100 ] = 0.586\n",
      "Epoch: [3]  [  0/324]  eta: 0:07:23  lr: 0.002000  loss: 0.6711 (0.6711)  loss_classifier: 0.1290 (0.1290)  loss_box_reg: 0.2722 (0.2722)  loss_mask: 0.2156 (0.2156)  loss_objectness: 0.0395 (0.0395)  loss_rpn_box_reg: 0.0148 (0.0148)  time: 1.3687  data: 1.2657  max mem: 12638\n",
      "Epoch: [3]  [ 50/324]  eta: 0:00:26  lr: 0.002000  loss: 0.6922 (0.7025)  loss_classifier: 0.1485 (0.1538)  loss_box_reg: 0.2529 (0.2487)  loss_mask: 0.2368 (0.2374)  loss_objectness: 0.0353 (0.0346)  loss_rpn_box_reg: 0.0214 (0.0281)  time: 0.0729  data: 0.0001  max mem: 12638\n",
      "Epoch: [3]  [100/324]  eta: 0:00:19  lr: 0.002000  loss: 0.7276 (0.6919)  loss_classifier: 0.1557 (0.1543)  loss_box_reg: 0.2679 (0.2420)  loss_mask: 0.2401 (0.2372)  loss_objectness: 0.0285 (0.0333)  loss_rpn_box_reg: 0.0246 (0.0251)  time: 0.0732  data: 0.0001  max mem: 12638\n",
      "Epoch: [3]  [150/324]  eta: 0:00:14  lr: 0.002000  loss: 0.7237 (0.7009)  loss_classifier: 0.1561 (0.1555)  loss_box_reg: 0.2526 (0.2478)  loss_mask: 0.2392 (0.2396)  loss_objectness: 0.0313 (0.0333)  loss_rpn_box_reg: 0.0207 (0.0248)  time: 0.0728  data: 0.0001  max mem: 12638\n",
      "Epoch: [3]  [200/324]  eta: 0:00:09  lr: 0.002000  loss: 0.6813 (0.7039)  loss_classifier: 0.1446 (0.1556)  loss_box_reg: 0.2383 (0.2497)  loss_mask: 0.2352 (0.2397)  loss_objectness: 0.0318 (0.0340)  loss_rpn_box_reg: 0.0214 (0.0249)  time: 0.0723  data: 0.0001  max mem: 12638\n",
      "Epoch: [3]  [250/324]  eta: 0:00:05  lr: 0.002000  loss: 0.6475 (0.7030)  loss_classifier: 0.1562 (0.1562)  loss_box_reg: 0.2132 (0.2488)  loss_mask: 0.2423 (0.2393)  loss_objectness: 0.0296 (0.0340)  loss_rpn_box_reg: 0.0199 (0.0247)  time: 0.0715  data: 0.0001  max mem: 12638\n",
      "Epoch: [3]  [300/324]  eta: 0:00:01  lr: 0.002000  loss: 0.7165 (0.7032)  loss_classifier: 0.1543 (0.1565)  loss_box_reg: 0.2604 (0.2478)  loss_mask: 0.2388 (0.2401)  loss_objectness: 0.0346 (0.0340)  loss_rpn_box_reg: 0.0216 (0.0247)  time: 0.0704  data: 0.0000  max mem: 12638\n",
      "Epoch: [3]  [323/324]  eta: 0:00:00  lr: 0.002000  loss: 0.6954 (0.7051)  loss_classifier: 0.1525 (0.1566)  loss_box_reg: 0.2678 (0.2488)  loss_mask: 0.2417 (0.2408)  loss_objectness: 0.0323 (0.0341)  loss_rpn_box_reg: 0.0238 (0.0249)  time: 0.0709  data: 0.0000  max mem: 12638\n",
      "Epoch: [3] Total time: 0:00:24 (0.0766 s / it)\n",
      "creating index...\n",
      "index created!\n",
      "Test:  [  0/325]  eta: 0:05:48  model_time: 0.0657 (0.0657)  evaluator_time: 0.0433 (0.0433)  time: 1.0737  data: 0.9642  max mem: 12638\n",
      "Test:  [100/325]  eta: 0:00:16  model_time: 0.0322 (0.0381)  evaluator_time: 0.0163 (0.0232)  time: 0.0522  data: 0.0001  max mem: 12638\n",
      "Test:  [200/325]  eta: 0:00:08  model_time: 0.0361 (0.0383)  evaluator_time: 0.0189 (0.0231)  time: 0.0591  data: 0.0001  max mem: 12638\n",
      "Test:  [300/325]  eta: 0:00:01  model_time: 0.0364 (0.0384)  evaluator_time: 0.0187 (0.0233)  time: 0.0561  data: 0.0001  max mem: 12638\n",
      "Test:  [324/325]  eta: 0:00:00  model_time: 0.0350 (0.0381)  evaluator_time: 0.0189 (0.0231)  time: 0.0527  data: 0.0001  max mem: 12638\n",
      "Test: Total time: 0:00:21 (0.0657 s / it)\n",
      "Averaged stats: model_time: 0.0350 (0.0381)  evaluator_time: 0.0189 (0.0231)\n",
      "Accumulating evaluation results...\n",
      "DONE (t=0.06s).\n",
      "Accumulating evaluation results...\n",
      "DONE (t=0.06s).\n",
      "IoU metric: bbox\n",
      " Average Precision  (AP) @[ IoU=0.50:0.95 | area=   all | maxDets=100 ] = 0.320\n",
      " Average Precision  (AP) @[ IoU=0.50      | area=   all | maxDets=100 ] = 0.641\n",
      " Average Precision  (AP) @[ IoU=0.75      | area=   all | maxDets=100 ] = 0.284\n",
      " Average Precision  (AP) @[ IoU=0.50:0.95 | area= small | maxDets=100 ] = 0.302\n",
      " Average Precision  (AP) @[ IoU=0.50:0.95 | area=medium | maxDets=100 ] = 0.333\n",
      " Average Precision  (AP) @[ IoU=0.50:0.95 | area= large | maxDets=100 ] = 0.472\n",
      " Average Recall     (AR) @[ IoU=0.50:0.95 | area=   all | maxDets=  1 ] = 0.062\n",
      " Average Recall     (AR) @[ IoU=0.50:0.95 | area=   all | maxDets= 10 ] = 0.353\n",
      " Average Recall     (AR) @[ IoU=0.50:0.95 | area=   all | maxDets=100 ] = 0.530\n",
      " Average Recall     (AR) @[ IoU=0.50:0.95 | area= small | maxDets=100 ] = 0.492\n",
      " Average Recall     (AR) @[ IoU=0.50:0.95 | area=medium | maxDets=100 ] = 0.567\n",
      " Average Recall     (AR) @[ IoU=0.50:0.95 | area= large | maxDets=100 ] = 0.702\n",
      "IoU metric: segm\n",
      " Average Precision  (AP) @[ IoU=0.50:0.95 | area=   all | maxDets=100 ] = 0.315\n",
      " Average Precision  (AP) @[ IoU=0.50      | area=   all | maxDets=100 ] = 0.668\n",
      " Average Precision  (AP) @[ IoU=0.75      | area=   all | maxDets=100 ] = 0.241\n",
      " Average Precision  (AP) @[ IoU=0.50:0.95 | area= small | maxDets=100 ] = 0.274\n",
      " Average Precision  (AP) @[ IoU=0.50:0.95 | area=medium | maxDets=100 ] = 0.353\n",
      " Average Precision  (AP) @[ IoU=0.50:0.95 | area= large | maxDets=100 ] = 0.525\n",
      " Average Recall     (AR) @[ IoU=0.50:0.95 | area=   all | maxDets=  1 ] = 0.059\n",
      " Average Recall     (AR) @[ IoU=0.50:0.95 | area=   all | maxDets= 10 ] = 0.334\n",
      " Average Recall     (AR) @[ IoU=0.50:0.95 | area=   all | maxDets=100 ] = 0.499\n",
      " Average Recall     (AR) @[ IoU=0.50:0.95 | area= small | maxDets=100 ] = 0.477\n",
      " Average Recall     (AR) @[ IoU=0.50:0.95 | area=medium | maxDets=100 ] = 0.519\n",
      " Average Recall     (AR) @[ IoU=0.50:0.95 | area= large | maxDets=100 ] = 0.602\n",
      "Epoch: [4]  [  0/324]  eta: 0:08:13  lr: 0.002000  loss: 0.6161 (0.6161)  loss_classifier: 0.1368 (0.1368)  loss_box_reg: 0.1998 (0.1998)  loss_mask: 0.2390 (0.2390)  loss_objectness: 0.0242 (0.0242)  loss_rpn_box_reg: 0.0162 (0.0162)  time: 1.5235  data: 1.4449  max mem: 12638\n"
     ]
    },
    {
     "ename": "KeyboardInterrupt",
     "evalue": "",
     "output_type": "error",
     "traceback": [
      "\u001b[0;31m---------------------------------------------------------------------------\u001b[0m",
      "\u001b[0;31mKeyboardInterrupt\u001b[0m                         Traceback (most recent call last)",
      "Cell \u001b[0;32mIn[14], line 34\u001b[0m\n\u001b[1;32m     29\u001b[0m scheduler \u001b[39m=\u001b[39m torch\u001b[39m.\u001b[39moptim\u001b[39m.\u001b[39mlr_scheduler\u001b[39m.\u001b[39mLinearLR(optimizer,start_factor\u001b[39m=\u001b[39m\u001b[39m1\u001b[39m,\n\u001b[1;32m     30\u001b[0m                                         end_factor\u001b[39m=\u001b[39m\u001b[39m1\u001b[39m,\n\u001b[1;32m     31\u001b[0m                                         total_iters\u001b[39m=\u001b[39m\u001b[39m30\u001b[39m)\n\u001b[1;32m     33\u001b[0m \u001b[39mfor\u001b[39;00m epoch \u001b[39min\u001b[39;00m \u001b[39mrange\u001b[39m(EPOCHS):\n\u001b[0;32m---> 34\u001b[0m     train_one_epoch(model, optimizer, train_dl, device, epoch, print_freq\u001b[39m=\u001b[39;49m\u001b[39m50\u001b[39;49m)\n\u001b[1;32m     35\u001b[0m     evaluate(model, val_dl, device\u001b[39m=\u001b[39mdevice)\n\u001b[1;32m     36\u001b[0m     scheduler\u001b[39m.\u001b[39mstep()\n",
      "File \u001b[0;32m~/Documents/kaggle/hubmap-2023/experiments/mask-rcnn/vanilla-mask-rcnn-2-anchors-loss-weights/detection-wheel/engine_2.py:31\u001b[0m, in \u001b[0;36mtrain_one_epoch\u001b[0;34m(model, optimizer, data_loader, device, epoch, print_freq, scaler)\u001b[0m\n\u001b[1;32m     29\u001b[0m targets \u001b[39m=\u001b[39m [{k: v\u001b[39m.\u001b[39mto(device) \u001b[39mfor\u001b[39;00m k, v \u001b[39min\u001b[39;00m t\u001b[39m.\u001b[39mitems()} \u001b[39mfor\u001b[39;00m t \u001b[39min\u001b[39;00m targets]\n\u001b[1;32m     30\u001b[0m \u001b[39mwith\u001b[39;00m torch\u001b[39m.\u001b[39mcuda\u001b[39m.\u001b[39mamp\u001b[39m.\u001b[39mautocast(enabled\u001b[39m=\u001b[39mscaler \u001b[39mis\u001b[39;00m \u001b[39mnot\u001b[39;00m \u001b[39mNone\u001b[39;00m):\n\u001b[0;32m---> 31\u001b[0m     loss_dict \u001b[39m=\u001b[39m model(images, targets)\n\u001b[1;32m     32\u001b[0m     losses \u001b[39m=\u001b[39m \u001b[39msum\u001b[39m(loss \u001b[39mfor\u001b[39;00m loss \u001b[39min\u001b[39;00m loss_dict\u001b[39m.\u001b[39mvalues())\n\u001b[1;32m     34\u001b[0m \u001b[39m# reduce losses over all GPUs for logging purposes\u001b[39;00m\n",
      "File \u001b[0;32m~/miniconda3/envs/torch-env/lib/python3.9/site-packages/torch/nn/modules/module.py:1501\u001b[0m, in \u001b[0;36mModule._call_impl\u001b[0;34m(self, *args, **kwargs)\u001b[0m\n\u001b[1;32m   1496\u001b[0m \u001b[39m# If we don't have any hooks, we want to skip the rest of the logic in\u001b[39;00m\n\u001b[1;32m   1497\u001b[0m \u001b[39m# this function, and just call forward.\u001b[39;00m\n\u001b[1;32m   1498\u001b[0m \u001b[39mif\u001b[39;00m \u001b[39mnot\u001b[39;00m (\u001b[39mself\u001b[39m\u001b[39m.\u001b[39m_backward_hooks \u001b[39mor\u001b[39;00m \u001b[39mself\u001b[39m\u001b[39m.\u001b[39m_backward_pre_hooks \u001b[39mor\u001b[39;00m \u001b[39mself\u001b[39m\u001b[39m.\u001b[39m_forward_hooks \u001b[39mor\u001b[39;00m \u001b[39mself\u001b[39m\u001b[39m.\u001b[39m_forward_pre_hooks\n\u001b[1;32m   1499\u001b[0m         \u001b[39mor\u001b[39;00m _global_backward_pre_hooks \u001b[39mor\u001b[39;00m _global_backward_hooks\n\u001b[1;32m   1500\u001b[0m         \u001b[39mor\u001b[39;00m _global_forward_hooks \u001b[39mor\u001b[39;00m _global_forward_pre_hooks):\n\u001b[0;32m-> 1501\u001b[0m     \u001b[39mreturn\u001b[39;00m forward_call(\u001b[39m*\u001b[39;49margs, \u001b[39m*\u001b[39;49m\u001b[39m*\u001b[39;49mkwargs)\n\u001b[1;32m   1502\u001b[0m \u001b[39m# Do not call functions when jit is used\u001b[39;00m\n\u001b[1;32m   1503\u001b[0m full_backward_hooks, non_full_backward_hooks \u001b[39m=\u001b[39m [], []\n",
      "File \u001b[0;32m~/miniconda3/envs/torch-env/lib/python3.9/site-packages/torchvision/models/detection/generalized_rcnn.py:104\u001b[0m, in \u001b[0;36mGeneralizedRCNN.forward\u001b[0;34m(self, images, targets)\u001b[0m\n\u001b[1;32m    102\u001b[0m \u001b[39mif\u001b[39;00m \u001b[39misinstance\u001b[39m(features, torch\u001b[39m.\u001b[39mTensor):\n\u001b[1;32m    103\u001b[0m     features \u001b[39m=\u001b[39m OrderedDict([(\u001b[39m\"\u001b[39m\u001b[39m0\u001b[39m\u001b[39m\"\u001b[39m, features)])\n\u001b[0;32m--> 104\u001b[0m proposals, proposal_losses \u001b[39m=\u001b[39m \u001b[39mself\u001b[39;49m\u001b[39m.\u001b[39;49mrpn(images, features, targets)\n\u001b[1;32m    105\u001b[0m detections, detector_losses \u001b[39m=\u001b[39m \u001b[39mself\u001b[39m\u001b[39m.\u001b[39mroi_heads(features, proposals, images\u001b[39m.\u001b[39mimage_sizes, targets)\n\u001b[1;32m    106\u001b[0m detections \u001b[39m=\u001b[39m \u001b[39mself\u001b[39m\u001b[39m.\u001b[39mtransform\u001b[39m.\u001b[39mpostprocess(detections, images\u001b[39m.\u001b[39mimage_sizes, original_image_sizes)  \u001b[39m# type: ignore[operator]\u001b[39;00m\n",
      "File \u001b[0;32m~/miniconda3/envs/torch-env/lib/python3.9/site-packages/torch/nn/modules/module.py:1501\u001b[0m, in \u001b[0;36mModule._call_impl\u001b[0;34m(self, *args, **kwargs)\u001b[0m\n\u001b[1;32m   1496\u001b[0m \u001b[39m# If we don't have any hooks, we want to skip the rest of the logic in\u001b[39;00m\n\u001b[1;32m   1497\u001b[0m \u001b[39m# this function, and just call forward.\u001b[39;00m\n\u001b[1;32m   1498\u001b[0m \u001b[39mif\u001b[39;00m \u001b[39mnot\u001b[39;00m (\u001b[39mself\u001b[39m\u001b[39m.\u001b[39m_backward_hooks \u001b[39mor\u001b[39;00m \u001b[39mself\u001b[39m\u001b[39m.\u001b[39m_backward_pre_hooks \u001b[39mor\u001b[39;00m \u001b[39mself\u001b[39m\u001b[39m.\u001b[39m_forward_hooks \u001b[39mor\u001b[39;00m \u001b[39mself\u001b[39m\u001b[39m.\u001b[39m_forward_pre_hooks\n\u001b[1;32m   1499\u001b[0m         \u001b[39mor\u001b[39;00m _global_backward_pre_hooks \u001b[39mor\u001b[39;00m _global_backward_hooks\n\u001b[1;32m   1500\u001b[0m         \u001b[39mor\u001b[39;00m _global_forward_hooks \u001b[39mor\u001b[39;00m _global_forward_pre_hooks):\n\u001b[0;32m-> 1501\u001b[0m     \u001b[39mreturn\u001b[39;00m forward_call(\u001b[39m*\u001b[39;49margs, \u001b[39m*\u001b[39;49m\u001b[39m*\u001b[39;49mkwargs)\n\u001b[1;32m   1502\u001b[0m \u001b[39m# Do not call functions when jit is used\u001b[39;00m\n\u001b[1;32m   1503\u001b[0m full_backward_hooks, non_full_backward_hooks \u001b[39m=\u001b[39m [], []\n",
      "File \u001b[0;32m~/miniconda3/envs/torch-env/lib/python3.9/site-packages/torchvision/models/detection/rpn.py:370\u001b[0m, in \u001b[0;36mRegionProposalNetwork.forward\u001b[0;34m(self, images, features, targets)\u001b[0m\n\u001b[1;32m    366\u001b[0m objectness, pred_bbox_deltas \u001b[39m=\u001b[39m concat_box_prediction_layers(objectness, pred_bbox_deltas)\n\u001b[1;32m    367\u001b[0m \u001b[39m# apply pred_bbox_deltas to anchors to obtain the decoded proposals\u001b[39;00m\n\u001b[1;32m    368\u001b[0m \u001b[39m# note that we detach the deltas because Faster R-CNN do not backprop through\u001b[39;00m\n\u001b[1;32m    369\u001b[0m \u001b[39m# the proposals\u001b[39;00m\n\u001b[0;32m--> 370\u001b[0m proposals \u001b[39m=\u001b[39m \u001b[39mself\u001b[39;49m\u001b[39m.\u001b[39;49mbox_coder\u001b[39m.\u001b[39;49mdecode(pred_bbox_deltas\u001b[39m.\u001b[39;49mdetach(), anchors)\n\u001b[1;32m    371\u001b[0m proposals \u001b[39m=\u001b[39m proposals\u001b[39m.\u001b[39mview(num_images, \u001b[39m-\u001b[39m\u001b[39m1\u001b[39m, \u001b[39m4\u001b[39m)\n\u001b[1;32m    372\u001b[0m boxes, scores \u001b[39m=\u001b[39m \u001b[39mself\u001b[39m\u001b[39m.\u001b[39mfilter_proposals(proposals, objectness, images\u001b[39m.\u001b[39mimage_sizes, num_anchors_per_level)\n",
      "File \u001b[0;32m~/miniconda3/envs/torch-env/lib/python3.9/site-packages/torchvision/models/detection/_utils.py:178\u001b[0m, in \u001b[0;36mBoxCoder.decode\u001b[0;34m(self, rel_codes, boxes)\u001b[0m\n\u001b[1;32m    176\u001b[0m \u001b[39mif\u001b[39;00m box_sum \u001b[39m>\u001b[39m \u001b[39m0\u001b[39m:\n\u001b[1;32m    177\u001b[0m     rel_codes \u001b[39m=\u001b[39m rel_codes\u001b[39m.\u001b[39mreshape(box_sum, \u001b[39m-\u001b[39m\u001b[39m1\u001b[39m)\n\u001b[0;32m--> 178\u001b[0m pred_boxes \u001b[39m=\u001b[39m \u001b[39mself\u001b[39;49m\u001b[39m.\u001b[39;49mdecode_single(rel_codes, concat_boxes)\n\u001b[1;32m    179\u001b[0m \u001b[39mif\u001b[39;00m box_sum \u001b[39m>\u001b[39m \u001b[39m0\u001b[39m:\n\u001b[1;32m    180\u001b[0m     pred_boxes \u001b[39m=\u001b[39m pred_boxes\u001b[39m.\u001b[39mreshape(box_sum, \u001b[39m-\u001b[39m\u001b[39m1\u001b[39m, \u001b[39m4\u001b[39m)\n",
      "File \u001b[0;32m~/miniconda3/envs/torch-env/lib/python3.9/site-packages/torchvision/models/detection/_utils.py:216\u001b[0m, in \u001b[0;36mBoxCoder.decode_single\u001b[0;34m(self, rel_codes, boxes)\u001b[0m\n\u001b[1;32m    213\u001b[0m pred_h \u001b[39m=\u001b[39m torch\u001b[39m.\u001b[39mexp(dh) \u001b[39m*\u001b[39m heights[:, \u001b[39mNone\u001b[39;00m]\n\u001b[1;32m    215\u001b[0m \u001b[39m# Distance from center to box's corner.\u001b[39;00m\n\u001b[0;32m--> 216\u001b[0m c_to_c_h \u001b[39m=\u001b[39m torch\u001b[39m.\u001b[39;49mtensor(\u001b[39m0.5\u001b[39;49m, dtype\u001b[39m=\u001b[39;49mpred_ctr_y\u001b[39m.\u001b[39;49mdtype, device\u001b[39m=\u001b[39;49mpred_h\u001b[39m.\u001b[39;49mdevice) \u001b[39m*\u001b[39m pred_h\n\u001b[1;32m    217\u001b[0m c_to_c_w \u001b[39m=\u001b[39m torch\u001b[39m.\u001b[39mtensor(\u001b[39m0.5\u001b[39m, dtype\u001b[39m=\u001b[39mpred_ctr_x\u001b[39m.\u001b[39mdtype, device\u001b[39m=\u001b[39mpred_w\u001b[39m.\u001b[39mdevice) \u001b[39m*\u001b[39m pred_w\n\u001b[1;32m    219\u001b[0m pred_boxes1 \u001b[39m=\u001b[39m pred_ctr_x \u001b[39m-\u001b[39m c_to_c_w\n",
      "\u001b[0;31mKeyboardInterrupt\u001b[0m: "
     ]
    }
   ],
   "source": [
    "kf = KFold(n_splits=5, shuffle=True, random_state=43)\n",
    "for i, (train_index, test_index) in enumerate(kf.split(range(n_imgs))):\n",
    "    if i!=0: continue\n",
    "    all_imgs = sorted(glob.glob('/home/viktor/Documents/kaggle/hubmap-2023/experiments/mask-rcnn/new-dataset/train/image/*.png'))\n",
    "    all_masks = sorted(glob.glob('/home/viktor/Documents/kaggle/hubmap-2023/experiments/mask-rcnn/new-dataset/train/mask/*.png'))\n",
    "    all_imgs = np.array(all_imgs)\n",
    "    all_masks = np.array(all_masks)\n",
    "    train_img = all_imgs[train_index]\n",
    "    train_mask = all_masks[train_index]\n",
    "    val_img = all_imgs[test_index]\n",
    "    val_mask = all_masks[test_index]\n",
    "    dataset_train = PennFudanDataset(train_img, train_mask, get_transform(train=True))\n",
    "    dataset_val = PennFudanDataset(val_img, val_mask, get_transform(train=False))\n",
    "    train_dl = torch.utils.data.DataLoader(\n",
    "        dataset_train, batch_size=4, shuffle=True, num_workers=os.cpu_count(), pin_memory=True, drop_last=True, collate_fn=utils.collate_fn)\n",
    "    val_dl = torch.utils.data.DataLoader(\n",
    "        dataset_val, batch_size=1, shuffle=False, num_workers=os.cpu_count(), pin_memory=True,collate_fn=utils.collate_fn)\n",
    "    \n",
    "    \n",
    "    params = [p for p in model.parameters() if p.requires_grad]\n",
    "    optimizer = torch.optim.SGD(params, lr=0.002)\n",
    "    # scheduler = torch.optim.lr_scheduler.ExponentialLR(optimizer, gamma=0.9)\n",
    "    # set linear warmup scheduler, with constant learning rate after warmup\n",
    "    # scheduler = torch.optim.lr_scheduler.OneCycleLR(optimizer, max_lr=0.0001,\n",
    "    #                                             steps_per_epoch=10, epochs=EPOCHS//10,\n",
    "    #                                             pct_start=0.01)\n",
    "    \n",
    "    \n",
    "    scheduler = torch.optim.lr_scheduler.LinearLR(optimizer,start_factor=1,\n",
    "                                            end_factor=1,\n",
    "                                            total_iters=30)\n",
    "    \n",
    "    for epoch in range(EPOCHS):\n",
    "        train_one_epoch(model, optimizer, train_dl, device, epoch, print_freq=50)\n",
    "        evaluate(model, val_dl, device=device)\n",
    "        scheduler.step()\n",
    "        model_path = f'ckpts-swa/fold_{i}_epoch{epoch}.pth'\n",
    "        torch.save(model.state_dict(), model_path)\n",
    "        "
   ]
  },
  {
   "cell_type": "code",
   "execution_count": null,
   "metadata": {
    "execution": {
     "iopub.execute_input": "2023-07-11T20:55:51.270596Z",
     "iopub.status.busy": "2023-07-11T20:55:51.270487Z",
     "iopub.status.idle": "2023-07-11T20:55:51.272248Z",
     "shell.execute_reply": "2023-07-11T20:55:51.272071Z"
    }
   },
   "outputs": [],
   "source": [
    "all_indices = np.arange(n_imgs)\n",
    "# take random 1400 images for training\n",
    "train_index = np.random.choice(all_indices, size=1400, replace=False)\n",
    "# take the rest for validation\n",
    "test_index = np.setdiff1d(all_indices, train_index)\n",
    "\n"
   ]
  },
  {
   "cell_type": "code",
   "execution_count": null,
   "metadata": {
    "execution": {
     "iopub.execute_input": "2023-07-11T20:55:51.273372Z",
     "iopub.status.busy": "2023-07-11T20:55:51.273257Z",
     "iopub.status.idle": "2023-07-11T20:55:51.274962Z",
     "shell.execute_reply": "2023-07-11T20:55:51.274789Z"
    }
   },
   "outputs": [],
   "source": [
    "# check if train_index and test_index are mutually exclusive\n",
    "len(np.intersect1d(train_index, test_index))"
   ]
  },
  {
   "cell_type": "code",
   "execution_count": null,
   "metadata": {},
   "outputs": [],
   "source": []
  }
 ],
 "metadata": {
  "kernelspec": {
   "display_name": "Python 3",
   "language": "python",
   "name": "python3"
  },
  "language_info": {
   "codemirror_mode": {
    "name": "ipython",
    "version": 3
   },
   "file_extension": ".py",
   "mimetype": "text/x-python",
   "name": "python",
   "nbconvert_exporter": "python",
   "pygments_lexer": "ipython3",
   "version": "3.9.16"
  }
 },
 "nbformat": 4,
 "nbformat_minor": 4
}
