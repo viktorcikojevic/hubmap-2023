{
 "cells": [
  {
   "cell_type": "code",
   "execution_count": 1,
   "metadata": {
    "_cell_guid": "b1076dfc-b9ad-4769-8c92-a6c4dae69d19",
    "_uuid": "8f2839f25d086af736a60e9eeb907d3b93b6e0e5",
    "execution": {
     "iopub.execute_input": "2023-07-11T20:55:50.158863Z",
     "iopub.status.busy": "2023-07-11T20:55:50.158344Z",
     "iopub.status.idle": "2023-07-11T20:55:50.649519Z",
     "shell.execute_reply": "2023-07-11T20:55:50.649187Z"
    }
   },
   "outputs": [],
   "source": [
    "import os, glob\n",
    "import sys\n",
    "import json\n",
    "from PIL import Image\n",
    "from collections import Counter\n",
    "\n",
    "import numpy as np\n",
    "import pandas as pd\n",
    "import plotly.express as px\n",
    "import plotly.graph_objects as go\n",
    "import tifffile as tiff\n",
    "import matplotlib.pyplot as plt\n",
    "from tqdm import tqdm\n",
    "\n",
    "import cv2\n",
    "\n",
    "from sklearn.model_selection import KFold\n",
    "\n",
    "sys.path.append(\"detection-wheel\")"
   ]
  },
  {
   "cell_type": "code",
   "execution_count": 2,
   "metadata": {
    "execution": {
     "iopub.execute_input": "2023-07-11T20:55:50.651038Z",
     "iopub.status.busy": "2023-07-11T20:55:50.650891Z",
     "iopub.status.idle": "2023-07-11T20:55:50.652551Z",
     "shell.execute_reply": "2023-07-11T20:55:50.652375Z"
    }
   },
   "outputs": [],
   "source": [
    "EPOCHS = 5"
   ]
  },
  {
   "cell_type": "code",
   "execution_count": 3,
   "metadata": {
    "execution": {
     "iopub.execute_input": "2023-07-11T20:55:50.653765Z",
     "iopub.status.busy": "2023-07-11T20:55:50.653677Z",
     "iopub.status.idle": "2023-07-11T20:55:51.175336Z",
     "shell.execute_reply": "2023-07-11T20:55:51.175011Z"
    }
   },
   "outputs": [],
   "source": [
    "import os\n",
    "import numpy as np\n",
    "import torch\n",
    "from PIL import Image\n",
    "\n",
    "\n",
    "class PennFudanDataset(torch.utils.data.Dataset):\n",
    "    def __init__(self, imgs, masks, transforms):\n",
    "        self.transforms = transforms\n",
    "        # load all image files, sorting them to\n",
    "        # ensure that they are aligned\n",
    "        self.imgs = imgs#sorted(glob.glob('/home/viktor/Documents/kaggle/hubmap-2023/experiments/mask-rcnn/new-dataset/train/image/*.png'))\n",
    "        self.masks = masks#sorted(glob.glob('/home/viktor/Documents/kaggle/hubmap-2023/experiments/mask-rcnn/new-dataset/train/mask/*.png'))\n",
    "\n",
    "    def __getitem__(self, idx):\n",
    "        # load images and masks\n",
    "        img_path = self.imgs[idx]\n",
    "        mask_path = self.masks[idx]\n",
    "        img = Image.open(img_path).convert(\"RGB\")\n",
    "        # note that we haven't converted the mask to RGB,\n",
    "        # because each color corresponds to a different instance\n",
    "        # with 0 being background\n",
    "        mask = Image.open(mask_path).convert('L')\n",
    "        # convert the PIL Image into a numpy array\n",
    "        mask = np.array(mask)\n",
    "        # instances are encoded as different colors\n",
    "        obj_ids = np.unique(mask)\n",
    "        # first id is the background, so remove it\n",
    "        obj_ids = obj_ids[1:]\n",
    "\n",
    "        # split the color-encoded mask into a set\n",
    "        # of binary masks\n",
    "        #masks = (mask == obj_ids[:, None, None])\n",
    "        #print((obj_ids[:, None, None]).shape)\n",
    "        #masks = mask == obj_ids[:, None, None]\n",
    "        masks = [np.where(mask== obj_ids[i, None, None],1,0) for i in range(len(obj_ids))]\n",
    "        masks = np.array(masks)\n",
    "\n",
    "        # get bounding box coordinates for each mask\n",
    "        num_objs = len(obj_ids)\n",
    "        boxes = []\n",
    "        for i in range(num_objs):\n",
    "            pos = np.nonzero(masks[i])\n",
    "            xmin = np.min(pos[1])\n",
    "            xmax = np.max(pos[1])\n",
    "            ymin = np.min(pos[0])\n",
    "            ymax = np.max(pos[0])\n",
    "            boxes.append([xmin, ymin, xmax, ymax])\n",
    "\n",
    "        # convert everything into a torch.Tensor\n",
    "        boxes = torch.as_tensor(boxes, dtype=torch.float32)\n",
    "        # there is only one class\n",
    "        labels = torch.ones((num_objs,), dtype=torch.int64)\n",
    "        masks = torch.as_tensor(masks, dtype=torch.uint8)\n",
    "\n",
    "        image_id = torch.tensor([idx])\n",
    "        try:\n",
    "            area = (boxes[:, 3] - boxes[:, 1]) * (boxes[:, 2] - boxes[:, 0])\n",
    "            #print(area,area.shape,area.dtype)\n",
    "        except:\n",
    "            area = torch.tensor([[0],[0]])\n",
    "        # suppose all instances are not crowd\n",
    "        iscrowd = torch.zeros((num_objs,), dtype=torch.int64)\n",
    "        \n",
    "        #print(masks.shape)\n",
    "\n",
    "        target = {}\n",
    "        target[\"boxes\"] = boxes\n",
    "        target[\"labels\"] = labels\n",
    "        target[\"masks\"] = masks\n",
    "        target[\"image_id\"] = image_id\n",
    "        target[\"area\"] = area\n",
    "        target[\"iscrowd\"] = iscrowd\n",
    "\n",
    "        if self.transforms is not None:\n",
    "            img, target = self.transforms(img, target)\n",
    "\n",
    "        return img, target\n",
    "\n",
    "    def __len__(self):\n",
    "        return len(self.imgs)"
   ]
  },
  {
   "cell_type": "code",
   "execution_count": 4,
   "metadata": {
    "execution": {
     "iopub.execute_input": "2023-07-11T20:55:51.176860Z",
     "iopub.status.busy": "2023-07-11T20:55:51.176708Z",
     "iopub.status.idle": "2023-07-11T20:55:51.228454Z",
     "shell.execute_reply": "2023-07-11T20:55:51.228169Z"
    }
   },
   "outputs": [
    {
     "data": {
      "text/plain": [
       "['fasterrcnn_mobilenet_v3_large_320_fpn',\n",
       " 'fasterrcnn_mobilenet_v3_large_fpn',\n",
       " 'fasterrcnn_resnet50_fpn',\n",
       " 'fasterrcnn_resnet50_fpn_v2',\n",
       " 'fcos_resnet50_fpn',\n",
       " 'keypointrcnn_resnet50_fpn',\n",
       " 'maskrcnn_resnet50_fpn',\n",
       " 'maskrcnn_resnet50_fpn_v2',\n",
       " 'retinanet_resnet50_fpn',\n",
       " 'retinanet_resnet50_fpn_v2',\n",
       " 'ssd300_vgg16',\n",
       " 'ssdlite320_mobilenet_v3_large']"
      ]
     },
     "execution_count": 4,
     "metadata": {},
     "output_type": "execute_result"
    }
   ],
   "source": [
    "import torchvision\n",
    "from torchvision.models import list_models\n",
    "detection_models = list_models(module=torchvision.models.detection)\n",
    "detection_models"
   ]
  },
  {
   "cell_type": "code",
   "execution_count": 5,
   "metadata": {
    "execution": {
     "iopub.execute_input": "2023-07-11T20:55:51.243653Z",
     "iopub.status.busy": "2023-07-11T20:55:51.243517Z",
     "iopub.status.idle": "2023-07-11T20:55:51.245790Z",
     "shell.execute_reply": "2023-07-11T20:55:51.245599Z"
    }
   },
   "outputs": [],
   "source": [
    "import torchvision\n",
    "import torchvision\n",
    "from torchvision.models.detection.faster_rcnn import FastRCNNPredictor\n",
    "from torchvision.models.detection.mask_rcnn import MaskRCNNPredictor\n",
    "from torchvision.models.resnet import ResNet50_Weights\n",
    "\n",
    "def get_model_instance_segmentation(num_classes):\n",
    "    # load an instance segmentation model pre-trained on COCO\n",
    "    model = torchvision.models.detection.maskrcnn_resnet50_fpn_v2(weights=\"DEFAULT\", weights_backbone=ResNet50_Weights.IMAGENET1K_V2)\n",
    "\n",
    "    # get number of input features for the classifier\n",
    "    in_features = model.roi_heads.box_predictor.cls_score.in_features\n",
    "    # replace the pre-trained head with a new one\n",
    "    model.roi_heads.box_predictor = FastRCNNPredictor(in_features, num_classes)\n",
    "\n",
    "    # now get the number of input features for the mask classifier\n",
    "    in_features_mask = model.roi_heads.mask_predictor.conv5_mask.in_channels\n",
    "    hidden_layer = 256\n",
    "    # and replace the mask predictor with a new one\n",
    "    model.roi_heads.mask_predictor = MaskRCNNPredictor(in_features_mask,\n",
    "                                                       hidden_layer,\n",
    "                                                       num_classes)\n",
    "    \n",
    "    # model.rpn.anchor_generator.sizes = ((8, 16, 32, 64, 128,256),)\n",
    "\n",
    "    return model"
   ]
  },
  {
   "cell_type": "code",
   "execution_count": 6,
   "metadata": {},
   "outputs": [],
   "source": [
    "# model = get_model_instance_segmentation(2)\n",
    "# model.rpn.anchor_generator.__dict__"
   ]
  },
  {
   "cell_type": "code",
   "execution_count": 7,
   "metadata": {
    "execution": {
     "iopub.execute_input": "2023-07-11T20:55:51.246962Z",
     "iopub.status.busy": "2023-07-11T20:55:51.246818Z",
     "iopub.status.idle": "2023-07-11T20:55:51.248892Z",
     "shell.execute_reply": "2023-07-11T20:55:51.248702Z"
    }
   },
   "outputs": [],
   "source": [
    "import transforms as T\n",
    "\n",
    "def get_transform(train):\n",
    "    transforms = []\n",
    "    transforms.append(T.PILToTensor())\n",
    "    transforms.append(T.ConvertImageDtype(torch.float))\n",
    "    # if train:\n",
    "    #     transforms.append(T.RandomHorizontalFlip(0.5))\n",
    "    #     transforms.append(T.RandomIoUCrop())\n",
    "    #     transforms.append(T.RandomZoomOut())\n",
    "    #     transforms.append(T.RandomPhotometricDistort())\n",
    "    #     transforms.append(T.ScaleJitter())\n",
    "    #     transforms.append(T.RandomShortestSize())\n",
    "    return T.Compose(transforms)"
   ]
  },
  {
   "cell_type": "code",
   "execution_count": 8,
   "metadata": {
    "execution": {
     "iopub.execute_input": "2023-07-11T20:55:51.250040Z",
     "iopub.status.busy": "2023-07-11T20:55:51.249919Z",
     "iopub.status.idle": "2023-07-11T20:55:51.252379Z",
     "shell.execute_reply": "2023-07-11T20:55:51.252197Z"
    }
   },
   "outputs": [],
   "source": [
    "from engine_2 import train_one_epoch, evaluate\n",
    "import utils"
   ]
  },
  {
   "cell_type": "code",
   "execution_count": 9,
   "metadata": {
    "execution": {
     "iopub.execute_input": "2023-07-11T20:55:51.253503Z",
     "iopub.status.busy": "2023-07-11T20:55:51.253387Z",
     "iopub.status.idle": "2023-07-11T20:55:51.262727Z",
     "shell.execute_reply": "2023-07-11T20:55:51.262523Z"
    }
   },
   "outputs": [],
   "source": [
    "device = torch.device('cuda') if torch.cuda.is_available() else torch.device('cpu')"
   ]
  },
  {
   "cell_type": "code",
   "execution_count": 10,
   "metadata": {},
   "outputs": [
    {
     "data": {
      "text/plain": [
       "<All keys matched successfully>"
      ]
     },
     "execution_count": 10,
     "metadata": {},
     "output_type": "execute_result"
    }
   ],
   "source": [
    "\n",
    "model = get_model_instance_segmentation(num_classes=2)\n",
    "model.to(device)\n",
    "\n",
    "# SWA: average all the weights\n",
    "\n",
    "epochs_to_take = np.arange(15, 40)\n",
    "\n",
    "weights_path = f\"ckpts/fold_0_epoch15.pth\"\n",
    "state_dict = torch.load(weights_path)\n",
    "    \n",
    "for take_epoch in epochs_to_take:\n",
    "\n",
    "    weights_path = f\"ckpts/fold_0_epoch{take_epoch}.pth\"\n",
    "    state_dict_epoch = torch.load(weights_path)\n",
    "    \n",
    "    for key in state_dict_epoch.keys():\n",
    "        state_dict[key] += state_dict_epoch[key]\n",
    "\n",
    "for key in state_dict.keys():\n",
    "    state_dict[key] = state_dict[key] / len(epochs_to_take)\n",
    "    \n",
    "model.load_state_dict(state_dict)"
   ]
  },
  {
   "cell_type": "code",
   "execution_count": 11,
   "metadata": {},
   "outputs": [
    {
     "data": {
      "text/plain": [
       "array([15, 16, 17, 18, 19, 20, 21, 22, 23, 24, 25, 26, 27, 28, 29, 30, 31,\n",
       "       32, 33, 34, 35, 36, 37, 38, 39])"
      ]
     },
     "execution_count": 11,
     "metadata": {},
     "output_type": "execute_result"
    }
   ],
   "source": [
    "import numpy as np\n",
    "epochs_to_take = np.arange(15, 40)\n",
    "epochs_to_take"
   ]
  },
  {
   "cell_type": "code",
   "execution_count": 12,
   "metadata": {},
   "outputs": [],
   "source": [
    "# import sys\n",
    "\n",
    "# # Create a custom function to log output\n",
    "# def log_output(text):\n",
    "#     with open('output.log', 'a') as f:\n",
    "#         f.write(text)\n",
    "\n",
    "# # Redirect stdout to the custom log function\n",
    "# sys.stdout.write = log_output\n"
   ]
  },
  {
   "cell_type": "code",
   "execution_count": 14,
   "metadata": {},
   "outputs": [
    {
     "data": {
      "text/plain": [
       "1622"
      ]
     },
     "execution_count": 14,
     "metadata": {},
     "output_type": "execute_result"
    }
   ],
   "source": [
    "n_imgs = len(glob.glob('/home/viktor/Documents/kaggle/hubmap-2023/experiments/mask-rcnn/new-dataset/train/image/*'))\n",
    "n_imgs\n",
    "\n"
   ]
  },
  {
   "cell_type": "code",
   "execution_count": 15,
   "metadata": {
    "execution": {
     "iopub.execute_input": "2023-07-11T20:55:51.268015Z",
     "iopub.status.busy": "2023-07-11T20:55:51.267921Z",
     "iopub.status.idle": "2023-07-11T20:55:51.269472Z",
     "shell.execute_reply": "2023-07-11T20:55:51.269301Z"
    }
   },
   "outputs": [
    {
     "name": "stdout",
     "output_type": "stream",
     "text": [
      "Epoch: [0]  [  0/324]  eta: 0:17:24  lr: 0.002000  loss: 0.7763 (0.7763)  loss_classifier: 0.1574 (0.1574)  loss_box_reg: 0.2935 (0.2935)  loss_mask: 0.2410 (0.2410)  loss_objectness: 0.0440 (0.0440)  loss_rpn_box_reg: 0.0405 (0.0405)  time: 3.2242  data: 1.2823  max mem: 6548\n",
      "Epoch: [0]  [ 50/324]  eta: 0:00:37  lr: 0.002000  loss: 0.7048 (0.7165)  loss_classifier: 0.1434 (0.1507)  loss_box_reg: 0.2576 (0.2649)  loss_mask: 0.2388 (0.2433)  loss_objectness: 0.0290 (0.0297)  loss_rpn_box_reg: 0.0235 (0.0278)  time: 0.0733  data: 0.0001  max mem: 12508\n",
      "Epoch: [0]  [100/324]  eta: 0:00:23  lr: 0.002000  loss: 0.6642 (0.7218)  loss_classifier: 0.1382 (0.1538)  loss_box_reg: 0.2624 (0.2637)  loss_mask: 0.2305 (0.2453)  loss_objectness: 0.0270 (0.0295)  loss_rpn_box_reg: 0.0204 (0.0294)  time: 0.0731  data: 0.0001  max mem: 12508\n",
      "Epoch: [0]  [150/324]  eta: 0:00:16  lr: 0.002000  loss: 0.6950 (0.7238)  loss_classifier: 0.1538 (0.1549)  loss_box_reg: 0.2652 (0.2654)  loss_mask: 0.2325 (0.2442)  loss_objectness: 0.0239 (0.0292)  loss_rpn_box_reg: 0.0255 (0.0302)  time: 0.0733  data: 0.0001  max mem: 12541\n",
      "Epoch: [0]  [200/324]  eta: 0:00:11  lr: 0.002000  loss: 0.6991 (0.7225)  loss_classifier: 0.1386 (0.1548)  loss_box_reg: 0.2649 (0.2660)  loss_mask: 0.2271 (0.2440)  loss_objectness: 0.0207 (0.0286)  loss_rpn_box_reg: 0.0198 (0.0291)  time: 0.0737  data: 0.0001  max mem: 12584\n",
      "Epoch: [0]  [250/324]  eta: 0:00:06  lr: 0.002000  loss: 0.6362 (0.7161)  loss_classifier: 0.1442 (0.1532)  loss_box_reg: 0.2321 (0.2635)  loss_mask: 0.2254 (0.2426)  loss_objectness: 0.0251 (0.0287)  loss_rpn_box_reg: 0.0192 (0.0281)  time: 0.0727  data: 0.0001  max mem: 12584\n",
      "Epoch: [0]  [300/324]  eta: 0:00:02  lr: 0.002000  loss: 0.7740 (0.7209)  loss_classifier: 0.1678 (0.1544)  loss_box_reg: 0.2904 (0.2668)  loss_mask: 0.2519 (0.2427)  loss_objectness: 0.0273 (0.0286)  loss_rpn_box_reg: 0.0344 (0.0284)  time: 0.0716  data: 0.0000  max mem: 12592\n",
      "Epoch: [0]  [323/324]  eta: 0:00:00  lr: 0.002000  loss: 0.7014 (0.7215)  loss_classifier: 0.1472 (0.1542)  loss_box_reg: 0.2599 (0.2672)  loss_mask: 0.2385 (0.2432)  loss_objectness: 0.0261 (0.0285)  loss_rpn_box_reg: 0.0178 (0.0284)  time: 0.0706  data: 0.0000  max mem: 12592\n",
      "Epoch: [0] Total time: 0:00:26 (0.0829 s / it)\n",
      "creating index...\n",
      "index created!\n",
      "Test:  [  0/325]  eta: 0:04:50  model_time: 0.1437 (0.1437)  evaluator_time: 0.0286 (0.0286)  time: 0.8952  data: 0.7219  max mem: 12592\n",
      "Test:  [100/325]  eta: 0:00:12  model_time: 0.0231 (0.0324)  evaluator_time: 0.0106 (0.0160)  time: 0.0396  data: 0.0001  max mem: 12592\n",
      "Test:  [200/325]  eta: 0:00:06  model_time: 0.0287 (0.0308)  evaluator_time: 0.0124 (0.0158)  time: 0.0428  data: 0.0001  max mem: 12592\n",
      "Test:  [300/325]  eta: 0:00:01  model_time: 0.0225 (0.0306)  evaluator_time: 0.0129 (0.0160)  time: 0.0405  data: 0.0001  max mem: 12592\n",
      "Test:  [324/325]  eta: 0:00:00  model_time: 0.0226 (0.0303)  evaluator_time: 0.0127 (0.0159)  time: 0.0385  data: 0.0001  max mem: 12592\n",
      "Test: Total time: 0:00:16 (0.0494 s / it)\n",
      "Averaged stats: model_time: 0.0226 (0.0303)  evaluator_time: 0.0127 (0.0159)\n",
      "Accumulating evaluation results...\n",
      "DONE (t=0.04s).\n",
      "Accumulating evaluation results...\n",
      "DONE (t=0.04s).\n",
      "IoU metric: bbox\n",
      " Average Precision  (AP) @[ IoU=0.50:0.95 | area=   all | maxDets=100 ] = 0.302\n",
      " Average Precision  (AP) @[ IoU=0.50      | area=   all | maxDets=100 ] = 0.621\n",
      " Average Precision  (AP) @[ IoU=0.75      | area=   all | maxDets=100 ] = 0.261\n",
      " Average Precision  (AP) @[ IoU=0.50:0.95 | area= small | maxDets=100 ] = 0.281\n",
      " Average Precision  (AP) @[ IoU=0.50:0.95 | area=medium | maxDets=100 ] = 0.320\n",
      " Average Precision  (AP) @[ IoU=0.50:0.95 | area= large | maxDets=100 ] = 0.435\n",
      " Average Recall     (AR) @[ IoU=0.50:0.95 | area=   all | maxDets=  1 ] = 0.063\n",
      " Average Recall     (AR) @[ IoU=0.50:0.95 | area=   all | maxDets= 10 ] = 0.341\n",
      " Average Recall     (AR) @[ IoU=0.50:0.95 | area=   all | maxDets=100 ] = 0.500\n",
      " Average Recall     (AR) @[ IoU=0.50:0.95 | area= small | maxDets=100 ] = 0.470\n",
      " Average Recall     (AR) @[ IoU=0.50:0.95 | area=medium | maxDets=100 ] = 0.527\n",
      " Average Recall     (AR) @[ IoU=0.50:0.95 | area= large | maxDets=100 ] = 0.658\n",
      "IoU metric: segm\n",
      " Average Precision  (AP) @[ IoU=0.50:0.95 | area=   all | maxDets=100 ] = 0.296\n",
      " Average Precision  (AP) @[ IoU=0.50      | area=   all | maxDets=100 ] = 0.643\n",
      " Average Precision  (AP) @[ IoU=0.75      | area=   all | maxDets=100 ] = 0.223\n",
      " Average Precision  (AP) @[ IoU=0.50:0.95 | area= small | maxDets=100 ] = 0.259\n",
      " Average Precision  (AP) @[ IoU=0.50:0.95 | area=medium | maxDets=100 ] = 0.338\n",
      " Average Precision  (AP) @[ IoU=0.50:0.95 | area= large | maxDets=100 ] = 0.478\n",
      " Average Recall     (AR) @[ IoU=0.50:0.95 | area=   all | maxDets=  1 ] = 0.059\n",
      " Average Recall     (AR) @[ IoU=0.50:0.95 | area=   all | maxDets= 10 ] = 0.327\n",
      " Average Recall     (AR) @[ IoU=0.50:0.95 | area=   all | maxDets=100 ] = 0.469\n",
      " Average Recall     (AR) @[ IoU=0.50:0.95 | area= small | maxDets=100 ] = 0.454\n",
      " Average Recall     (AR) @[ IoU=0.50:0.95 | area=medium | maxDets=100 ] = 0.480\n",
      " Average Recall     (AR) @[ IoU=0.50:0.95 | area= large | maxDets=100 ] = 0.557\n"
     ]
    },
    {
     "name": "stderr",
     "output_type": "stream",
     "text": [
      "/home/viktor/miniconda3/envs/torch-env/lib/python3.9/site-packages/torch/optim/lr_scheduler.py:139: UserWarning: Detected call of `lr_scheduler.step()` before `optimizer.step()`. In PyTorch 1.1.0 and later, you should call them in the opposite order: `optimizer.step()` before `lr_scheduler.step()`.  Failure to do this will result in PyTorch skipping the first value of the learning rate schedule. See more details at https://pytorch.org/docs/stable/optim.html#how-to-adjust-learning-rate\n",
      "  warnings.warn(\"Detected call of `lr_scheduler.step()` before `optimizer.step()`. \"\n"
     ]
    },
    {
     "name": "stdout",
     "output_type": "stream",
     "text": [
      "Epoch: [1]  [  0/324]  eta: 0:07:02  lr: 0.002000  loss: 0.9134 (0.9134)  loss_classifier: 0.2239 (0.2239)  loss_box_reg: 0.3500 (0.3500)  loss_mask: 0.2614 (0.2614)  loss_objectness: 0.0499 (0.0499)  loss_rpn_box_reg: 0.0283 (0.0283)  time: 1.3035  data: 1.2200  max mem: 12592\n",
      "Epoch: [1]  [ 50/324]  eta: 0:00:26  lr: 0.002000  loss: 0.7097 (0.7407)  loss_classifier: 0.1426 (0.1580)  loss_box_reg: 0.2404 (0.2809)  loss_mask: 0.2308 (0.2438)  loss_objectness: 0.0300 (0.0293)  loss_rpn_box_reg: 0.0209 (0.0288)  time: 0.0735  data: 0.0001  max mem: 12592\n",
      "Epoch: [1]  [100/324]  eta: 0:00:19  lr: 0.002000  loss: 0.6985 (0.7318)  loss_classifier: 0.1451 (0.1584)  loss_box_reg: 0.2695 (0.2751)  loss_mask: 0.2303 (0.2407)  loss_objectness: 0.0255 (0.0297)  loss_rpn_box_reg: 0.0225 (0.0278)  time: 0.0733  data: 0.0001  max mem: 12622\n",
      "Epoch: [1]  [150/324]  eta: 0:00:14  lr: 0.002000  loss: 0.7384 (0.7243)  loss_classifier: 0.1514 (0.1558)  loss_box_reg: 0.2871 (0.2710)  loss_mask: 0.2334 (0.2403)  loss_objectness: 0.0268 (0.0289)  loss_rpn_box_reg: 0.0291 (0.0282)  time: 0.0740  data: 0.0002  max mem: 12622\n",
      "Epoch: [1]  [200/324]  eta: 0:00:09  lr: 0.002000  loss: 0.7449 (0.7246)  loss_classifier: 0.1540 (0.1558)  loss_box_reg: 0.2848 (0.2698)  loss_mask: 0.2465 (0.2427)  loss_objectness: 0.0277 (0.0286)  loss_rpn_box_reg: 0.0266 (0.0277)  time: 0.0730  data: 0.0001  max mem: 12622\n",
      "Epoch: [1]  [250/324]  eta: 0:00:05  lr: 0.002000  loss: 0.6927 (0.7269)  loss_classifier: 0.1412 (0.1560)  loss_box_reg: 0.2596 (0.2704)  loss_mask: 0.2424 (0.2436)  loss_objectness: 0.0257 (0.0287)  loss_rpn_box_reg: 0.0262 (0.0283)  time: 0.0729  data: 0.0002  max mem: 12622\n",
      "Epoch: [1]  [300/324]  eta: 0:00:01  lr: 0.002000  loss: 0.6741 (0.7230)  loss_classifier: 0.1443 (0.1553)  loss_box_reg: 0.2417 (0.2689)  loss_mask: 0.2274 (0.2423)  loss_objectness: 0.0251 (0.0283)  loss_rpn_box_reg: 0.0180 (0.0282)  time: 0.0702  data: 0.0000  max mem: 12622\n",
      "Epoch: [1]  [323/324]  eta: 0:00:00  lr: 0.002000  loss: 0.7004 (0.7198)  loss_classifier: 0.1529 (0.1545)  loss_box_reg: 0.2374 (0.2664)  loss_mask: 0.2411 (0.2426)  loss_objectness: 0.0244 (0.0282)  loss_rpn_box_reg: 0.0249 (0.0281)  time: 0.0694  data: 0.0000  max mem: 12622\n",
      "Epoch: [1] Total time: 0:00:24 (0.0768 s / it)\n",
      "creating index...\n",
      "index created!\n",
      "Test:  [  0/325]  eta: 0:04:47  model_time: 0.0456 (0.0456)  evaluator_time: 0.0263 (0.0263)  time: 0.8832  data: 0.8109  max mem: 12622\n",
      "Test:  [100/325]  eta: 0:00:12  model_time: 0.0220 (0.0289)  evaluator_time: 0.0106 (0.0165)  time: 0.0368  data: 0.0001  max mem: 12622\n",
      "Test:  [200/325]  eta: 0:00:06  model_time: 0.0258 (0.0290)  evaluator_time: 0.0120 (0.0160)  time: 0.0412  data: 0.0001  max mem: 12622\n",
      "Test:  [300/325]  eta: 0:00:01  model_time: 0.0288 (0.0292)  evaluator_time: 0.0133 (0.0160)  time: 0.0402  data: 0.0001  max mem: 12622\n",
      "Test:  [324/325]  eta: 0:00:00  model_time: 0.0278 (0.0290)  evaluator_time: 0.0121 (0.0159)  time: 0.0392  data: 0.0001  max mem: 12622\n",
      "Test: Total time: 0:00:15 (0.0484 s / it)\n",
      "Averaged stats: model_time: 0.0278 (0.0290)  evaluator_time: 0.0121 (0.0159)\n",
      "Accumulating evaluation results...\n",
      "DONE (t=0.04s).\n",
      "Accumulating evaluation results...\n",
      "DONE (t=0.04s).\n",
      "IoU metric: bbox\n",
      " Average Precision  (AP) @[ IoU=0.50:0.95 | area=   all | maxDets=100 ] = 0.304\n",
      " Average Precision  (AP) @[ IoU=0.50      | area=   all | maxDets=100 ] = 0.624\n",
      " Average Precision  (AP) @[ IoU=0.75      | area=   all | maxDets=100 ] = 0.267\n",
      " Average Precision  (AP) @[ IoU=0.50:0.95 | area= small | maxDets=100 ] = 0.283\n",
      " Average Precision  (AP) @[ IoU=0.50:0.95 | area=medium | maxDets=100 ] = 0.323\n",
      " Average Precision  (AP) @[ IoU=0.50:0.95 | area= large | maxDets=100 ] = 0.432\n",
      " Average Recall     (AR) @[ IoU=0.50:0.95 | area=   all | maxDets=  1 ] = 0.063\n",
      " Average Recall     (AR) @[ IoU=0.50:0.95 | area=   all | maxDets= 10 ] = 0.343\n",
      " Average Recall     (AR) @[ IoU=0.50:0.95 | area=   all | maxDets=100 ] = 0.500\n",
      " Average Recall     (AR) @[ IoU=0.50:0.95 | area= small | maxDets=100 ] = 0.471\n",
      " Average Recall     (AR) @[ IoU=0.50:0.95 | area=medium | maxDets=100 ] = 0.527\n",
      " Average Recall     (AR) @[ IoU=0.50:0.95 | area= large | maxDets=100 ] = 0.655\n",
      "IoU metric: segm\n",
      " Average Precision  (AP) @[ IoU=0.50:0.95 | area=   all | maxDets=100 ] = 0.297\n",
      " Average Precision  (AP) @[ IoU=0.50      | area=   all | maxDets=100 ] = 0.648\n",
      " Average Precision  (AP) @[ IoU=0.75      | area=   all | maxDets=100 ] = 0.220\n",
      " Average Precision  (AP) @[ IoU=0.50:0.95 | area= small | maxDets=100 ] = 0.259\n",
      " Average Precision  (AP) @[ IoU=0.50:0.95 | area=medium | maxDets=100 ] = 0.341\n",
      " Average Precision  (AP) @[ IoU=0.50:0.95 | area= large | maxDets=100 ] = 0.477\n",
      " Average Recall     (AR) @[ IoU=0.50:0.95 | area=   all | maxDets=  1 ] = 0.059\n",
      " Average Recall     (AR) @[ IoU=0.50:0.95 | area=   all | maxDets= 10 ] = 0.327\n",
      " Average Recall     (AR) @[ IoU=0.50:0.95 | area=   all | maxDets=100 ] = 0.468\n",
      " Average Recall     (AR) @[ IoU=0.50:0.95 | area= small | maxDets=100 ] = 0.454\n",
      " Average Recall     (AR) @[ IoU=0.50:0.95 | area=medium | maxDets=100 ] = 0.479\n",
      " Average Recall     (AR) @[ IoU=0.50:0.95 | area= large | maxDets=100 ] = 0.555\n",
      "Epoch: [2]  [  0/324]  eta: 0:06:29  lr: 0.002000  loss: 0.6549 (0.6549)  loss_classifier: 0.1426 (0.1426)  loss_box_reg: 0.2006 (0.2006)  loss_mask: 0.2768 (0.2768)  loss_objectness: 0.0217 (0.0217)  loss_rpn_box_reg: 0.0132 (0.0132)  time: 1.2036  data: 1.1185  max mem: 12622\n",
      "Epoch: [2]  [ 50/324]  eta: 0:00:26  lr: 0.002000  loss: 0.7221 (0.7253)  loss_classifier: 0.1437 (0.1552)  loss_box_reg: 0.2518 (0.2654)  loss_mask: 0.2458 (0.2496)  loss_objectness: 0.0220 (0.0280)  loss_rpn_box_reg: 0.0216 (0.0270)  time: 0.0726  data: 0.0001  max mem: 12622\n",
      "Epoch: [2]  [100/324]  eta: 0:00:18  lr: 0.002000  loss: 0.7008 (0.7262)  loss_classifier: 0.1616 (0.1557)  loss_box_reg: 0.2688 (0.2688)  loss_mask: 0.2347 (0.2452)  loss_objectness: 0.0234 (0.0277)  loss_rpn_box_reg: 0.0244 (0.0288)  time: 0.0735  data: 0.0002  max mem: 12622\n",
      "Epoch: [2]  [150/324]  eta: 0:00:14  lr: 0.002000  loss: 0.6867 (0.7270)  loss_classifier: 0.1456 (0.1566)  loss_box_reg: 0.2541 (0.2704)  loss_mask: 0.2446 (0.2445)  loss_objectness: 0.0249 (0.0274)  loss_rpn_box_reg: 0.0210 (0.0281)  time: 0.0729  data: 0.0001  max mem: 12622\n",
      "Epoch: [2]  [200/324]  eta: 0:00:09  lr: 0.002000  loss: 0.6880 (0.7174)  loss_classifier: 0.1595 (0.1534)  loss_box_reg: 0.2503 (0.2652)  loss_mask: 0.2459 (0.2439)  loss_objectness: 0.0274 (0.0272)  loss_rpn_box_reg: 0.0214 (0.0278)  time: 0.0721  data: 0.0001  max mem: 12622\n",
      "Epoch: [2]  [250/324]  eta: 0:00:05  lr: 0.002000  loss: 0.7177 (0.7186)  loss_classifier: 0.1559 (0.1541)  loss_box_reg: 0.2857 (0.2660)  loss_mask: 0.2324 (0.2436)  loss_objectness: 0.0233 (0.0274)  loss_rpn_box_reg: 0.0220 (0.0275)  time: 0.0731  data: 0.0001  max mem: 12622\n",
      "Epoch: [2]  [300/324]  eta: 0:00:01  lr: 0.002000  loss: 0.6811 (0.7193)  loss_classifier: 0.1501 (0.1536)  loss_box_reg: 0.2533 (0.2670)  loss_mask: 0.2459 (0.2435)  loss_objectness: 0.0241 (0.0277)  loss_rpn_box_reg: 0.0238 (0.0276)  time: 0.0703  data: 0.0000  max mem: 12625\n",
      "Epoch: [2]  [323/324]  eta: 0:00:00  lr: 0.002000  loss: 0.7595 (0.7217)  loss_classifier: 0.1618 (0.1546)  loss_box_reg: 0.2909 (0.2675)  loss_mask: 0.2479 (0.2436)  loss_objectness: 0.0315 (0.0280)  loss_rpn_box_reg: 0.0265 (0.0280)  time: 0.0701  data: 0.0000  max mem: 12625\n",
      "Epoch: [2] Total time: 0:00:24 (0.0764 s / it)\n",
      "creating index...\n",
      "index created!\n",
      "Test:  [  0/325]  eta: 0:04:51  model_time: 0.0586 (0.0586)  evaluator_time: 0.0289 (0.0289)  time: 0.8967  data: 0.8087  max mem: 12625\n",
      "Test:  [100/325]  eta: 0:00:11  model_time: 0.0212 (0.0265)  evaluator_time: 0.0101 (0.0156)  time: 0.0362  data: 0.0001  max mem: 12625\n",
      "Test:  [200/325]  eta: 0:00:05  model_time: 0.0262 (0.0276)  evaluator_time: 0.0118 (0.0154)  time: 0.0409  data: 0.0001  max mem: 12625\n",
      "Test:  [300/325]  eta: 0:00:01  model_time: 0.0287 (0.0280)  evaluator_time: 0.0131 (0.0155)  time: 0.0401  data: 0.0001  max mem: 12625\n",
      "Test:  [324/325]  eta: 0:00:00  model_time: 0.0217 (0.0279)  evaluator_time: 0.0120 (0.0154)  time: 0.0380  data: 0.0001  max mem: 12625\n",
      "Test: Total time: 0:00:15 (0.0468 s / it)\n",
      "Averaged stats: model_time: 0.0217 (0.0279)  evaluator_time: 0.0120 (0.0154)\n",
      "Accumulating evaluation results...\n",
      "DONE (t=0.04s).\n",
      "Accumulating evaluation results...\n",
      "DONE (t=0.04s).\n",
      "IoU metric: bbox\n",
      " Average Precision  (AP) @[ IoU=0.50:0.95 | area=   all | maxDets=100 ] = 0.304\n",
      " Average Precision  (AP) @[ IoU=0.50      | area=   all | maxDets=100 ] = 0.627\n",
      " Average Precision  (AP) @[ IoU=0.75      | area=   all | maxDets=100 ] = 0.262\n",
      " Average Precision  (AP) @[ IoU=0.50:0.95 | area= small | maxDets=100 ] = 0.283\n",
      " Average Precision  (AP) @[ IoU=0.50:0.95 | area=medium | maxDets=100 ] = 0.324\n",
      " Average Precision  (AP) @[ IoU=0.50:0.95 | area= large | maxDets=100 ] = 0.439\n",
      " Average Recall     (AR) @[ IoU=0.50:0.95 | area=   all | maxDets=  1 ] = 0.063\n",
      " Average Recall     (AR) @[ IoU=0.50:0.95 | area=   all | maxDets= 10 ] = 0.342\n",
      " Average Recall     (AR) @[ IoU=0.50:0.95 | area=   all | maxDets=100 ] = 0.497\n",
      " Average Recall     (AR) @[ IoU=0.50:0.95 | area= small | maxDets=100 ] = 0.468\n",
      " Average Recall     (AR) @[ IoU=0.50:0.95 | area=medium | maxDets=100 ] = 0.522\n",
      " Average Recall     (AR) @[ IoU=0.50:0.95 | area= large | maxDets=100 ] = 0.652\n",
      "IoU metric: segm\n",
      " Average Precision  (AP) @[ IoU=0.50:0.95 | area=   all | maxDets=100 ] = 0.301\n",
      " Average Precision  (AP) @[ IoU=0.50      | area=   all | maxDets=100 ] = 0.652\n",
      " Average Precision  (AP) @[ IoU=0.75      | area=   all | maxDets=100 ] = 0.224\n",
      " Average Precision  (AP) @[ IoU=0.50:0.95 | area= small | maxDets=100 ] = 0.262\n",
      " Average Precision  (AP) @[ IoU=0.50:0.95 | area=medium | maxDets=100 ] = 0.345\n",
      " Average Precision  (AP) @[ IoU=0.50:0.95 | area= large | maxDets=100 ] = 0.489\n",
      " Average Recall     (AR) @[ IoU=0.50:0.95 | area=   all | maxDets=  1 ] = 0.060\n",
      " Average Recall     (AR) @[ IoU=0.50:0.95 | area=   all | maxDets= 10 ] = 0.329\n",
      " Average Recall     (AR) @[ IoU=0.50:0.95 | area=   all | maxDets=100 ] = 0.470\n",
      " Average Recall     (AR) @[ IoU=0.50:0.95 | area= small | maxDets=100 ] = 0.454\n",
      " Average Recall     (AR) @[ IoU=0.50:0.95 | area=medium | maxDets=100 ] = 0.482\n",
      " Average Recall     (AR) @[ IoU=0.50:0.95 | area= large | maxDets=100 ] = 0.563\n",
      "Epoch: [3]  [  0/324]  eta: 0:07:10  lr: 0.002000  loss: 0.4944 (0.4944)  loss_classifier: 0.1192 (0.1192)  loss_box_reg: 0.1359 (0.1359)  loss_mask: 0.1981 (0.1981)  loss_objectness: 0.0365 (0.0365)  loss_rpn_box_reg: 0.0048 (0.0048)  time: 1.3275  data: 1.2511  max mem: 12625\n",
      "Epoch: [3]  [ 50/324]  eta: 0:00:26  lr: 0.002000  loss: 0.6795 (0.7277)  loss_classifier: 0.1413 (0.1551)  loss_box_reg: 0.2497 (0.2699)  loss_mask: 0.2390 (0.2420)  loss_objectness: 0.0203 (0.0308)  loss_rpn_box_reg: 0.0210 (0.0299)  time: 0.0724  data: 0.0001  max mem: 12641\n",
      "Epoch: [3]  [100/324]  eta: 0:00:19  lr: 0.002000  loss: 0.6818 (0.7197)  loss_classifier: 0.1482 (0.1531)  loss_box_reg: 0.2639 (0.2684)  loss_mask: 0.2322 (0.2417)  loss_objectness: 0.0221 (0.0297)  loss_rpn_box_reg: 0.0216 (0.0268)  time: 0.0731  data: 0.0002  max mem: 12641\n",
      "Epoch: [3]  [150/324]  eta: 0:00:14  lr: 0.002000  loss: 0.7105 (0.7217)  loss_classifier: 0.1613 (0.1536)  loss_box_reg: 0.2731 (0.2673)  loss_mask: 0.2415 (0.2418)  loss_objectness: 0.0277 (0.0307)  loss_rpn_box_reg: 0.0230 (0.0284)  time: 0.0725  data: 0.0001  max mem: 12641\n",
      "Epoch: [3]  [200/324]  eta: 0:00:09  lr: 0.002000  loss: 0.6416 (0.7130)  loss_classifier: 0.1271 (0.1509)  loss_box_reg: 0.2156 (0.2631)  loss_mask: 0.2376 (0.2416)  loss_objectness: 0.0252 (0.0292)  loss_rpn_box_reg: 0.0255 (0.0281)  time: 0.0718  data: 0.0001  max mem: 12641\n",
      "Epoch: [3]  [250/324]  eta: 0:00:05  lr: 0.002000  loss: 0.7633 (0.7152)  loss_classifier: 0.1674 (0.1520)  loss_box_reg: 0.3069 (0.2645)  loss_mask: 0.2425 (0.2423)  loss_objectness: 0.0259 (0.0288)  loss_rpn_box_reg: 0.0262 (0.0276)  time: 0.0731  data: 0.0002  max mem: 12641\n",
      "Epoch: [3]  [300/324]  eta: 0:00:01  lr: 0.002000  loss: 0.7373 (0.7206)  loss_classifier: 0.1555 (0.1539)  loss_box_reg: 0.2784 (0.2668)  loss_mask: 0.2372 (0.2427)  loss_objectness: 0.0300 (0.0290)  loss_rpn_box_reg: 0.0234 (0.0282)  time: 0.0717  data: 0.0000  max mem: 12641\n",
      "Epoch: [3]  [323/324]  eta: 0:00:00  lr: 0.002000  loss: 0.7098 (0.7214)  loss_classifier: 0.1554 (0.1540)  loss_box_reg: 0.2726 (0.2674)  loss_mask: 0.2366 (0.2431)  loss_objectness: 0.0258 (0.0288)  loss_rpn_box_reg: 0.0271 (0.0282)  time: 0.0709  data: 0.0000  max mem: 12641\n",
      "Epoch: [3] Total time: 0:00:24 (0.0766 s / it)\n",
      "creating index...\n",
      "index created!\n",
      "Test:  [  0/325]  eta: 0:04:51  model_time: 0.0479 (0.0479)  evaluator_time: 0.0324 (0.0324)  time: 0.8969  data: 0.8163  max mem: 12641\n",
      "Test:  [100/325]  eta: 0:00:11  model_time: 0.0214 (0.0270)  evaluator_time: 0.0106 (0.0155)  time: 0.0364  data: 0.0001  max mem: 12641\n",
      "Test:  [200/325]  eta: 0:00:05  model_time: 0.0223 (0.0277)  evaluator_time: 0.0114 (0.0152)  time: 0.0398  data: 0.0001  max mem: 12641\n",
      "Test:  [300/325]  eta: 0:00:01  model_time: 0.0284 (0.0281)  evaluator_time: 0.0133 (0.0153)  time: 0.0399  data: 0.0001  max mem: 12641\n",
      "Test:  [324/325]  eta: 0:00:00  model_time: 0.0217 (0.0279)  evaluator_time: 0.0118 (0.0152)  time: 0.0384  data: 0.0001  max mem: 12641\n",
      "Test: Total time: 0:00:15 (0.0466 s / it)\n",
      "Averaged stats: model_time: 0.0217 (0.0279)  evaluator_time: 0.0118 (0.0152)\n",
      "Accumulating evaluation results...\n",
      "DONE (t=0.04s).\n",
      "Accumulating evaluation results...\n",
      "DONE (t=0.04s).\n",
      "IoU metric: bbox\n",
      " Average Precision  (AP) @[ IoU=0.50:0.95 | area=   all | maxDets=100 ] = 0.306\n",
      " Average Precision  (AP) @[ IoU=0.50      | area=   all | maxDets=100 ] = 0.631\n",
      " Average Precision  (AP) @[ IoU=0.75      | area=   all | maxDets=100 ] = 0.264\n",
      " Average Precision  (AP) @[ IoU=0.50:0.95 | area= small | maxDets=100 ] = 0.284\n",
      " Average Precision  (AP) @[ IoU=0.50:0.95 | area=medium | maxDets=100 ] = 0.328\n",
      " Average Precision  (AP) @[ IoU=0.50:0.95 | area= large | maxDets=100 ] = 0.435\n",
      " Average Recall     (AR) @[ IoU=0.50:0.95 | area=   all | maxDets=  1 ] = 0.063\n",
      " Average Recall     (AR) @[ IoU=0.50:0.95 | area=   all | maxDets= 10 ] = 0.345\n",
      " Average Recall     (AR) @[ IoU=0.50:0.95 | area=   all | maxDets=100 ] = 0.499\n",
      " Average Recall     (AR) @[ IoU=0.50:0.95 | area= small | maxDets=100 ] = 0.472\n",
      " Average Recall     (AR) @[ IoU=0.50:0.95 | area=medium | maxDets=100 ] = 0.524\n",
      " Average Recall     (AR) @[ IoU=0.50:0.95 | area= large | maxDets=100 ] = 0.642\n",
      "IoU metric: segm\n",
      " Average Precision  (AP) @[ IoU=0.50:0.95 | area=   all | maxDets=100 ] = 0.302\n",
      " Average Precision  (AP) @[ IoU=0.50      | area=   all | maxDets=100 ] = 0.652\n",
      " Average Precision  (AP) @[ IoU=0.75      | area=   all | maxDets=100 ] = 0.225\n",
      " Average Precision  (AP) @[ IoU=0.50:0.95 | area= small | maxDets=100 ] = 0.264\n",
      " Average Precision  (AP) @[ IoU=0.50:0.95 | area=medium | maxDets=100 ] = 0.345\n",
      " Average Precision  (AP) @[ IoU=0.50:0.95 | area= large | maxDets=100 ] = 0.487\n",
      " Average Recall     (AR) @[ IoU=0.50:0.95 | area=   all | maxDets=  1 ] = 0.060\n",
      " Average Recall     (AR) @[ IoU=0.50:0.95 | area=   all | maxDets= 10 ] = 0.331\n",
      " Average Recall     (AR) @[ IoU=0.50:0.95 | area=   all | maxDets=100 ] = 0.469\n",
      " Average Recall     (AR) @[ IoU=0.50:0.95 | area= small | maxDets=100 ] = 0.455\n",
      " Average Recall     (AR) @[ IoU=0.50:0.95 | area=medium | maxDets=100 ] = 0.480\n",
      " Average Recall     (AR) @[ IoU=0.50:0.95 | area= large | maxDets=100 ] = 0.560\n",
      "Epoch: [4]  [  0/324]  eta: 0:07:39  lr: 0.002000  loss: 0.6159 (0.6159)  loss_classifier: 0.1516 (0.1516)  loss_box_reg: 0.2151 (0.2151)  loss_mask: 0.2183 (0.2183)  loss_objectness: 0.0170 (0.0170)  loss_rpn_box_reg: 0.0138 (0.0138)  time: 1.4191  data: 1.3380  max mem: 12641\n",
      "Epoch: [4]  [ 50/324]  eta: 0:00:27  lr: 0.002000  loss: 0.6902 (0.7205)  loss_classifier: 0.1417 (0.1522)  loss_box_reg: 0.2590 (0.2684)  loss_mask: 0.2448 (0.2452)  loss_objectness: 0.0232 (0.0262)  loss_rpn_box_reg: 0.0280 (0.0285)  time: 0.0729  data: 0.0001  max mem: 12641\n",
      "Epoch: [4]  [100/324]  eta: 0:00:19  lr: 0.002000  loss: 0.7230 (0.7052)  loss_classifier: 0.1487 (0.1509)  loss_box_reg: 0.2722 (0.2567)  loss_mask: 0.2417 (0.2431)  loss_objectness: 0.0317 (0.0271)  loss_rpn_box_reg: 0.0261 (0.0274)  time: 0.0720  data: 0.0002  max mem: 12641\n",
      "Epoch: [4]  [150/324]  eta: 0:00:14  lr: 0.002000  loss: 0.7262 (0.7207)  loss_classifier: 0.1548 (0.1544)  loss_box_reg: 0.2665 (0.2660)  loss_mask: 0.2416 (0.2439)  loss_objectness: 0.0264 (0.0283)  loss_rpn_box_reg: 0.0301 (0.0281)  time: 0.0732  data: 0.0001  max mem: 12641\n",
      "Epoch: [4]  [200/324]  eta: 0:00:09  lr: 0.002000  loss: 0.7670 (0.7242)  loss_classifier: 0.1712 (0.1561)  loss_box_reg: 0.2939 (0.2679)  loss_mask: 0.2475 (0.2437)  loss_objectness: 0.0260 (0.0280)  loss_rpn_box_reg: 0.0290 (0.0285)  time: 0.0734  data: 0.0001  max mem: 12641\n",
      "Epoch: [4]  [250/324]  eta: 0:00:05  lr: 0.002000  loss: 0.7085 (0.7231)  loss_classifier: 0.1433 (0.1552)  loss_box_reg: 0.2676 (0.2676)  loss_mask: 0.2344 (0.2441)  loss_objectness: 0.0234 (0.0276)  loss_rpn_box_reg: 0.0236 (0.0286)  time: 0.0728  data: 0.0001  max mem: 12641\n",
      "Epoch: [4]  [300/324]  eta: 0:00:01  lr: 0.002000  loss: 0.7067 (0.7217)  loss_classifier: 0.1463 (0.1550)  loss_box_reg: 0.2690 (0.2674)  loss_mask: 0.2343 (0.2433)  loss_objectness: 0.0268 (0.0275)  loss_rpn_box_reg: 0.0250 (0.0284)  time: 0.0709  data: 0.0000  max mem: 12641\n",
      "Epoch: [4]  [323/324]  eta: 0:00:00  lr: 0.002000  loss: 0.6731 (0.7193)  loss_classifier: 0.1314 (0.1543)  loss_box_reg: 0.2371 (0.2668)  loss_mask: 0.2357 (0.2426)  loss_objectness: 0.0226 (0.0275)  loss_rpn_box_reg: 0.0202 (0.0281)  time: 0.0708  data: 0.0000  max mem: 12641\n",
      "Epoch: [4] Total time: 0:00:24 (0.0769 s / it)\n",
      "creating index...\n",
      "index created!\n",
      "Test:  [  0/325]  eta: 0:04:51  model_time: 0.0461 (0.0461)  evaluator_time: 0.0287 (0.0287)  time: 0.8975  data: 0.8223  max mem: 12641\n",
      "Test:  [100/325]  eta: 0:00:11  model_time: 0.0213 (0.0276)  evaluator_time: 0.0096 (0.0154)  time: 0.0371  data: 0.0001  max mem: 12641\n",
      "Test:  [200/325]  eta: 0:00:05  model_time: 0.0223 (0.0274)  evaluator_time: 0.0113 (0.0152)  time: 0.0408  data: 0.0001  max mem: 12641\n",
      "Test:  [300/325]  eta: 0:00:01  model_time: 0.0279 (0.0279)  evaluator_time: 0.0120 (0.0152)  time: 0.0392  data: 0.0001  max mem: 12641\n",
      "Test:  [324/325]  eta: 0:00:00  model_time: 0.0215 (0.0278)  evaluator_time: 0.0118 (0.0151)  time: 0.0381  data: 0.0001  max mem: 12641\n",
      "Test: Total time: 0:00:15 (0.0464 s / it)\n",
      "Averaged stats: model_time: 0.0215 (0.0278)  evaluator_time: 0.0118 (0.0151)\n",
      "Accumulating evaluation results...\n",
      "DONE (t=0.05s).\n",
      "Accumulating evaluation results...\n",
      "DONE (t=0.04s).\n",
      "IoU metric: bbox\n",
      " Average Precision  (AP) @[ IoU=0.50:0.95 | area=   all | maxDets=100 ] = 0.305\n",
      " Average Precision  (AP) @[ IoU=0.50      | area=   all | maxDets=100 ] = 0.630\n",
      " Average Precision  (AP) @[ IoU=0.75      | area=   all | maxDets=100 ] = 0.260\n",
      " Average Precision  (AP) @[ IoU=0.50:0.95 | area= small | maxDets=100 ] = 0.284\n",
      " Average Precision  (AP) @[ IoU=0.50:0.95 | area=medium | maxDets=100 ] = 0.324\n",
      " Average Precision  (AP) @[ IoU=0.50:0.95 | area= large | maxDets=100 ] = 0.430\n",
      " Average Recall     (AR) @[ IoU=0.50:0.95 | area=   all | maxDets=  1 ] = 0.063\n",
      " Average Recall     (AR) @[ IoU=0.50:0.95 | area=   all | maxDets= 10 ] = 0.345\n",
      " Average Recall     (AR) @[ IoU=0.50:0.95 | area=   all | maxDets=100 ] = 0.498\n",
      " Average Recall     (AR) @[ IoU=0.50:0.95 | area= small | maxDets=100 ] = 0.471\n",
      " Average Recall     (AR) @[ IoU=0.50:0.95 | area=medium | maxDets=100 ] = 0.523\n",
      " Average Recall     (AR) @[ IoU=0.50:0.95 | area= large | maxDets=100 ] = 0.638\n",
      "IoU metric: segm\n",
      " Average Precision  (AP) @[ IoU=0.50:0.95 | area=   all | maxDets=100 ] = 0.299\n",
      " Average Precision  (AP) @[ IoU=0.50      | area=   all | maxDets=100 ] = 0.647\n",
      " Average Precision  (AP) @[ IoU=0.75      | area=   all | maxDets=100 ] = 0.222\n",
      " Average Precision  (AP) @[ IoU=0.50:0.95 | area= small | maxDets=100 ] = 0.263\n",
      " Average Precision  (AP) @[ IoU=0.50:0.95 | area=medium | maxDets=100 ] = 0.343\n",
      " Average Precision  (AP) @[ IoU=0.50:0.95 | area= large | maxDets=100 ] = 0.481\n",
      " Average Recall     (AR) @[ IoU=0.50:0.95 | area=   all | maxDets=  1 ] = 0.060\n",
      " Average Recall     (AR) @[ IoU=0.50:0.95 | area=   all | maxDets= 10 ] = 0.330\n",
      " Average Recall     (AR) @[ IoU=0.50:0.95 | area=   all | maxDets=100 ] = 0.468\n",
      " Average Recall     (AR) @[ IoU=0.50:0.95 | area= small | maxDets=100 ] = 0.455\n",
      " Average Recall     (AR) @[ IoU=0.50:0.95 | area=medium | maxDets=100 ] = 0.477\n",
      " Average Recall     (AR) @[ IoU=0.50:0.95 | area= large | maxDets=100 ] = 0.555\n"
     ]
    }
   ],
   "source": [
    "kf = KFold(n_splits=5, shuffle=True, random_state=43)\n",
    "for i, (train_index, test_index) in enumerate(kf.split(range(n_imgs))):\n",
    "    if i!=0: continue\n",
    "    all_imgs = sorted(glob.glob('/home/viktor/Documents/kaggle/hubmap-2023/experiments/mask-rcnn/new-dataset/train/image/*.png'))\n",
    "    all_masks = sorted(glob.glob('/home/viktor/Documents/kaggle/hubmap-2023/experiments/mask-rcnn/new-dataset/train/mask/*.png'))\n",
    "    all_imgs = np.array(all_imgs)\n",
    "    all_masks = np.array(all_masks)\n",
    "    train_img = all_imgs[train_index]\n",
    "    train_mask = all_masks[train_index]\n",
    "    val_img = all_imgs[test_index]\n",
    "    val_mask = all_masks[test_index]\n",
    "    dataset_train = PennFudanDataset(train_img, train_mask, get_transform(train=True))\n",
    "    dataset_val = PennFudanDataset(val_img, val_mask, get_transform(train=False))\n",
    "    train_dl = torch.utils.data.DataLoader(\n",
    "        dataset_train, batch_size=4, shuffle=True, num_workers=os.cpu_count(), pin_memory=True, drop_last=True, collate_fn=utils.collate_fn)\n",
    "    val_dl = torch.utils.data.DataLoader(\n",
    "        dataset_val, batch_size=1, shuffle=False, num_workers=os.cpu_count(), pin_memory=True,collate_fn=utils.collate_fn)\n",
    "    \n",
    "    \n",
    "    params = [p for p in model.parameters() if p.requires_grad]\n",
    "    optimizer = torch.optim.SGD(params, lr=0.002)\n",
    "    # scheduler = torch.optim.lr_scheduler.ExponentialLR(optimizer, gamma=0.9)\n",
    "    # set linear warmup scheduler, with constant learning rate after warmup\n",
    "    # scheduler = torch.optim.lr_scheduler.OneCycleLR(optimizer, max_lr=0.0001,\n",
    "    #                                             steps_per_epoch=10, epochs=EPOCHS//10,\n",
    "    #                                             pct_start=0.01)\n",
    "    \n",
    "    \n",
    "    scheduler = torch.optim.lr_scheduler.LinearLR(optimizer,start_factor=1,\n",
    "                                            end_factor=1,\n",
    "                                            total_iters=30)\n",
    "    \n",
    "    for epoch in range(EPOCHS):\n",
    "        train_one_epoch(model, optimizer, train_dl, device, epoch, print_freq=50)\n",
    "        evaluate(model, val_dl, device=device)\n",
    "        scheduler.step()\n",
    "        model_path = f'ckpts-swa/fold_{i}_epoch{epoch}.pth'\n",
    "        torch.save(model.state_dict(), model_path)\n",
    "        "
   ]
  },
  {
   "cell_type": "code",
   "execution_count": null,
   "metadata": {
    "execution": {
     "iopub.execute_input": "2023-07-11T20:55:51.270596Z",
     "iopub.status.busy": "2023-07-11T20:55:51.270487Z",
     "iopub.status.idle": "2023-07-11T20:55:51.272248Z",
     "shell.execute_reply": "2023-07-11T20:55:51.272071Z"
    }
   },
   "outputs": [],
   "source": [
    "all_indices = np.arange(n_imgs)\n",
    "# take random 1400 images for training\n",
    "train_index = np.random.choice(all_indices, size=1400, replace=False)\n",
    "# take the rest for validation\n",
    "test_index = np.setdiff1d(all_indices, train_index)\n",
    "\n"
   ]
  },
  {
   "cell_type": "code",
   "execution_count": null,
   "metadata": {
    "execution": {
     "iopub.execute_input": "2023-07-11T20:55:51.273372Z",
     "iopub.status.busy": "2023-07-11T20:55:51.273257Z",
     "iopub.status.idle": "2023-07-11T20:55:51.274962Z",
     "shell.execute_reply": "2023-07-11T20:55:51.274789Z"
    }
   },
   "outputs": [],
   "source": [
    "# check if train_index and test_index are mutually exclusive\n",
    "len(np.intersect1d(train_index, test_index))"
   ]
  },
  {
   "cell_type": "code",
   "execution_count": null,
   "metadata": {},
   "outputs": [],
   "source": []
  }
 ],
 "metadata": {
  "kernelspec": {
   "display_name": "Python 3",
   "language": "python",
   "name": "python3"
  },
  "language_info": {
   "codemirror_mode": {
    "name": "ipython",
    "version": 3
   },
   "file_extension": ".py",
   "mimetype": "text/x-python",
   "name": "python",
   "nbconvert_exporter": "python",
   "pygments_lexer": "ipython3",
   "version": "3.9.16"
  }
 },
 "nbformat": 4,
 "nbformat_minor": 4
}
