{
 "cells": [
  {
   "attachments": {},
   "cell_type": "markdown",
   "id": "7d674407",
   "metadata": {
    "papermill": {
     "duration": 0.012826,
     "end_time": "2023-06-25T08:17:09.270621",
     "exception": false,
     "start_time": "2023-06-25T08:17:09.257795",
     "status": "completed"
    },
    "tags": []
   },
   "source": [
    "### Although mAP metric is popular, I think we still need to write a new notebook to compute CV score\n",
    "1. Most of the mAP calculators are integrated within particular frameworks such as detectron2, yolo, mmdet, etc... It might lack flexibility if we want to ensemble various models.\n",
    "2. Some standalone codes only compute box-mAP, not segm-mAP\n",
    "\n",
    "=> So I reimplement the code to compute mAP for this competition. **Note that it only support single class at the moment**. I use my Detectron2 model to make predictions as an example and I also compare with Detectron2 built-in CocoEvaluator"
   ]
  },
  {
   "cell_type": "code",
   "execution_count": 29,
   "id": "ff2b63cb",
   "metadata": {
    "execution": {
     "iopub.execute_input": "2023-06-25T08:17:23.531794Z",
     "iopub.status.busy": "2023-06-25T08:17:23.530172Z",
     "iopub.status.idle": "2023-06-25T08:17:27.830565Z",
     "shell.execute_reply": "2023-06-25T08:17:27.829481Z"
    },
    "papermill": {
     "duration": 4.313669,
     "end_time": "2023-06-25T08:17:27.833571",
     "exception": false,
     "start_time": "2023-06-25T08:17:23.519902",
     "status": "completed"
    },
    "tags": []
   },
   "outputs": [],
   "source": [
    "from pathlib import Path\n",
    "import random, cv2, os\n",
    "import matplotlib.pyplot as plt"
   ]
  },
  {
   "cell_type": "code",
   "execution_count": 30,
   "id": "4412e6b8",
   "metadata": {
    "execution": {
     "iopub.execute_input": "2023-06-25T08:17:27.856356Z",
     "iopub.status.busy": "2023-06-25T08:17:27.855736Z",
     "iopub.status.idle": "2023-06-25T08:17:27.952289Z",
     "shell.execute_reply": "2023-06-25T08:17:27.951279Z"
    },
    "papermill": {
     "duration": 0.110578,
     "end_time": "2023-06-25T08:17:27.954790",
     "exception": false,
     "start_time": "2023-06-25T08:17:27.844212",
     "status": "completed"
    },
    "tags": []
   },
   "outputs": [],
   "source": [
    "import numpy as np\n",
    "from tqdm.auto import tqdm\n",
    "import pandas as pd\n",
    "import cv2\n",
    "import matplotlib.pyplot as plt\n",
    "\n",
    "import base64\n",
    "from pycocotools import _mask as coco_mask\n",
    "import typing as t\n",
    "import zlib\n",
    "import json\n",
    "import torch"
   ]
  },
  {
   "cell_type": "code",
   "execution_count": 31,
   "id": "c5ab98bd",
   "metadata": {},
   "outputs": [],
   "source": [
    "class CFG:\n",
    "    \n",
    "    MODEL_PATH = \"/home/viktor/Documents/kaggle/hubmap-2023/experiments/mvp-segformer-norm2-bce-loss/ckpts/segformer_epoch_83.pt\"\n",
    "    THRESHOLD = 0.37\n",
    "    IMG_DIR = \"/home/viktor/Documents/kaggle/hubmap-2023/kaggle-data/train\"\n",
    "    N_TRAIN = 1400*10 # Take first N_TRAIN images for training, rest for validation\n",
    "    \n",
    "    min_mask_area = 0 # minimum number of pixels of mask\n",
    "    \n",
    "    device = torch.device('cuda' if torch.cuda.is_available() else 'cpu')"
   ]
  },
  {
   "cell_type": "code",
   "execution_count": 32,
   "id": "4f04ea7f",
   "metadata": {},
   "outputs": [],
   "source": [
    "import albumentations as A\n",
    "from albumentations.pytorch import ToTensorV2\n",
    "import json\n",
    "from PIL import Image\n",
    "from skimage.draw import polygon\n",
    "from albumentations import Compose, Resize, HorizontalFlip, VerticalFlip, BboxParams\n",
    "from torch.utils.data import Dataset, DataLoader\n",
    "\n",
    "\n",
    "class HubmapDataset(Dataset):\n",
    "        \n",
    "    def __init__(self, image_dir, labels_file, n_train, mode='train'):\n",
    "        \n",
    "        assert mode in ['train', 'val'], \"mode must be one of ['train', 'val']\"\n",
    "        self.mode = mode\n",
    "        \n",
    "        with open(labels_file, 'r') as json_file:\n",
    "            self.json_labels = [json.loads(line) for line in json_file]\n",
    "\n",
    "        if mode == 'train':\n",
    "            self.json_labels = self.json_labels[:n_train]\n",
    "        else:\n",
    "            self.json_labels = self.json_labels[n_train:]\n",
    "\n",
    "        self.image_dir = image_dir\n",
    "        \n",
    "        \n",
    "        if mode == 'train':\n",
    "            initial_augm = [\n",
    "            \n",
    "                \n",
    "                # A.HorizontalFlip(p=0.5),\n",
    "                # A.VerticalFlip(p=0.5),\n",
    "                \n",
    "                # A.RandomBrightnessContrast(p=0.5, brightness_limit=0.2, contrast_limit=0.2),\n",
    "                # A.GridDistortion(num_steps=5, distort_limit=0.3, p=0.1),\n",
    "                # A.CoarseDropout(max_holes=1, max_width=int(512 * 0.05), max_height=int(512 * 0.05), \n",
    "                #                 mask_fill_value=0, p=0.1),\n",
    "                \n",
    "                \n",
    "                # A.OneOf([\n",
    "                #         A.GaussNoise(var_limit=[10, 50]),\n",
    "                #         A.GaussianBlur(),\n",
    "                #         A.MotionBlur(),\n",
    "                #         ], p=0.1),\n",
    "                # A.MultiplicativeNoise(per_channel=True, multiplier=(0.95, 1.05)),\n",
    "                \n",
    "            ]\n",
    "        else:\n",
    "            initial_augm = []\n",
    "        \n",
    "        self.aug_list = initial_augm + [\n",
    "                A.Resize(512, 512),\n",
    "                A.Normalize(\n",
    "                    mean= [0, 0, 0],\n",
    "                    std= [1, 1, 1],\n",
    "                    max_pixel_value = 255\n",
    "                ),\n",
    "                ToTensorV2(transpose_mask=True),\n",
    "            ]\n",
    "        \n",
    "        # Create the augmentation pipeline\n",
    "        self.augmentations = A.Compose(self.aug_list)\n",
    "\n",
    "    def __len__(self):\n",
    "        return len(self.json_labels)\n",
    "        \n",
    "    def __getitem__(self, idx):\n",
    "        \n",
    "        image_path = os.path.join(self.image_dir, f\"{self.json_labels[idx]['id']}.tif\")\n",
    "        image = Image.open(image_path)\n",
    "        \n",
    "        \n",
    "        # Get the mask\n",
    "        mask = np.zeros((512, 512), dtype=np.float32)\n",
    "        \n",
    "        for annot in self.json_labels[idx]['annotations']:\n",
    "            cords = annot['coordinates']\n",
    "            if annot['type'] == \"blood_vessel\":\n",
    "                for cord in cords:\n",
    "                    rr, cc = polygon(np.array([i[1] for i in cord]), np.asarray([i[0] for i in cord]))\n",
    "                    mask[rr, cc] = 1\n",
    "                    \n",
    "        image = np.array(image)\n",
    "\n",
    "        # image = torch.tensor(np.array(image), dtype=torch.float32).permute(2, 0, 1)  # Shape: [C, H, W]\n",
    "        # mask = torch.tensor(mask, dtype=torch.float32)\n",
    "\n",
    "\n",
    "        augmented = self.augmentations(image=image, mask=mask)\n",
    "        image, mask = augmented[\"image\"], augmented[\"mask\"]\n",
    "        \n",
    "        mean = torch.mean(image, dim=[1,2])\n",
    "        std = torch.std(image, dim=[1,2])\n",
    "        \n",
    "        image = (image - mean[:, None, None]) / std[:, None, None]\n",
    "        \n",
    "        \n",
    "        return image, mask\n"
   ]
  },
  {
   "cell_type": "code",
   "execution_count": 33,
   "id": "589dab98",
   "metadata": {},
   "outputs": [],
   "source": [
    "\n",
    "# import albumentations as A\n",
    "# from albumentations.pytorch import ToTensorV2\n",
    "# import json\n",
    "# from PIL import Image\n",
    "# from skimage.draw import polygon\n",
    "# from albumentations import Compose, Resize, HorizontalFlip, VerticalFlip, BboxParams\n",
    "# from torch.utils.data import Dataset, DataLoader\n",
    "\n",
    "\n",
    "# class HubmapDataset(Dataset):\n",
    "        \n",
    "#     def __init__(self, image_dir):\n",
    "        \n",
    "#         self.image_dir = image_dir\n",
    "#         self.image_files = os.listdir(self.image_dir)\n",
    "#         # take only .tif files\n",
    "#         self.image_files = [f for f in self.image_files if f.endswith('.tif')]\n",
    "#         # sort the files\n",
    "#         self.image_files = sorted(self.image_files)\n",
    "        \n",
    "#         self.aug_list = [\n",
    "#                 A.Resize(512, 512),\n",
    "#                 A.Normalize(\n",
    "#                     mean= [0, 0, 0],\n",
    "#                     std= [1, 1, 1],\n",
    "#                     max_pixel_value = 255\n",
    "#                 ),\n",
    "#                 ToTensorV2(transpose_mask=True),\n",
    "#             ]\n",
    "        \n",
    "#         # Create the augmentation pipeline\n",
    "#         self.augmentations = A.Compose(self.aug_list)\n",
    "\n",
    "#     def __len__(self):\n",
    "#         return len(self.image_files)\n",
    "        \n",
    "#     def __getitem__(self, idx):\n",
    "        \n",
    "#         image_path = os.path.join(self.image_dir, self.image_files[idx])\n",
    "#         image = Image.open(image_path)\n",
    "        \n",
    "        \n",
    "        \n",
    "        \n",
    "#         # # Get the mask\n",
    "#         # mask = np.zeros((512, 512), dtype=np.float32)\n",
    "        \n",
    "#         # for annot in self.json_labels[idx]['annotations']:\n",
    "#         #     cords = annot['coordinates']\n",
    "#         #     if annot['type'] == \"blood_vessel\":\n",
    "#         #         for cord in cords:\n",
    "#         #             rr, cc = polygon(np.array([i[1] for i in cord]), np.asarray([i[0] for i in cord]))\n",
    "#         #             mask[rr, cc] = 1\n",
    "                    \n",
    "#         image = np.array(image)\n",
    "\n",
    "#         # image = torch.tensor(np.array\n",
    "#         augmented = self.augmentations(image=image)\n",
    "#         image = augmented[\"image\"]\n",
    "        \n",
    "#         mean = torch.mean(image, dim=[1,2])\n",
    "#         std = torch.std(image, dim=[1,2])\n",
    "        \n",
    "#         image = (image - mean[:, None, None]) / std[:, None, None]\n",
    "        \n",
    "#         label_idx = self.image_files[idx]\n",
    "        \n",
    "        \n",
    "        \n",
    "#         return image, label_idx\n"
   ]
  },
  {
   "cell_type": "code",
   "execution_count": 34,
   "id": "7ea390c7",
   "metadata": {},
   "outputs": [],
   "source": [
    "train_dataset = HubmapDataset(image_dir=\"/home/viktor/Documents/kaggle/hubmap-2023/kaggle-data/train\", \n",
    "                              labels_file=\"/home/viktor/Documents/kaggle/hubmap-2023/kaggle-data/polygons.jsonl\", \n",
    "                              n_train=CFG.N_TRAIN,\n",
    "                              mode='train')\n",
    "\n",
    "val_dataset = HubmapDataset(image_dir=\"/home/viktor/Documents/kaggle/hubmap-2023/kaggle-data/train\", \n",
    "                              labels_file=\"/home/viktor/Documents/kaggle/hubmap-2023/kaggle-data/polygons.jsonl\", \n",
    "                              n_train=CFG.N_TRAIN,\n",
    "                              mode='val')"
   ]
  },
  {
   "cell_type": "code",
   "execution_count": 35,
   "id": "bc77682f",
   "metadata": {},
   "outputs": [],
   "source": [
    "# train_dataset = HubmapDataset(image_dir=\"/home/viktor/Documents/kaggle/hubmap-2023/kaggle-data/train\")\n",
    "\n",
    "# val_dataset = HubmapDataset(image_dir=\"/home/viktor/Documents/kaggle/hubmap-2023/kaggle-data/test\")"
   ]
  },
  {
   "cell_type": "code",
   "execution_count": 36,
   "id": "0bf0e344",
   "metadata": {
    "execution": {
     "iopub.execute_input": "2023-06-25T08:17:28.019211Z",
     "iopub.status.busy": "2023-06-25T08:17:28.018881Z",
     "iopub.status.idle": "2023-06-25T08:17:35.830411Z",
     "shell.execute_reply": "2023-06-25T08:17:35.829402Z"
    },
    "papermill": {
     "duration": 7.824369,
     "end_time": "2023-06-25T08:17:35.833341",
     "exception": false,
     "start_time": "2023-06-25T08:17:28.008972",
     "status": "completed"
    },
    "tags": []
   },
   "outputs": [
    {
     "name": "stderr",
     "output_type": "stream",
     "text": [
      "Some weights of the model checkpoint at nvidia/mit-b5 were not used when initializing SegformerForSemanticSegmentation: ['classifier.bias', 'classifier.weight']\n",
      "- This IS expected if you are initializing SegformerForSemanticSegmentation from the checkpoint of a model trained on another task or with another architecture (e.g. initializing a BertForSequenceClassification model from a BertForPreTraining model).\n",
      "- This IS NOT expected if you are initializing SegformerForSemanticSegmentation from the checkpoint of a model that you expect to be exactly identical (initializing a BertForSequenceClassification model from a BertForSequenceClassification model).\n",
      "Some weights of SegformerForSemanticSegmentation were not initialized from the model checkpoint at nvidia/mit-b5 and are newly initialized: ['decode_head.batch_norm.running_var', 'decode_head.linear_c.0.proj.bias', 'decode_head.classifier.bias', 'decode_head.linear_c.2.proj.weight', 'decode_head.batch_norm.num_batches_tracked', 'decode_head.linear_c.2.proj.bias', 'decode_head.batch_norm.bias', 'decode_head.classifier.weight', 'decode_head.linear_c.3.proj.weight', 'decode_head.linear_c.3.proj.bias', 'decode_head.linear_c.1.proj.bias', 'decode_head.linear_fuse.weight', 'decode_head.linear_c.0.proj.weight', 'decode_head.batch_norm.running_mean', 'decode_head.batch_norm.weight', 'decode_head.linear_c.1.proj.weight']\n",
      "You should probably TRAIN this model on a down-stream task to be able to use it for predictions and inference.\n"
     ]
    }
   ],
   "source": [
    "from transformers import SegformerForSemanticSegmentation\n",
    "import torch    \n",
    "import torch.nn as nn\n",
    "\n",
    "class Segformer(nn.Module):\n",
    "    def __init__(self):\n",
    "        super().__init__()\n",
    "        self.seg_model = SegformerForSemanticSegmentation.from_pretrained(\"nvidia/mit-b5\",\n",
    "                                                         num_labels=1,\n",
    "                                                         ignore_mismatched_sizes=True,\n",
    "                                                         num_channels=3)\n",
    "        self.up = nn.Upsample(scale_factor=4, mode=\"bilinear\")\n",
    "        \n",
    "    def forward(self, x):\n",
    "        x = self.seg_model(x).logits\n",
    "        x = self.up(x)\n",
    "        return x\n",
    "\n",
    "\n",
    "\n",
    "model = Segformer()\n",
    "\n",
    "\n",
    "state_dict = torch.load(CFG.MODEL_PATH)\n",
    "model.load_state_dict(state_dict)\n",
    "model = model.to(CFG.device)\n",
    "model.eval();\n",
    "\n",
    "\n"
   ]
  },
  {
   "cell_type": "code",
   "execution_count": 37,
   "id": "1f4d67d6",
   "metadata": {},
   "outputs": [],
   "source": [
    "# import segmentation_models_pytorch as smp\n",
    "\n",
    "# model = smp.Unet(\n",
    "#     encoder_name=\"mit_b5\",        # choose encoder, e.g. mobilenet_v2 or efficientnet-b7\n",
    "#     encoder_weights=\"imagenet\",     # use `imagenet` pre-trained weights for encoder initialization\n",
    "#     in_channels=3,                  # model input channels (1 for gray-scale images, 3 for RGB, etc.)\n",
    "#     classes=1,                      # model output channels (number of classes in your dataset)\n",
    "# )\n",
    "\n",
    "# state_dict = torch.load(CFG.MODEL_PATH)\n",
    "# model.load_state_dict(state_dict)\n",
    "\n",
    "# model = model.to(CFG.device)"
   ]
  },
  {
   "cell_type": "code",
   "execution_count": 38,
   "id": "d4825486",
   "metadata": {},
   "outputs": [],
   "source": [
    "from PIL import Image\n",
    "import albumentations as A\n",
    "from albumentations.pytorch import ToTensorV2\n",
    "\n",
    "def preprocess_img_for_model_inference(img_path):\n",
    "    # image = cv2.imread(img_path)\n",
    "    image = Image.open(img_path)\n",
    "    \n",
    "    image = np.array(image)\n",
    "    \n",
    "    \n",
    "    # apply \n",
    "    aug_list = [\n",
    "                A.Resize(512, 512),\n",
    "                A.Normalize(\n",
    "                    mean= [0, 0, 0],\n",
    "                    std= [1, 1, 1],\n",
    "                    max_pixel_value = 255\n",
    "                ),\n",
    "                ToTensorV2(transpose_mask=True),\n",
    "            ]\n",
    "        \n",
    "   # Create the augmentation pipeline\n",
    "    augmentations = A.Compose(aug_list)\n",
    "    \n",
    "    \n",
    "    # image = torch.tensor(image).permute(2, 0, 1).unsqueeze(0).float()\n",
    "    image = augmentations(image=image)[\"image\"].unsqueeze(0)\n",
    "    \n",
    "    \n",
    "    mean = torch.mean(image, dim=[1,2])\n",
    "    std = torch.std(image, dim=[1,2])\n",
    "    \n",
    "    image = (image - mean[:, None, None]) / std[:, None, None]\n",
    "    \n",
    "    return image    "
   ]
  },
  {
   "cell_type": "code",
   "execution_count": 39,
   "id": "78b2646d",
   "metadata": {},
   "outputs": [],
   "source": [
    "def seg_to_det(\n",
    "    seg: np.ndarray, \n",
    "):\n",
    "    num_outputs, labels, stats, centroids = cv2.connectedComponentsWithStats(seg)\n",
    "    boxes = stats[:, [cv2.CC_STAT_LEFT, cv2.CC_STAT_TOP, cv2.CC_STAT_WIDTH, cv2.CC_STAT_HEIGHT]]\n",
    "    label_masks = [labels == i for i in range(num_outputs)]\n",
    "    dets = {\n",
    "        \"boxes\": np.stack([\n",
    "            boxes[:, 0],\n",
    "            boxes[:, 1],\n",
    "            boxes[:, 0] + boxes[:, 2],\n",
    "            boxes[:, 1] + boxes[:, 3],\n",
    "        ], axis=1),\n",
    "        \"masks\": [seg * m for m in label_masks],\n",
    "    }\n",
    "    dets[\"scores\"] = [np.max(seg[m]) for m in label_masks]\n",
    "    \n",
    "    # remove dets element where 'boxes' = [0, 0, 512, 512]\n",
    "    boxes_to_remove = [0, 0, 512, 512]\n",
    "    indices_to_remove = np.where(np.all(dets[\"boxes\"] == boxes_to_remove, axis=1))\n",
    "    \n",
    "    dets[\"boxes\"] = np.delete(dets[\"boxes\"], indices_to_remove, axis=0)\n",
    "    dets[\"masks\"] = [i for j, i in enumerate(dets[\"masks\"]) if j not in indices_to_remove]\n",
    "    dets[\"scores\"] = np.delete(dets[\"scores\"], indices_to_remove)\n",
    "    \n",
    "    \n",
    "    # remove dets where np.sum(mask) < CFG.min_mask_area\n",
    "    indices_to_remove = []\n",
    "    for i, mask in enumerate(dets[\"masks\"]):\n",
    "        if np.sum(mask) < CFG.min_mask_area:\n",
    "            indices_to_remove.append(i)\n",
    "            \n",
    "    dets[\"boxes\"] = np.delete(dets[\"boxes\"], indices_to_remove, axis=0)\n",
    "    dets[\"masks\"] = [i for j, i in enumerate(dets[\"masks\"]) if j not in indices_to_remove]\n",
    "    dets[\"scores\"] = np.delete(dets[\"scores\"], indices_to_remove)\n",
    "    \n",
    "    return dets\n",
    "\n",
    "def refine_mask(pred_sigmoid):\n",
    "    # Compute the 2D FFT of the input\n",
    "    F = np.fft.fft2(pred_sigmoid)\n",
    "\n",
    "    # Create an array with every position from -N/2 to N/2\n",
    "    kx = np.fft.fftfreq(pred_sigmoid.shape[0])\n",
    "    ky = np.fft.fftfreq(pred_sigmoid.shape[1])\n",
    "\n",
    "    # Rescale and shift the frequencies from fftfreq to match the order returned by fft2\n",
    "    kx = np.fft.fftshift(kx)\n",
    "    ky = np.fft.fftshift(ky)\n",
    "\n",
    "    # Calculate the wave numbers in the x and y directions\n",
    "    kx = 2j * np.pi * kx\n",
    "    ky = 2j * np.pi * ky\n",
    "\n",
    "    # Reshape ky to a column vector\n",
    "    ky = ky[:, np.newaxis]\n",
    "\n",
    "    # Differentiate in Fourier domain by multiplying with ik in each direction\n",
    "    dFx = F * kx**2\n",
    "    dFy = F * ky**2\n",
    "\n",
    "    # Return to spatial domain\n",
    "    dx = np.real(np.fft.ifft2(dFx))\n",
    "    dy = np.real(np.fft.ifft2(dFy))\n",
    "\n",
    "    # dx and dy now hold the numerical derivatives of the input function\n",
    "    pred_sigmoid_der = dx + dy\n",
    "    \n",
    "    \n",
    "    pred_sigmoid_der = (pred_sigmoid_der - np.min(pred_sigmoid_der)) / (np.max(pred_sigmoid_der) - np.min(pred_sigmoid_der))\n",
    "    \n",
    "    pred_sigmoid_der = 1 - pred_sigmoid_der\n",
    "    \n",
    "    return pred_sigmoid_der\n",
    "\n",
    "\n",
    "\n",
    "def predict(image):\n",
    "    with torch.no_grad():\n",
    "        pred = model(image)\n",
    "        pred = torch.sigmoid(pred)\n",
    "        pred_sigmoid = pred.squeeze().cpu().numpy()\n",
    "    \n",
    "    # pred_sigmoid = refine_mask(pred_sigmoid)\n",
    "    # pred = (pred_sigmoid > 0.5).astype(np.uint8)*255\n",
    "    \n",
    "    pred = (pred_sigmoid > CFG.THRESHOLD).astype(np.uint8)*255\n",
    "    \n",
    "    dets = seg_to_det(pred)\n",
    "    pred_masks, pred_classes, scores, boxes = dets[\"masks\"], [0]*len(dets[\"masks\"]), dets[\"scores\"], dets[\"boxes\"]\n",
    "    \n",
    "    # convert pred_masks to uint8_t\n",
    "    pred_masks = [m.astype(np.uint8) for m in pred_masks]\n",
    "    \n",
    "    return pred_masks, pred_classes, scores, boxes, pred_sigmoid\n",
    "\n",
    "def predict_and_load_image(img_path):\n",
    "    image = preprocess_img_for_model_inference(img_path)\n",
    "    \n",
    "    \n",
    "    image = image.to(CFG.device)\n",
    "    return predict(image)"
   ]
  },
  {
   "attachments": {},
   "cell_type": "markdown",
   "id": "e2330f2d",
   "metadata": {
    "papermill": {
     "duration": 0.020221,
     "end_time": "2023-06-25T08:17:44.794469",
     "exception": false,
     "start_time": "2023-06-25T08:17:44.774248",
     "status": "completed"
    },
    "tags": []
   },
   "source": [
    "## segm-mAP code"
   ]
  },
  {
   "cell_type": "code",
   "execution_count": 40,
   "id": "14c66b69",
   "metadata": {
    "execution": {
     "iopub.execute_input": "2023-06-25T08:17:44.837864Z",
     "iopub.status.busy": "2023-06-25T08:17:44.836994Z",
     "iopub.status.idle": "2023-06-25T08:17:44.841946Z",
     "shell.execute_reply": "2023-06-25T08:17:44.841091Z"
    },
    "papermill": {
     "duration": 0.029142,
     "end_time": "2023-06-25T08:17:44.844157",
     "exception": false,
     "start_time": "2023-06-25T08:17:44.815015",
     "status": "completed"
    },
    "tags": []
   },
   "outputs": [],
   "source": [
    "import pycocotools.mask as mask_util"
   ]
  },
  {
   "cell_type": "code",
   "execution_count": 41,
   "id": "451a5f09",
   "metadata": {
    "execution": {
     "iopub.execute_input": "2023-06-25T08:17:44.944853Z",
     "iopub.status.busy": "2023-06-25T08:17:44.944536Z",
     "iopub.status.idle": "2023-06-25T08:17:44.953187Z",
     "shell.execute_reply": "2023-06-25T08:17:44.952188Z"
    },
    "papermill": {
     "duration": 0.032517,
     "end_time": "2023-06-25T08:17:44.955174",
     "exception": false,
     "start_time": "2023-06-25T08:17:44.922657",
     "status": "completed"
    },
    "tags": []
   },
   "outputs": [],
   "source": [
    "def voc_ap(rec, prec):\n",
    "    \"\"\"\n",
    "    --- Official matlab code VOC2012---\n",
    "    mrec=[0 ; rec ; 1];\n",
    "    mpre=[0 ; prec ; 0];\n",
    "    for i=numel(mpre)-1:-1:1\n",
    "            mpre(i)=max(mpre(i),mpre(i+1));\n",
    "    end\n",
    "    i=find(mrec(2:end)~=mrec(1:end-1))+1;\n",
    "    ap=sum((mrec(i)-mrec(i-1)).*mpre(i));\n",
    "    \"\"\"\n",
    "    rec.insert(0, 0.0) # insert 0.0 at begining of list\n",
    "    rec.append(1.0) # insert 1.0 at end of list\n",
    "    mrec = rec[:]\n",
    "    prec.insert(0, 0.0) # insert 0.0 at begining of list\n",
    "    prec.append(0.0) # insert 0.0 at end of list\n",
    "    mpre = prec[:]\n",
    "    \"\"\"\n",
    "     This part makes the precision monotonically decreasing\n",
    "        (goes from the end to the beginning)\n",
    "        matlab: for i=numel(mpre)-1:-1:1\n",
    "                    mpre(i)=max(mpre(i),mpre(i+1));\n",
    "    \"\"\"\n",
    "    # matlab indexes start in 1 but python in 0, so I have to do:\n",
    "    #     range(start=(len(mpre) - 2), end=0, step=-1)\n",
    "    # also the python function range excludes the end, resulting in:\n",
    "    #     range(start=(len(mpre) - 2), end=-1, step=-1)\n",
    "    for i in range(len(mpre)-2, -1, -1):\n",
    "        mpre[i] = max(mpre[i], mpre[i+1])\n",
    "    \"\"\"\n",
    "     This part creates a list of indexes where the recall changes\n",
    "        matlab: i=find(mrec(2:end)~=mrec(1:end-1))+1;\n",
    "    \"\"\"\n",
    "    i_list = []\n",
    "    for i in range(1, len(mrec)):\n",
    "        if mrec[i] != mrec[i-1]:\n",
    "            i_list.append(i) # if it was matlab would be i + 1\n",
    "    \"\"\"\n",
    "     The Average Precision (AP) is the area under the curve\n",
    "        (numerical integration)\n",
    "        matlab: ap=sum((mrec(i)-mrec(i-1)).*mpre(i));\n",
    "    \"\"\"\n",
    "    ap = 0.0\n",
    "    for i in i_list:\n",
    "        ap += ((mrec[i]-mrec[i-1])*mpre[i])\n",
    "    return ap, mrec, mpre\n"
   ]
  },
  {
   "cell_type": "code",
   "execution_count": 42,
   "id": "b1bbd15e",
   "metadata": {
    "execution": {
     "iopub.execute_input": "2023-06-25T08:17:44.997859Z",
     "iopub.status.busy": "2023-06-25T08:17:44.997573Z",
     "iopub.status.idle": "2023-06-25T08:17:45.014383Z",
     "shell.execute_reply": "2023-06-25T08:17:45.013152Z"
    },
    "papermill": {
     "duration": 0.041735,
     "end_time": "2023-06-25T08:17:45.016826",
     "exception": false,
     "start_time": "2023-06-25T08:17:44.975091",
     "status": "completed"
    },
    "tags": []
   },
   "outputs": [],
   "source": [
    "class MAPCalculatorSingleClass:\n",
    "    def __init__(self, thresholds=[0.6]):\n",
    "        self.ious = []\n",
    "        self.confidences = []\n",
    "        self.image_ids = []\n",
    "        self.current_img_id = 0\n",
    "        \n",
    "        self.GT = 0\n",
    "        \n",
    "    def accumulate(self, ious, confidences, num_gt):\n",
    "        assert len(ious) == len(confidences), f\"ious and confidences must have same length: {len(ious)} != {len(confidences)}\"\n",
    "        self.ious.extend([x for x in ious])\n",
    "        self.confidences.extend(confidences)\n",
    "        self.image_ids.extend([self.current_img_id]*len(confidences))\n",
    "        self.current_img_id += 1\n",
    "        self.GT += num_gt\n",
    "        \n",
    "        \n",
    "    def evaluate(self, thresholds=[0.6], vis=False):        \n",
    "        # sort by confidence descending\n",
    "        sorted_inds = np.argsort(self.confidences)[::-1]\n",
    "        \n",
    "        results = dict()\n",
    "        \n",
    "        for th in thresholds:\n",
    "            accum_tp = 0\n",
    "            accum_fp = 0\n",
    "            \n",
    "            TP = []\n",
    "            FP = []\n",
    "            list_gts = dict()\n",
    "            \n",
    "            NPREDS = []\n",
    "            count = 0\n",
    "            for ind in sorted_inds:\n",
    "                iou_row = self.ious[ind]\n",
    "                img_id = self.image_ids[ind]\n",
    "                \n",
    "                matched_inds = np.where(iou_row >= th)[0]\n",
    "                best_gt_ind = -1\n",
    "                best_iou = 0\n",
    "                for gt_ind in matched_inds:\n",
    "                    iou = iou_row[gt_ind]\n",
    "                    if iou > best_iou and list_gts.get((img_id, gt_ind)) is None:\n",
    "                        best_iou = iou\n",
    "                        best_gt_ind = gt_ind\n",
    "                \n",
    "                if best_gt_ind != -1:\n",
    "                    list_gts[(img_id, best_gt_ind)] = True\n",
    "                    accum_tp += 1\n",
    "                else:\n",
    "                    accum_fp += 1\n",
    "                    \n",
    "                count += 1\n",
    "                NPREDS.append(count)\n",
    "                    \n",
    "                TP.append(accum_tp)\n",
    "                FP.append(accum_fp)\n",
    "                \n",
    "            PR = []\n",
    "            REC = []\n",
    "            \n",
    "            for tp, fp in zip(TP, FP):\n",
    "                pr = tp / (tp+fp+1e-5)\n",
    "                rec = tp / self.GT\n",
    "                PR.append(pr)\n",
    "                REC.append(rec)\n",
    "                \n",
    "            if vis:\n",
    "                plt.figure()\n",
    "                plt.plot(REC, PR, '-o', label='precision-recall curve')\n",
    "                \n",
    "            ap, mrec, mpre = voc_ap(REC, PR)\n",
    "            \n",
    "            if vis:\n",
    "                plt.plot(mrec, mpre, '--', label='interpolation')\n",
    "                plt.legend()\n",
    "                plt.title('Precision recall curve at threshold:'+str(np.round(th, 2)))\n",
    "                plt.show()\n",
    "            \n",
    "            results[th] = ap\n",
    "    \n",
    "        outputs = {}\n",
    "        outputs[\"true_positives\"] = TP\n",
    "        outputs[\"false_positives\"] = FP\n",
    "        outputs[\"precision\"] = PR\n",
    "        outputs[\"recall\"] = REC\n",
    "    \n",
    "        return np.mean(list(results.values())), results, outputs"
   ]
  },
  {
   "attachments": {},
   "cell_type": "markdown",
   "id": "c9364a5b",
   "metadata": {
    "papermill": {
     "duration": 0.020518,
     "end_time": "2023-06-25T08:17:45.488345",
     "exception": false,
     "start_time": "2023-06-25T08:17:45.467827",
     "status": "completed"
    },
    "tags": []
   },
   "source": [
    "### Our custom code"
   ]
  },
  {
   "cell_type": "code",
   "execution_count": 43,
   "id": "51a9ea20",
   "metadata": {
    "execution": {
     "iopub.execute_input": "2023-06-25T08:17:45.531793Z",
     "iopub.status.busy": "2023-06-25T08:17:45.531034Z",
     "iopub.status.idle": "2023-06-25T08:18:16.780045Z",
     "shell.execute_reply": "2023-06-25T08:18:16.779066Z"
    },
    "papermill": {
     "duration": 31.273777,
     "end_time": "2023-06-25T08:18:16.782626",
     "exception": false,
     "start_time": "2023-06-25T08:17:45.508849",
     "status": "completed"
    },
    "tags": []
   },
   "outputs": [
    {
     "data": {
      "application/vnd.jupyter.widget-view+json": {
       "model_id": "00e23a5a3c1645c79f7f355037a0e43c",
       "version_major": 2,
       "version_minor": 0
      },
      "text/plain": [
       "0it [00:00, ?it/s]"
      ]
     },
     "metadata": {},
     "output_type": "display_data"
    },
    {
     "data": {
      "application/vnd.jupyter.widget-view+json": {
       "model_id": "b793a672e3af4039a4c641850def208a",
       "version_major": 2,
       "version_minor": 0
      },
      "text/plain": [
       "  0%|          | 0/1633 [00:00<?, ?it/s]"
      ]
     },
     "metadata": {},
     "output_type": "display_data"
    },
    {
     "name": "stdout",
     "output_type": "stream",
     "text": [
      "Precision: 0.8888888888888888, Recall: 1.0\n",
      "Precision: 0.9, Recall: 1.0\n",
      "Precision: 0.9166666666666666, Recall: 0.9166666666666666\n",
      "Precision: 0.9333333333333333, Recall: 0.7368421052631579\n",
      "Precision: 0.9130434782608695, Recall: 0.75\n",
      "Precision: 0.92, Recall: 0.71875\n",
      "Precision: 0.8387096774193549, Recall: 0.65\n",
      "Precision: 0.8421052631578947, Recall: 0.6530612244897959\n",
      "Precision: 0.8409090909090909, Recall: 0.6727272727272727\n",
      "Precision: 0.8363636363636363, Recall: 0.7076923076923077\n"
     ]
    },
    {
     "data": {
      "image/png": "[encoded data removed]",
      "text/plain": [
       "<Figure size 1000x10000 with 10 Axes>"
      ]
     },
     "metadata": {},
     "output_type": "display_data"
    }
   ],
   "source": [
    "from skimage.morphology import binary_dilation\n",
    "\n",
    "\n",
    "pbar = enumerate(val_dataset)\n",
    "pbar = tqdm(pbar, total=len(val_dataset))\n",
    "\n",
    "\n",
    "# pbar = enumerate(train_dataset)\n",
    "# pbar = tqdm(pbar, total=len(train_dataset))\n",
    "\n",
    "\n",
    "n_figures = 10\n",
    "fig, axs = plt.subplots(n_figures, 1, figsize=(10, n_figures*10)) #adjust the figsize parameter to your needs\n",
    "\n",
    "\n",
    "n_gts = 0\n",
    "n_true_positives = 0\n",
    "n_false_positives = 0\n",
    "\n",
    "precisions = []\n",
    "recalls = []\n",
    "\n",
    "for pbar_i, (images, target_masks) in pbar:\n",
    "    \n",
    "    if pbar_i == n_figures:\n",
    "        break\n",
    "    \n",
    "    width, height = images.shape[2], images.shape[1]\n",
    "    images = images.unsqueeze(0).to(CFG.device)    \n",
    "    \n",
    "    dets = seg_to_det(target_masks.squeeze(0).cpu().numpy().astype(np.uint8)*255)\n",
    "    target_masks, pred_classes, scores_target, bboxes_target = dets[\"masks\"], [0]*len(dets[\"masks\"]), dets[\"scores\"], dets[\"boxes\"]\n",
    "    # convert pred_masks to uint8_t\n",
    "    target_masks = [m.astype(np.uint8) for m in target_masks]\n",
    "\n",
    "    # make prediction\n",
    "    # pred_masks, pred_classes, scores = predict(predictor, img)\n",
    "    pred_masks, pred_classes, scores_pred, bboxes_pred, pred_sigmoid = predict(images)\n",
    "    \n",
    "    \n",
    "    \n",
    "    \n",
    "    min_area = 5e4\n",
    "    min_height = 0\n",
    "    min_width = 0\n",
    "    # # remove pred_masks with area < 200\n",
    "    remove_inds = []\n",
    "    for i, m in enumerate(pred_masks):\n",
    "        if m.sum() < min_area or (bboxes_pred[i,3] - bboxes_pred[i,1] < min_height or bboxes_pred[i,2] - bboxes_pred[i,0] < min_width):\n",
    "            remove_inds.append(i)\n",
    "    pred_masks = [m for i, m in enumerate(pred_masks) if i not in remove_inds]\n",
    "    pred_classes = [c for i, c in enumerate(pred_classes) if i not in remove_inds]\n",
    "    scores_pred = [s for i, s in enumerate(scores_pred) if i not in remove_inds]\n",
    "    bboxes_pred = bboxes_pred[~np.isin(np.arange(len(bboxes_pred)), remove_inds)]\n",
    "    \n",
    "    # remove_inds = []\n",
    "    # for i, m in enumerate(target_masks):\n",
    "    #     if m.sum() < min_area or (bboxes_target[i,3] - bboxes_target[i,1] < min_height and bboxes_target[i,2] - bboxes_target[i,0] < min_width):\n",
    "    #         remove_inds.append(i)\n",
    "    # target_masks = [m for i, m in enumerate(target_masks) if i not in remove_inds]\n",
    "    # pred_classes = [c for i, c in enumerate(pred_classes) if i not in remove_inds]\n",
    "    # scores_target = [s for i, s in enumerate(scores_target) if i not in remove_inds]\n",
    "    # bboxes_target = bboxes_target[~np.isin(np.arange(len(bboxes_target)), remove_inds)]\n",
    "    \n",
    "    \n",
    "    min_area_dilation = 1e4\n",
    "    # # dilate all pred masks below min_area_dilation\n",
    "    # for i, m in enumerate(pred_masks):\n",
    "    #     if m.sum()/255 < min_area_dilation:\n",
    "    #         pred_masks[i] = binary_dilation(m/255).astype(np.uint8)*255\n",
    "    \n",
    "\n",
    "    \n",
    "    \n",
    "    def calculate_iou(pred_mask, gt_mask):\n",
    "        intersection = np.logical_and(pred_mask, gt_mask)\n",
    "        union = np.logical_or(pred_mask, gt_mask)\n",
    "        return np.sum(intersection) / np.sum(union)\n",
    "    \n",
    "    \n",
    "    \n",
    "    ious = np.zeros((len(pred_masks), len(target_masks)))\n",
    "    if len(target_masks) > 0:\n",
    "        for i, pred_mask in enumerate(pred_masks):\n",
    "            for j, gt_mask in enumerate(target_masks):\n",
    "                ious[i, j] = calculate_iou(pred_mask, gt_mask)\n",
    "                # print(ious[i, j])\n",
    "    \n",
    "    # Combine all target masks into one\n",
    "    target_mask = np.sum(target_masks, axis=0)\n",
    "    \n",
    "    # combine all pred masks into one\n",
    "    pred_mask = np.ones((3, 512, 512))\n",
    "    # 0 1 2 -> R G B\n",
    "    \n",
    "    pred_mask[2] = target_mask\n",
    "    \n",
    "    # print(np.shape(target_masks), np.shape(pred_masks)) -> (11, 512, 512) (9, 512, 512)\n",
    "    # ious.shape -> (9, 11)\n",
    "    \n",
    "    matched_gt_ids = []\n",
    "    matched_pred_ids = []\n",
    "    false_pred_ids = []\n",
    "            \n",
    "    if len(target_masks) > 0:\n",
    "        for i in range(len(pred_masks)):\n",
    "            j = np.argmax(ious[i])  \n",
    "            if ious[i, j] > 0.6 and j not in matched_gt_ids and i not in matched_pred_ids:\n",
    "                # put it on the green channel\n",
    "                # pred_mask[1] += pred_masks[indx_pred]\n",
    "                matched_gt_ids.append(j)\n",
    "                matched_pred_ids.append(i)\n",
    "            else:\n",
    "                # put it on the red channel\n",
    "                # pred_mask[0] += pred_masks[indx_pred]\n",
    "                false_pred_ids.append(i)\n",
    "    \n",
    "    for idx in matched_pred_ids:\n",
    "        pred_mask[1] += pred_masks[idx]\n",
    "    \n",
    "    for idx in false_pred_ids:\n",
    "        pred_mask[0] += pred_masks[idx]     \n",
    "    \n",
    "    if len(target_masks) > 0:\n",
    "        n_gts += len(target_masks)\n",
    "        n_true_positives += len(matched_gt_ids)\n",
    "        n_false_positives += len(false_pred_ids)\n",
    "    else:\n",
    "        n_false_positives += len(pred_masks)\n",
    "    \n",
    "    if len(target_masks) > 0:\n",
    "        if len(matched_gt_ids) > 0:\n",
    "            precision_current = len(matched_gt_ids) / (len(matched_gt_ids) + len(false_pred_ids))\n",
    "        else:\n",
    "            precision_current = 0\n",
    "        recall_current = len(matched_gt_ids) / len(target_masks)\n",
    "    else:\n",
    "        precision_current = 0\n",
    "        recall_current = 0\n",
    "        \n",
    "    \n",
    "    precisions.append(precision_current)\n",
    "    recalls.append(recall_current)\n",
    "    \n",
    "    precision = n_true_positives / (n_true_positives + n_false_positives)\n",
    "    recall = n_true_positives / n_gts\n",
    "    print(f\"Precision: {precision}, Recall: {recall}\")\n",
    "    \n",
    "    \n",
    "    \n",
    "    # Yellow is a combination of red and green\n",
    "    # Combination of green and blue is cyan\n",
    "    \n",
    "    # plot plt.imshow(pred_mask.transpose(1,2,0)/256) on the subplot\n",
    "    # plt.imshow(pred_mask.transpose(1,2,0)/256)\n",
    "    \n",
    "    # axs[pbar_i].imshow(pred_mask.transpose(1,2,0)/256)\n",
    "\n",
    "    \n",
    "    \n",
    "# plt.show()"
   ]
  },
  {
   "cell_type": "code",
   "execution_count": 44,
   "id": "62fdbc73",
   "metadata": {},
   "outputs": [
    {
     "data": {
      "text/plain": [
       "[<matplotlib.lines.Line2D at 0x7f259cb174c0>]"
      ]
     },
     "execution_count": 44,
     "metadata": {},
     "output_type": "execute_result"
    },
    {
     "data": {
      "image/png": "[encoded data removed]",
      "text/plain": [
       "<Figure size 640x480 with 1 Axes>"
      ]
     },
     "metadata": {},
     "output_type": "display_data"
    }
   ],
   "source": [
    "precisions = np.array(precisions)\n",
    "recalls = np.array(recalls)\n",
    "\n",
    "plt.plot(recalls, precisions, ls='', marker='o')"
   ]
  },
  {
   "cell_type": "code",
   "execution_count": 45,
   "id": "c14398ce",
   "metadata": {},
   "outputs": [],
   "source": [
    "import numpy as np\n",
    "\n",
    "# Compute the 2D FFT of the input\n",
    "F = np.fft.fft2(pred_sigmoid)\n",
    "\n",
    "# Create an array with every position from -N/2 to N/2\n",
    "kx = np.fft.fftfreq(pred_sigmoid.shape[0])\n",
    "ky = np.fft.fftfreq(pred_sigmoid.shape[1])\n",
    "\n",
    "# Rescale and shift the frequencies from fftfreq to match the order returned by fft2\n",
    "kx = np.fft.fftshift(kx)\n",
    "ky = np.fft.fftshift(ky)\n",
    "\n",
    "# Calculate the wave numbers in the x and y directions\n",
    "kx = 2j * np.pi * kx\n",
    "ky = 2j * np.pi * ky\n",
    "\n",
    "# Reshape ky to a column vector\n",
    "ky = ky[:, np.newaxis]\n",
    "\n",
    "# Differentiate in Fourier domain by multiplying with ik in each direction\n",
    "dFx = F * kx**2\n",
    "dFy = F * ky**2\n",
    "\n",
    "# Return to spatial domain\n",
    "dx = np.real(np.fft.ifft2(dFx))\n",
    "dy = np.real(np.fft.ifft2(dFy))\n",
    "\n",
    "# dx and dy now hold the numerical derivatives of the input function\n",
    "pred_sigmoid_der = dx + dy\n"
   ]
  },
  {
   "cell_type": "code",
   "execution_count": 46,
   "id": "70bf7d36",
   "metadata": {},
   "outputs": [
    {
     "name": "stdout",
     "output_type": "stream",
     "text": [
      "0.0 1.0\n"
     ]
    },
    {
     "data": {
      "text/plain": [
       "<matplotlib.image.AxesImage at 0x7f259cba7cd0>"
      ]
     },
     "execution_count": 46,
     "metadata": {},
     "output_type": "execute_result"
    },
    {
     "data": {
      "image/png": "[encoded data removed]",
      "text/plain": [
       "<Figure size 640x480 with 1 Axes>"
      ]
     },
     "metadata": {},
     "output_type": "display_data"
    }
   ],
   "source": [
    "x = (pred_sigmoid_der - np.min(pred_sigmoid_der))/(np.max(pred_sigmoid_der) - np.min(pred_sigmoid_der))\n",
    "x = 1 - x\n",
    "# x = pred_sigmoid * x\n",
    "\n",
    "print(np.min(x), np.max(x))\n",
    "\n",
    "plt.imshow(x>0.5)"
   ]
  },
  {
   "cell_type": "code",
   "execution_count": 47,
   "id": "4d0d62a4",
   "metadata": {},
   "outputs": [
    {
     "name": "stdout",
     "output_type": "stream",
     "text": [
      "13\n"
     ]
    },
    {
     "data": {
      "text/plain": [
       "<matplotlib.image.AxesImage at 0x7f25b0838040>"
      ]
     },
     "execution_count": 47,
     "metadata": {},
     "output_type": "execute_result"
    },
    {
     "data": {
      "image/png": "[encoded data removed]",
      "text/plain": [
       "<Figure size 640x480 with 1 Axes>"
      ]
     },
     "metadata": {},
     "output_type": "display_data"
    }
   ],
   "source": [
    "y = x>0.5\n",
    "y = y.astype(np.uint8)*255\n",
    "num_outputs, labels, stats, centroids = cv2.connectedComponentsWithStats(y)\n",
    "print(num_outputs)\n",
    "label_masks = [labels == i for i in range(num_outputs)]\n",
    "masks = [y * m for m in label_masks]\n",
    "masks_all = np.sum(masks, axis=0)\n",
    "plt.imshow(masks[5])\n"
   ]
  },
  {
   "cell_type": "code",
   "execution_count": 48,
   "id": "cb0ec29f",
   "metadata": {},
   "outputs": [
    {
     "data": {
      "text/plain": [
       "<matplotlib.image.AxesImage at 0x7f25b0885760>"
      ]
     },
     "execution_count": 48,
     "metadata": {},
     "output_type": "execute_result"
    },
    {
     "data": {
      "image/png": "[encoded data removed]",
      "text/plain": [
       "<Figure size 640x480 with 1 Axes>"
      ]
     },
     "metadata": {},
     "output_type": "display_data"
    }
   ],
   "source": [
    "plt.imshow(pred_sigmoid<0.01)"
   ]
  },
  {
   "cell_type": "code",
   "execution_count": 49,
   "id": "b6b4fd5a",
   "metadata": {},
   "outputs": [
    {
     "name": "stdout",
     "output_type": "stream",
     "text": [
      "0.0 1.0\n"
     ]
    },
    {
     "data": {
      "text/plain": [
       "<matplotlib.image.AxesImage at 0x7f25b08851f0>"
      ]
     },
     "execution_count": 49,
     "metadata": {},
     "output_type": "execute_result"
    },
    {
     "data": {
      "image/png": "[encoded data removed]",
      "text/plain": [
       "<Figure size 640x480 with 1 Axes>"
      ]
     },
     "metadata": {},
     "output_type": "display_data"
    }
   ],
   "source": [
    "x = 1-pred_sigmoid_der\n",
    "x = (x - np.min(x))/(np.max(x) - np.min(x))\n",
    "x = (pred_sigmoid>0.1) * x\n",
    "print(np.min(x), np.max(x))\n",
    "\n",
    "plt.imshow(x>0.1)"
   ]
  },
  {
   "cell_type": "code",
   "execution_count": 50,
   "id": "2f398967",
   "metadata": {},
   "outputs": [
    {
     "data": {
      "text/plain": [
       "(-19.240238782475984, -0.00011353662389363675)"
      ]
     },
     "execution_count": 50,
     "metadata": {},
     "output_type": "execute_result"
    }
   ],
   "source": [
    "pred_sigmoid_der.min(), pred_sigmoid_der.max()"
   ]
  },
  {
   "cell_type": "code",
   "execution_count": 51,
   "id": "c06b0e9a",
   "metadata": {},
   "outputs": [],
   "source": [
    "# pred_sigmoid = np.where(np.abs(pred_sigmoid_der) > 0.5*pred_sigmoid_der.max(), 0, pred_sigmoid)\n"
   ]
  },
  {
   "cell_type": "code",
   "execution_count": 52,
   "id": "c1a4a489",
   "metadata": {},
   "outputs": [
    {
     "data": {
      "text/plain": [
       "<matplotlib.image.AxesImage at 0x7f259c95d820>"
      ]
     },
     "execution_count": 52,
     "metadata": {},
     "output_type": "execute_result"
    },
    {
     "data": {
      "image/png": "[encoded data removed]",
      "text/plain": [
       "<Figure size 640x480 with 1 Axes>"
      ]
     },
     "metadata": {},
     "output_type": "display_data"
    }
   ],
   "source": [
    "plt.imshow(pred_sigmoid)"
   ]
  },
  {
   "cell_type": "code",
   "execution_count": 53,
   "id": "8f5a538c",
   "metadata": {},
   "outputs": [
    {
     "data": {
      "text/plain": [
       "<matplotlib.image.AxesImage at 0x7f25b08d9100>"
      ]
     },
     "execution_count": 53,
     "metadata": {},
     "output_type": "execute_result"
    },
    {
     "data": {
      "image/png": "[encoded data removed]",
      "text/plain": [
       "<Figure size 640x480 with 1 Axes>"
      ]
     },
     "metadata": {},
     "output_type": "display_data"
    }
   ],
   "source": [
    "plt.imshow(pred_sigmoid>0.1)"
   ]
  },
  {
   "cell_type": "code",
   "execution_count": 54,
   "id": "3637212c",
   "metadata": {},
   "outputs": [
    {
     "data": {
      "text/plain": [
       "<matplotlib.lines.Line2D at 0x7f259c856a00>"
      ]
     },
     "execution_count": 54,
     "metadata": {},
     "output_type": "execute_result"
    },
    {
     "data": {
      "image/png": "[encoded data removed]",
      "text/plain": [
       "<Figure size 640x480 with 1 Axes>"
      ]
     },
     "metadata": {},
     "output_type": "display_data"
    }
   ],
   "source": [
    "plt.imshow(pred_sigmoid)\n",
    "# vertical line at x=30\n",
    "plt.axvline(x=39, color='r', linestyle='-')"
   ]
  },
  {
   "cell_type": "code",
   "execution_count": 55,
   "id": "9d3d7f93",
   "metadata": {},
   "outputs": [
    {
     "data": {
      "text/plain": [
       "[<matplotlib.lines.Line2D at 0x7f259cab6640>]"
      ]
     },
     "execution_count": 55,
     "metadata": {},
     "output_type": "execute_result"
    },
    {
     "data": {
      "image/png": "[encoded data removed]",
      "text/plain": [
       "<Figure size 640x480 with 1 Axes>"
      ]
     },
     "metadata": {},
     "output_type": "display_data"
    }
   ],
   "source": [
    "plt.plot(pred_sigmoid[:, 39], marker='o')"
   ]
  }
 ],
 "metadata": {
  "kernelspec": {
   "display_name": "Python 3",
   "language": "python",
   "name": "python3"
  },
  "language_info": {
   "codemirror_mode": {
    "name": "ipython",
    "version": 3
   },
   "file_extension": ".py",
   "mimetype": "text/x-python",
   "name": "python",
   "nbconvert_exporter": "python",
   "pygments_lexer": "ipython3",
   "version": "3.9.16"
  },
  "papermill": {
   "default_parameters": {},
   "duration": 118.831912,
   "end_time": "2023-06-25T08:18:56.920762",
   "environment_variables": {},
   "exception": null,
   "input_path": "__notebook__.ipynb",
   "output_path": "__notebook__.ipynb",
   "parameters": {},
   "start_time": "2023-06-25T08:16:58.088850",
   "version": "2.4.0"
  },
  "widgets": {
   "application/vnd.jupyter.widget-state+json": {
    "state": {
     "09157387cf7642ea8a91f1251bd64878": {
      "model_module": "@jupyter-widgets/controls",
      "model_module_version": "1.5.0",
      "model_name": "ProgressStyleModel",
      "state": {
       "_model_module": "@jupyter-widgets/controls",
       "_model_module_version": "1.5.0",
       "_model_name": "ProgressStyleModel",
       "_view_count": null,
       "_view_module": "@jupyter-widgets/base",
       "_view_module_version": "1.2.0",
       "_view_name": "StyleView",
       "bar_color": null,
       "description_width": ""
      }
     },
     "176fa2117bc643e6bc01855fbb60fa83": {
      "model_module": "@jupyter-widgets/base",
      "model_module_version": "1.2.0",
      "model_name": "LayoutModel",
      "state": {
       "_model_module": "@jupyter-widgets/base",
       "_model_module_version": "1.2.0",
       "_model_name": "LayoutModel",
       "_view_count": null,
       "_view_module": "@jupyter-widgets/base",
       "_view_module_version": "1.2.0",
       "_view_name": "LayoutView",
       "align_content": null,
       "align_items": null,
       "align_self": null,
       "border": null,
       "bottom": null,
       "display": null,
       "flex": null,
       "flex_flow": null,
       "grid_area": null,
       "grid_auto_columns": null,
       "grid_auto_flow": null,
       "grid_auto_rows": null,
       "grid_column": null,
       "grid_gap": null,
       "grid_row": null,
       "grid_template_areas": null,
       "grid_template_columns": null,
       "grid_template_rows": null,
       "height": null,
       "justify_content": null,
       "justify_items": null,
       "left": null,
       "margin": null,
       "max_height": null,
       "max_width": null,
       "min_height": null,
       "min_width": null,
       "object_fit": null,
       "object_position": null,
       "order": null,
       "overflow": null,
       "overflow_x": null,
       "overflow_y": null,
       "padding": null,
       "right": null,
       "top": null,
       "visibility": null,
       "width": null
      }
     },
     "1990e26737ed4412a168feceab89a76b": {
      "model_module": "@jupyter-widgets/controls",
      "model_module_version": "1.5.0",
      "model_name": "HBoxModel",
      "state": {
       "_dom_classes": [],
       "_model_module": "@jupyter-widgets/controls",
       "_model_module_version": "1.5.0",
       "_model_name": "HBoxModel",
       "_view_count": null,
       "_view_module": "@jupyter-widgets/controls",
       "_view_module_version": "1.5.0",
       "_view_name": "HBoxView",
       "box_style": "",
       "children": [
        "IPY_MODEL_23412cb71c7d466083fa36439486c7be",
        "IPY_MODEL_1dec2077b9d5485895eb1435f2019414",
        "IPY_MODEL_a5166c22758f4181b611aa4fac453449"
       ],
       "layout": "IPY_MODEL_44f935b54893456e9b311aba26dc3c74"
      }
     },
     "1dec2077b9d5485895eb1435f2019414": {
      "model_module": "@jupyter-widgets/controls",
      "model_module_version": "1.5.0",
      "model_name": "FloatProgressModel",
      "state": {
       "_dom_classes": [],
       "_model_module": "@jupyter-widgets/controls",
       "_model_module_version": "1.5.0",
       "_model_name": "FloatProgressModel",
       "_view_count": null,
       "_view_module": "@jupyter-widgets/controls",
       "_view_module_version": "1.5.0",
       "_view_name": "ProgressView",
       "bar_style": "success",
       "description": "",
       "description_tooltip": null,
       "layout": "IPY_MODEL_176fa2117bc643e6bc01855fbb60fa83",
       "max": 1,
       "min": 0,
       "orientation": "horizontal",
       "style": "IPY_MODEL_09157387cf7642ea8a91f1251bd64878",
       "value": 1
      }
     },
     "23412cb71c7d466083fa36439486c7be": {
      "model_module": "@jupyter-widgets/controls",
      "model_module_version": "1.5.0",
      "model_name": "HTMLModel",
      "state": {
       "_dom_classes": [],
       "_model_module": "@jupyter-widgets/controls",
       "_model_module_version": "1.5.0",
       "_model_name": "HTMLModel",
       "_view_count": null,
       "_view_module": "@jupyter-widgets/controls",
       "_view_module_version": "1.5.0",
       "_view_name": "HTMLView",
       "description": "",
       "description_tooltip": null,
       "layout": "IPY_MODEL_d2376cdc116a4a5cb414c4928a4d2f39",
       "placeholder": "​",
       "style": "IPY_MODEL_97a90398452d4db39f388e1e1bce539e",
       "value": "100%"
      }
     },
     "23a41155e136489db06eeb75d9d511cd": {
      "model_module": "@jupyter-widgets/controls",
      "model_module_version": "1.5.0",
      "model_name": "HTMLModel",
      "state": {
       "_dom_classes": [],
       "_model_module": "@jupyter-widgets/controls",
       "_model_module_version": "1.5.0",
       "_model_name": "HTMLModel",
       "_view_count": null,
       "_view_module": "@jupyter-widgets/controls",
       "_view_module_version": "1.5.0",
       "_view_name": "HTMLView",
       "description": "",
       "description_tooltip": null,
       "layout": "IPY_MODEL_a0af7320462d4f7390013dac19f06c40",
       "placeholder": "​",
       "style": "IPY_MODEL_732a0fb5913047f6af233f5fee6cd923",
       "value": " 293/293 [00:31&lt;00:00,  9.54it/s]"
      }
     },
     "44f935b54893456e9b311aba26dc3c74": {
      "model_module": "@jupyter-widgets/base",
      "model_module_version": "1.2.0",
      "model_name": "LayoutModel",
      "state": {
       "_model_module": "@jupyter-widgets/base",
       "_model_module_version": "1.2.0",
       "_model_name": "LayoutModel",
       "_view_count": null,
       "_view_module": "@jupyter-widgets/base",
       "_view_module_version": "1.2.0",
       "_view_name": "LayoutView",
       "align_content": null,
       "align_items": null,
       "align_self": null,
       "border": null,
       "bottom": null,
       "display": null,
       "flex": null,
       "flex_flow": null,
       "grid_area": null,
       "grid_auto_columns": null,
       "grid_auto_flow": null,
       "grid_auto_rows": null,
       "grid_column": null,
       "grid_gap": null,
       "grid_row": null,
       "grid_template_areas": null,
       "grid_template_columns": null,
       "grid_template_rows": null,
       "height": null,
       "justify_content": null,
       "justify_items": null,
       "left": null,
       "margin": null,
       "max_height": null,
       "max_width": null,
       "min_height": null,
       "min_width": null,
       "object_fit": null,
       "object_position": null,
       "order": null,
       "overflow": null,
       "overflow_x": null,
       "overflow_y": null,
       "padding": null,
       "right": null,
       "top": null,
       "visibility": null,
       "width": null
      }
     },
     "67b4f53be0184f37a82b9eeb3d4cfbf9": {
      "model_module": "@jupyter-widgets/controls",
      "model_module_version": "1.5.0",
      "model_name": "DescriptionStyleModel",
      "state": {
       "_model_module": "@jupyter-widgets/controls",
       "_model_module_version": "1.5.0",
       "_model_name": "DescriptionStyleModel",
       "_view_count": null,
       "_view_module": "@jupyter-widgets/base",
       "_view_module_version": "1.2.0",
       "_view_name": "StyleView",
       "description_width": ""
      }
     },
     "732a0fb5913047f6af233f5fee6cd923": {
      "model_module": "@jupyter-widgets/controls",
      "model_module_version": "1.5.0",
      "model_name": "DescriptionStyleModel",
      "state": {
       "_model_module": "@jupyter-widgets/controls",
       "_model_module_version": "1.5.0",
       "_model_name": "DescriptionStyleModel",
       "_view_count": null,
       "_view_module": "@jupyter-widgets/base",
       "_view_module_version": "1.2.0",
       "_view_name": "StyleView",
       "description_width": ""
      }
     },
     "8585f974c47841b9908ba239517e986f": {
      "model_module": "@jupyter-widgets/controls",
      "model_module_version": "1.5.0",
      "model_name": "ProgressStyleModel",
      "state": {
       "_model_module": "@jupyter-widgets/controls",
       "_model_module_version": "1.5.0",
       "_model_name": "ProgressStyleModel",
       "_view_count": null,
       "_view_module": "@jupyter-widgets/base",
       "_view_module_version": "1.2.0",
       "_view_name": "StyleView",
       "bar_color": null,
       "description_width": ""
      }
     },
     "87f9adde3dff4a51914b1633391298c7": {
      "model_module": "@jupyter-widgets/controls",
      "model_module_version": "1.5.0",
      "model_name": "FloatProgressModel",
      "state": {
       "_dom_classes": [],
       "_model_module": "@jupyter-widgets/controls",
       "_model_module_version": "1.5.0",
       "_model_name": "FloatProgressModel",
       "_view_count": null,
       "_view_module": "@jupyter-widgets/controls",
       "_view_module_version": "1.5.0",
       "_view_name": "ProgressView",
       "bar_style": "success",
       "description": "",
       "description_tooltip": null,
       "layout": "IPY_MODEL_ea4a1c3dbf1246d09aafb91179c09bd1",
       "max": 293,
       "min": 0,
       "orientation": "horizontal",
       "style": "IPY_MODEL_8585f974c47841b9908ba239517e986f",
       "value": 293
      }
     },
     "97a90398452d4db39f388e1e1bce539e": {
      "model_module": "@jupyter-widgets/controls",
      "model_module_version": "1.5.0",
      "model_name": "DescriptionStyleModel",
      "state": {
       "_model_module": "@jupyter-widgets/controls",
       "_model_module_version": "1.5.0",
       "_model_name": "DescriptionStyleModel",
       "_view_count": null,
       "_view_module": "@jupyter-widgets/base",
       "_view_module_version": "1.2.0",
       "_view_name": "StyleView",
       "description_width": ""
      }
     },
     "a0af7320462d4f7390013dac19f06c40": {
      "model_module": "@jupyter-widgets/base",
      "model_module_version": "1.2.0",
      "model_name": "LayoutModel",
      "state": {
       "_model_module": "@jupyter-widgets/base",
       "_model_module_version": "1.2.0",
       "_model_name": "LayoutModel",
       "_view_count": null,
       "_view_module": "@jupyter-widgets/base",
       "_view_module_version": "1.2.0",
       "_view_name": "LayoutView",
       "align_content": null,
       "align_items": null,
       "align_self": null,
       "border": null,
       "bottom": null,
       "display": null,
       "flex": null,
       "flex_flow": null,
       "grid_area": null,
       "grid_auto_columns": null,
       "grid_auto_flow": null,
       "grid_auto_rows": null,
       "grid_column": null,
       "grid_gap": null,
       "grid_row": null,
       "grid_template_areas": null,
       "grid_template_columns": null,
       "grid_template_rows": null,
       "height": null,
       "justify_content": null,
       "justify_items": null,
       "left": null,
       "margin": null,
       "max_height": null,
       "max_width": null,
       "min_height": null,
       "min_width": null,
       "object_fit": null,
       "object_position": null,
       "order": null,
       "overflow": null,
       "overflow_x": null,
       "overflow_y": null,
       "padding": null,
       "right": null,
       "top": null,
       "visibility": null,
       "width": null
      }
     },
     "a3089a91e23c43e6a5983a62455f6fbe": {
      "model_module": "@jupyter-widgets/controls",
      "model_module_version": "1.5.0",
      "model_name": "HTMLModel",
      "state": {
       "_dom_classes": [],
       "_model_module": "@jupyter-widgets/controls",
       "_model_module_version": "1.5.0",
       "_model_name": "HTMLModel",
       "_view_count": null,
       "_view_module": "@jupyter-widgets/controls",
       "_view_module_version": "1.5.0",
       "_view_name": "HTMLView",
       "description": "",
       "description_tooltip": null,
       "layout": "IPY_MODEL_ac4fc6de8a9f415baaaffd6a2eb18787",
       "placeholder": "​",
       "style": "IPY_MODEL_67b4f53be0184f37a82b9eeb3d4cfbf9",
       "value": "100%"
      }
     },
     "a5166c22758f4181b611aa4fac453449": {
      "model_module": "@jupyter-widgets/controls",
      "model_module_version": "1.5.0",
      "model_name": "HTMLModel",
      "state": {
       "_dom_classes": [],
       "_model_module": "@jupyter-widgets/controls",
       "_model_module_version": "1.5.0",
       "_model_name": "HTMLModel",
       "_view_count": null,
       "_view_module": "@jupyter-widgets/controls",
       "_view_module_version": "1.5.0",
       "_view_name": "HTMLView",
       "description": "",
       "description_tooltip": null,
       "layout": "IPY_MODEL_efec3941c4af4ebb9ad514ec6cfa351e",
       "placeholder": "​",
       "style": "IPY_MODEL_e512973f5d4b44aa910a55ff0f131195",
       "value": " 1/1 [00:00&lt;00:00,  8.70it/s]"
      }
     },
     "ac4fc6de8a9f415baaaffd6a2eb18787": {
      "model_module": "@jupyter-widgets/base",
      "model_module_version": "1.2.0",
      "model_name": "LayoutModel",
      "state": {
       "_model_module": "@jupyter-widgets/base",
       "_model_module_version": "1.2.0",
       "_model_name": "LayoutModel",
       "_view_count": null,
       "_view_module": "@jupyter-widgets/base",
       "_view_module_version": "1.2.0",
       "_view_name": "LayoutView",
       "align_content": null,
       "align_items": null,
       "align_self": null,
       "border": null,
       "bottom": null,
       "display": null,
       "flex": null,
       "flex_flow": null,
       "grid_area": null,
       "grid_auto_columns": null,
       "grid_auto_flow": null,
       "grid_auto_rows": null,
       "grid_column": null,
       "grid_gap": null,
       "grid_row": null,
       "grid_template_areas": null,
       "grid_template_columns": null,
       "grid_template_rows": null,
       "height": null,
       "justify_content": null,
       "justify_items": null,
       "left": null,
       "margin": null,
       "max_height": null,
       "max_width": null,
       "min_height": null,
       "min_width": null,
       "object_fit": null,
       "object_position": null,
       "order": null,
       "overflow": null,
       "overflow_x": null,
       "overflow_y": null,
       "padding": null,
       "right": null,
       "top": null,
       "visibility": null,
       "width": null
      }
     },
     "b7705fc34b284aa38bd8c1ac62d4344c": {
      "model_module": "@jupyter-widgets/controls",
      "model_module_version": "1.5.0",
      "model_name": "HBoxModel",
      "state": {
       "_dom_classes": [],
       "_model_module": "@jupyter-widgets/controls",
       "_model_module_version": "1.5.0",
       "_model_name": "HBoxModel",
       "_view_count": null,
       "_view_module": "@jupyter-widgets/controls",
       "_view_module_version": "1.5.0",
       "_view_name": "HBoxView",
       "box_style": "",
       "children": [
        "IPY_MODEL_a3089a91e23c43e6a5983a62455f6fbe",
        "IPY_MODEL_87f9adde3dff4a51914b1633391298c7",
        "IPY_MODEL_23a41155e136489db06eeb75d9d511cd"
       ],
       "layout": "IPY_MODEL_b7cadf7a16ad44ad8093eb2fb8ae2fd0"
      }
     },
     "b7cadf7a16ad44ad8093eb2fb8ae2fd0": {
      "model_module": "@jupyter-widgets/base",
      "model_module_version": "1.2.0",
      "model_name": "LayoutModel",
      "state": {
       "_model_module": "@jupyter-widgets/base",
       "_model_module_version": "1.2.0",
       "_model_name": "LayoutModel",
       "_view_count": null,
       "_view_module": "@jupyter-widgets/base",
       "_view_module_version": "1.2.0",
       "_view_name": "LayoutView",
       "align_content": null,
       "align_items": null,
       "align_self": null,
       "border": null,
       "bottom": null,
       "display": null,
       "flex": null,
       "flex_flow": null,
       "grid_area": null,
       "grid_auto_columns": null,
       "grid_auto_flow": null,
       "grid_auto_rows": null,
       "grid_column": null,
       "grid_gap": null,
       "grid_row": null,
       "grid_template_areas": null,
       "grid_template_columns": null,
       "grid_template_rows": null,
       "height": null,
       "justify_content": null,
       "justify_items": null,
       "left": null,
       "margin": null,
       "max_height": null,
       "max_width": null,
       "min_height": null,
       "min_width": null,
       "object_fit": null,
       "object_position": null,
       "order": null,
       "overflow": null,
       "overflow_x": null,
       "overflow_y": null,
       "padding": null,
       "right": null,
       "top": null,
       "visibility": null,
       "width": null
      }
     },
     "d2376cdc116a4a5cb414c4928a4d2f39": {
      "model_module": "@jupyter-widgets/base",
      "model_module_version": "1.2.0",
      "model_name": "LayoutModel",
      "state": {
       "_model_module": "@jupyter-widgets/base",
       "_model_module_version": "1.2.0",
       "_model_name": "LayoutModel",
       "_view_count": null,
       "_view_module": "@jupyter-widgets/base",
       "_view_module_version": "1.2.0",
       "_view_name": "LayoutView",
       "align_content": null,
       "align_items": null,
       "align_self": null,
       "border": null,
       "bottom": null,
       "display": null,
       "flex": null,
       "flex_flow": null,
       "grid_area": null,
       "grid_auto_columns": null,
       "grid_auto_flow": null,
       "grid_auto_rows": null,
       "grid_column": null,
       "grid_gap": null,
       "grid_row": null,
       "grid_template_areas": null,
       "grid_template_columns": null,
       "grid_template_rows": null,
       "height": null,
       "justify_content": null,
       "justify_items": null,
       "left": null,
       "margin": null,
       "max_height": null,
       "max_width": null,
       "min_height": null,
       "min_width": null,
       "object_fit": null,
       "object_position": null,
       "order": null,
       "overflow": null,
       "overflow_x": null,
       "overflow_y": null,
       "padding": null,
       "right": null,
       "top": null,
       "visibility": null,
       "width": null
      }
     },
     "e512973f5d4b44aa910a55ff0f131195": {
      "model_module": "@jupyter-widgets/controls",
      "model_module_version": "1.5.0",
      "model_name": "DescriptionStyleModel",
      "state": {
       "_model_module": "@jupyter-widgets/controls",
       "_model_module_version": "1.5.0",
       "_model_name": "DescriptionStyleModel",
       "_view_count": null,
       "_view_module": "@jupyter-widgets/base",
       "_view_module_version": "1.2.0",
       "_view_name": "StyleView",
       "description_width": ""
      }
     },
     "ea4a1c3dbf1246d09aafb91179c09bd1": {
      "model_module": "@jupyter-widgets/base",
      "model_module_version": "1.2.0",
      "model_name": "LayoutModel",
      "state": {
       "_model_module": "@jupyter-widgets/base",
       "_model_module_version": "1.2.0",
       "_model_name": "LayoutModel",
       "_view_count": null,
       "_view_module": "@jupyter-widgets/base",
       "_view_module_version": "1.2.0",
       "_view_name": "LayoutView",
       "align_content": null,
       "align_items": null,
       "align_self": null,
       "border": null,
       "bottom": null,
       "display": null,
       "flex": null,
       "flex_flow": null,
       "grid_area": null,
       "grid_auto_columns": null,
       "grid_auto_flow": null,
       "grid_auto_rows": null,
       "grid_column": null,
       "grid_gap": null,
       "grid_row": null,
       "grid_template_areas": null,
       "grid_template_columns": null,
       "grid_template_rows": null,
       "height": null,
       "justify_content": null,
       "justify_items": null,
       "left": null,
       "margin": null,
       "max_height": null,
       "max_width": null,
       "min_height": null,
       "min_width": null,
       "object_fit": null,
       "object_position": null,
       "order": null,
       "overflow": null,
       "overflow_x": null,
       "overflow_y": null,
       "padding": null,
       "right": null,
       "top": null,
       "visibility": null,
       "width": null
      }
     },
     "efec3941c4af4ebb9ad514ec6cfa351e": {
      "model_module": "@jupyter-widgets/base",
      "model_module_version": "1.2.0",
      "model_name": "LayoutModel",
      "state": {
       "_model_module": "@jupyter-widgets/base",
       "_model_module_version": "1.2.0",
       "_model_name": "LayoutModel",
       "_view_count": null,
       "_view_module": "@jupyter-widgets/base",
       "_view_module_version": "1.2.0",
       "_view_name": "LayoutView",
       "align_content": null,
       "align_items": null,
       "align_self": null,
       "border": null,
       "bottom": null,
       "display": null,
       "flex": null,
       "flex_flow": null,
       "grid_area": null,
       "grid_auto_columns": null,
       "grid_auto_flow": null,
       "grid_auto_rows": null,
       "grid_column": null,
       "grid_gap": null,
       "grid_row": null,
       "grid_template_areas": null,
       "grid_template_columns": null,
       "grid_template_rows": null,
       "height": null,
       "justify_content": null,
       "justify_items": null,
       "left": null,
       "margin": null,
       "max_height": null,
       "max_width": null,
       "min_height": null,
       "min_width": null,
       "object_fit": null,
       "object_position": null,
       "order": null,
       "overflow": null,
       "overflow_x": null,
       "overflow_y": null,
       "padding": null,
       "right": null,
       "top": null,
       "visibility": null,
       "width": null
      }
     }
    },
    "version_major": 2,
    "version_minor": 0
   }
  }
 },
 "nbformat": 4,
 "nbformat_minor": 5
}
